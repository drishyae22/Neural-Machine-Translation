{
 "cells": [
  {
   "cell_type": "markdown",
   "metadata": {
    "colab_type": "text",
    "id": "BMtQSb0A4i-e"
   },
   "source": [
    "# Introduction\n",
    "\n",
    "1. Neural Machine Translation (NMT) is the task of using artificial neural network models for translation from one language to the other.\n",
    "2. The NMT model generally consists of an encoder that encodes a source sentence into a fixed-length vector from which a decoder generates a translation.\n",
    "3. This problem can be thought as a prediction problem, where given a sequence of words in source language as input, task is to predict the output sequence of words in target language.\n",
    "4. The dataset comes from http://www.manythings.org/anki/, where you may find tab delimited bilingual sentence pairs in different files based on the source and target language of your choice.\n",
    "5. For this project, you need to use French - English language pairs just to evaluate the projects uniformly for all students."
   ]
  },
  {
   "cell_type": "markdown",
   "metadata": {
    "colab_type": "text",
    "id": "buPwfDQEcFBR"
   },
   "source": [
    "#Step-1: Download and clean the data\n",
    "1. Download the data as zip file and extract it to corresponding txt file. Read this txt file and prepare the list of pairs of language phrases.\n",
    "2. Now, we will nedd to clean these pairs. For cleaning the text, some of the operations for cleaning are:\n",
    "\n",
    "\n",
    "*   Remove the non printable charaters, if any\n",
    "*   Remove punctuations and non-alphabetic charaters\n",
    "* Convert to lowercase\n",
    "\n"
   ]
  },
  {
   "cell_type": "markdown",
   "metadata": {
    "colab_type": "text",
    "id": "q7ONs3_mC4hF"
   },
   "source": [
    "#Step-2: Split and prepare the data for training the model\n",
    "1. After cleaning the data, next you need to split the data in train and test.\n",
    "2. Then, you need to create separate tokenizer for both source language and target language.\n",
    "3. After creating the tokenizer, you need to encode and pad the input (source language) and output(target language) sequences w.r.t. their individual tokenizers and maximum sequence lengths.\n",
    "4. Here, in this problem you will essentially be predicting the words in target language, therefore output seuences will need to be converted in one hot encoding.\n"
   ]
  },
  {
   "cell_type": "markdown",
   "metadata": {
    "colab_type": "text",
    "id": "COi2bEcXErqU"
   },
   "source": [
    "#Step-3: Define and train the RNN based Encoder-Decoder model\n",
    "1. First, you need to define the sequential model consisting mainly of two parts Encoder and Decoder \n",
    "2. In Encoder, the input sequence shall be passed through an Embedding layer (to train the word embeddings for source language) and then the output from the Embedding layer may be passed through one or more RNN/LSTM layers.\n",
    "3. Now, to connect this Encoder to Decoder (yet to be defined), we can use RepeatVector layer. (This is because the shape of the output by Encoder is not same as expected shape of Input by Decoder)\n",
    "4. Now, stack up the Decoder, wherein you may add one or more RNN/LSTM layers and finally the output TimeDistributed Dense layer to get output separately by timesteps.\n",
    "5. Now, you have defined the model and now this can be trained on the training data, you prepared in last step. Here, you may play with the number of epochs, optimizer, batch size to get the optimum results."
   ]
  },
  {
   "cell_type": "markdown",
   "metadata": {
    "colab_type": "text",
    "id": "upGUYAzRIYad"
   },
   "source": [
    "#Step-4: Evaluating the model\n",
    "Use BLEU score for evaluating your model using NLTK library"
   ]
  },
  {
   "cell_type": "markdown",
   "metadata": {},
   "source": [
    "## Importing required modules"
   ]
  },
  {
   "cell_type": "code",
   "execution_count": 1,
   "metadata": {},
   "outputs": [],
   "source": [
    "import string\n",
    "from nltk.tokenize import word_tokenize\n",
    "import numpy as np\n",
    "import tensorflow as tf\n",
    "import keras\n",
    "from keras.preprocessing.text import Tokenizer\n",
    "from keras_preprocessing.sequence import pad_sequences\n",
    "from sklearn.model_selection import train_test_split\n",
    "from keras.models import Sequential\n",
    "from keras.layers import Embedding,Bidirectional,LSTM,Dense,RepeatVector,TimeDistributed\n",
    "from keras.optimizers import Adam\n",
    "from keras.callbacks import EarlyStopping,ModelCheckpoint\n",
    "from tensorflow.keras.utils import to_categorical\n",
    "from nltk.translate.bleu_score import SmoothingFunction,corpus_bleu\n",
    "smoothie = SmoothingFunction().method4"
   ]
  },
  {
   "cell_type": "markdown",
   "metadata": {},
   "source": [
    "## Reading the text file and cleaning it"
   ]
  },
  {
   "cell_type": "code",
   "execution_count": 3,
   "metadata": {},
   "outputs": [],
   "source": [
    "text=open(\"fra.txt\",\"r\").readlines()\n",
    "# text=text.lower()"
   ]
  },
  {
   "cell_type": "code",
   "execution_count": 4,
   "metadata": {},
   "outputs": [
    {
     "data": {
      "text/plain": [
       "['Go.\\tVa !\\tCC-BY 2.0 (France) Attribution: tatoeba.org #2877272 (CM) & #1158250 (Wittydev)\\n',\n",
       " 'Go.\\tMarche.\\tCC-BY 2.0 (France) Attribution: tatoeba.org #2877272 (CM) & #8090732 (Micsmithel)\\n',\n",
       " 'Go.\\tEn route !\\tCC-BY 2.0 (France) Attribution: tatoeba.org #2877272 (CM) & #8267435 (felix63)\\n',\n",
       " 'Go.\\tBouge !\\tCC-BY 2.0 (France) Attribution: tatoeba.org #2877272 (CM) & #9022935 (Micsmithel)\\n',\n",
       " 'Hi.\\tSalut !\\tCC-BY 2.0 (France) Attribution: tatoeba.org #538123 (CM) & #509819 (Aiji)\\n',\n",
       " 'Hi.\\tSalut.\\tCC-BY 2.0 (France) Attribution: tatoeba.org #538123 (CM) & #4320462 (gillux)\\n',\n",
       " 'Run!\\tCoursâ€¯!\\tCC-BY 2.0 (France) Attribution: tatoeba.org #906328 (papabear) & #906331 (sacredceltic)\\n',\n",
       " 'Run!\\tCourezâ€¯!\\tCC-BY 2.0 (France) Attribution: tatoeba.org #906328 (papabear) & #906332 (sacredceltic)\\n',\n",
       " 'Run!\\tPrenez vos jambes Ã\\xa0 vos cous !\\tCC-BY 2.0 (France) Attribution: tatoeba.org #906328 (papabear) & #2077449 (sacredceltic)\\n',\n",
       " 'Run!\\tFile !\\tCC-BY 2.0 (France) Attribution: tatoeba.org #906328 (papabear) & #2077454 (sacredceltic)\\n',\n",
       " 'Run!\\tFilez !\\tCC-BY 2.0 (France) Attribution: tatoeba.org #906328 (papabear) & #2077455 (sacredceltic)\\n',\n",
       " 'Run!\\tCours !\\tCC-BY 2.0 (France) Attribution: tatoeba.org #906328 (papabear) & #4580779 (franlexcois)\\n',\n",
       " 'Run!\\tFuyez !\\tCC-BY 2.0 (France) Attribution: tatoeba.org #906328 (papabear) & #7957917 (Micsmithel)\\n',\n",
       " 'Run!\\tFuyons !\\tCC-BY 2.0 (France) Attribution: tatoeba.org #906328 (papabear) & #7957918 (Micsmithel)\\n',\n",
       " 'Run.\\tCoursâ€¯!\\tCC-BY 2.0 (France) Attribution: tatoeba.org #4008918 (JSakuragi) & #906331 (sacredceltic)\\n',\n",
       " 'Run.\\tCourezâ€¯!\\tCC-BY 2.0 (France) Attribution: tatoeba.org #4008918 (JSakuragi) & #906332 (sacredceltic)\\n',\n",
       " 'Run.\\tPrenez vos jambes Ã\\xa0 vos cous !\\tCC-BY 2.0 (France) Attribution: tatoeba.org #4008918 (JSakuragi) & #2077449 (sacredceltic)\\n',\n",
       " 'Run.\\tFile !\\tCC-BY 2.0 (France) Attribution: tatoeba.org #4008918 (JSakuragi) & #2077454 (sacredceltic)\\n',\n",
       " 'Run.\\tFilez !\\tCC-BY 2.0 (France) Attribution: tatoeba.org #4008918 (JSakuragi) & #2077455 (sacredceltic)\\n',\n",
       " 'Run.\\tCours !\\tCC-BY 2.0 (France) Attribution: tatoeba.org #4008918 (JSakuragi) & #4580779 (franlexcois)\\n',\n",
       " 'Run.\\tFuyez !\\tCC-BY 2.0 (France) Attribution: tatoeba.org #4008918 (JSakuragi) & #7957917 (Micsmithel)\\n',\n",
       " 'Run.\\tFuyons !\\tCC-BY 2.0 (France) Attribution: tatoeba.org #4008918 (JSakuragi) & #7957918 (Micsmithel)\\n',\n",
       " 'Who?\\tQui ?\\tCC-BY 2.0 (France) Attribution: tatoeba.org #2083030 (CK) & #4366796 (gillux)\\n',\n",
       " 'Wow!\\tÃ‡a alorsâ€¯!\\tCC-BY 2.0 (France) Attribution: tatoeba.org #52027 (Zifre) & #374631 (zmoo)\\n',\n",
       " 'Wow!\\tWaouhÂ\\xa0!\\tCC-BY 2.0 (France) Attribution: tatoeba.org #52027 (Zifre) & #10700379 (AutoBot)\\n',\n",
       " 'Wow!\\tWahÂ\\xa0!\\tCC-BY 2.0 (France) Attribution: tatoeba.org #52027 (Zifre) & #10700380 (AutoBot)\\n',\n",
       " 'Duck!\\tÃ€ terreÂ\\xa0!\\tCC-BY 2.0 (France) Attribution: tatoeba.org #280158 (CM) & #6288793 (Whidou)\\n',\n",
       " 'Duck!\\tBaisse-toiÂ\\xa0!\\tCC-BY 2.0 (France) Attribution: tatoeba.org #280158 (CM) & #6288797 (Whidou)\\n',\n",
       " 'Duck!\\tBaissez-vousÂ\\xa0!\\tCC-BY 2.0 (France) Attribution: tatoeba.org #280158 (CM) & #6288799 (Whidou)\\n',\n",
       " 'Fire!\\tAu feu !\\tCC-BY 2.0 (France) Attribution: tatoeba.org #1829639 (Spamster) & #4627939 (sacredceltic)\\n',\n",
       " \"Help!\\tÃ€ l'aideâ€¯!\\tCC-BY 2.0 (France) Attribution: tatoeba.org #435084 (lukaszpp) & #128430 (sysko)\\n\",\n",
       " 'Hide.\\tCache-toi.\\tCC-BY 2.0 (France) Attribution: tatoeba.org #8907581 (CK) & #9934893 (codl)\\n',\n",
       " 'Hide.\\tCachez-vous.\\tCC-BY 2.0 (France) Attribution: tatoeba.org #8907581 (CK) & #9934894 (codl)\\n',\n",
       " 'Jump!\\tSaute.\\tCC-BY 2.0 (France) Attribution: tatoeba.org #1102981 (jamessilver) & #2416938 (Micsmithel)\\n',\n",
       " 'Jump.\\tSaute.\\tCC-BY 2.0 (France) Attribution: tatoeba.org #631038 (Shishir) & #2416938 (Micsmithel)\\n',\n",
       " 'Stop!\\tÃ‡a suffitâ€¯!\\tCC-BY 2.0 (France) Attribution: tatoeba.org #448320 (CM) & #516030 (Goofy)\\n',\n",
       " 'Stop!\\tStopâ€¯!\\tCC-BY 2.0 (France) Attribution: tatoeba.org #448320 (CM) & #626567 (U2FS)\\n',\n",
       " 'Stop!\\tArrÃªte-toi !\\tCC-BY 2.0 (France) Attribution: tatoeba.org #448320 (CM) & #1157663 (sacredceltic)\\n',\n",
       " 'Wait!\\tAttends !\\tCC-BY 2.0 (France) Attribution: tatoeba.org #1744314 (belgavox) & #1157682 (sacredceltic)\\n',\n",
       " 'Wait!\\tAttendez !\\tCC-BY 2.0 (France) Attribution: tatoeba.org #1744314 (belgavox) & #1157684 (sacredceltic)\\n',\n",
       " 'Wait!\\tAttendez.\\tCC-BY 2.0 (France) Attribution: tatoeba.org #1744314 (belgavox) & #7693749 (Micsmithel)\\n',\n",
       " 'Wait.\\tAttends !\\tCC-BY 2.0 (France) Attribution: tatoeba.org #3048304 (camilozeta) & #1157682 (sacredceltic)\\n',\n",
       " 'Wait.\\tAttendez !\\tCC-BY 2.0 (France) Attribution: tatoeba.org #3048304 (camilozeta) & #1157684 (sacredceltic)\\n',\n",
       " 'Wait.\\tAttends.\\tCC-BY 2.0 (France) Attribution: tatoeba.org #3048304 (camilozeta) & #5137155 (gege_veggie)\\n',\n",
       " 'Wait.\\tAttendez.\\tCC-BY 2.0 (France) Attribution: tatoeba.org #3048304 (camilozeta) & #7693749 (Micsmithel)\\n',\n",
       " 'Begin.\\tCommencez.\\tCC-BY 2.0 (France) Attribution: tatoeba.org #6102432 (mailohilohi) & #7956660 (Micsmithel)\\n',\n",
       " 'Begin.\\tCommence.\\tCC-BY 2.0 (France) Attribution: tatoeba.org #6102432 (mailohilohi) & #7957931 (Micsmithel)\\n',\n",
       " 'Go on.\\tPoursuis.\\tCC-BY 2.0 (France) Attribution: tatoeba.org #2230774 (CK) & #588132 (sacredceltic)\\n',\n",
       " 'Go on.\\tContinuez.\\tCC-BY 2.0 (France) Attribution: tatoeba.org #2230774 (CK) & #6463161 (Aiji)\\n',\n",
       " 'Go on.\\tPoursuivez.\\tCC-BY 2.0 (France) Attribution: tatoeba.org #2230774 (CK) & #6463162 (Aiji)\\n',\n",
       " 'Hello!\\tBonjour !\\tCC-BY 2.0 (France) Attribution: tatoeba.org #373330 (CK) & #373345 (Aiji)\\n',\n",
       " 'Hello!\\tSalut !\\tCC-BY 2.0 (France) Attribution: tatoeba.org #373330 (CK) & #509819 (Aiji)\\n',\n",
       " 'I see.\\tJe comprends.\\tCC-BY 2.0 (France) Attribution: tatoeba.org #2111796 (CK) & #1511205 (Hikari)\\n',\n",
       " 'I see.\\tAha.\\tCC-BY 2.0 (France) Attribution: tatoeba.org #2111796 (CK) & #8304768 (Micsmithel)\\n',\n",
       " \"I try.\\tJ'essaye.\\tCC-BY 2.0 (France) Attribution: tatoeba.org #20776 (CK) & #1133630 (nimfeo)\\n\",\n",
       " \"I won!\\tJ'ai gagnÃ© !\\tCC-BY 2.0 (France) Attribution: tatoeba.org #2005192 (CK) & #2005252 (sacredceltic)\\n\",\n",
       " \"I won!\\tJe l'ai emportÃ© !\\tCC-BY 2.0 (France) Attribution: tatoeba.org #2005192 (CK) & #2005253 (sacredceltic)\\n\",\n",
       " 'I won.\\tJâ€™ai gagnÃ©.\\tCC-BY 2.0 (France) Attribution: tatoeba.org #5828608 (CK) & #7700885 (sacredceltic)\\n',\n",
       " 'Oh no!\\tOh non !\\tCC-BY 2.0 (France) Attribution: tatoeba.org #1299275 (CK) & #1299284 (sacredceltic)\\n',\n",
       " 'Relax.\\tCalme-toi.\\tCC-BY 2.0 (France) Attribution: tatoeba.org #1722133 (shanghainese) & #458839 (sacredceltic)\\n',\n",
       " 'Relax.\\tDÃ©tends-toiâ€¯!\\tCC-BY 2.0 (France) Attribution: tatoeba.org #1722133 (shanghainese) & #492000 (sacredceltic)\\n',\n",
       " 'Relax.\\tDÃ©tendez-vousâ€¯!\\tCC-BY 2.0 (France) Attribution: tatoeba.org #1722133 (shanghainese) & #577646 (sacredceltic)\\n',\n",
       " 'Relax.\\tRelaxe, Maxâ€¯!\\tCC-BY 2.0 (France) Attribution: tatoeba.org #1722133 (shanghainese) & #1042506 (sacredceltic)\\n',\n",
       " 'Relax.\\tCool, Raoulâ€¯!\\tCC-BY 2.0 (France) Attribution: tatoeba.org #1722133 (shanghainese) & #1042509 (sacredceltic)\\n',\n",
       " 'Relax.\\tDu calmeâ€¯!\\tCC-BY 2.0 (France) Attribution: tatoeba.org #1722133 (shanghainese) & #1047578 (sacredceltic)\\n',\n",
       " 'Relax.\\tRelaxe !\\tCC-BY 2.0 (France) Attribution: tatoeba.org #1722133 (shanghainese) & #1083768 (sacredceltic)\\n',\n",
       " 'Relax.\\tCalmez-vous !\\tCC-BY 2.0 (France) Attribution: tatoeba.org #1722133 (shanghainese) & #1158349 (sacredceltic)\\n',\n",
       " 'Relax.\\tDÃ©tends-toi.\\tCC-BY 2.0 (France) Attribution: tatoeba.org #1722133 (shanghainese) & #1555857 (sacredceltic)\\n',\n",
       " 'Relax.\\tDÃ©tends-toi !\\tCC-BY 2.0 (France) Attribution: tatoeba.org #1722133 (shanghainese) & #1846151 (sacredceltic)\\n',\n",
       " 'Relax.\\tDu calme.\\tCC-BY 2.0 (France) Attribution: tatoeba.org #1722133 (shanghainese) & #7166556 (Micsmithel)\\n',\n",
       " 'Relax.\\tTranquille.\\tCC-BY 2.0 (France) Attribution: tatoeba.org #1722133 (shanghainese) & #9022929 (Micsmithel)\\n',\n",
       " 'Smile.\\tSouriezâ€¯!\\tCC-BY 2.0 (France) Attribution: tatoeba.org #2764108 (CK) & #460976 (sacredceltic)\\n',\n",
       " 'Smile.\\tSouris pour la camÃ©ra.\\tCC-BY 2.0 (France) Attribution: tatoeba.org #2764108 (CK) & #3430766 (Micsmithel)\\n',\n",
       " 'Smile.\\tSouriezâ€‰!\\tCC-BY 2.0 (France) Attribution: tatoeba.org #2764108 (CK) & #4890885 (sacredceltic)\\n',\n",
       " 'Sorry?\\tPardon ?\\tCC-BY 2.0 (France) Attribution: tatoeba.org #9020701 (Rawrren) & #4320357 (gillux)\\n',\n",
       " 'Attack!\\tAttaque !\\tCC-BY 2.0 (France) Attribution: tatoeba.org #1972610 (CK) & #1973495 (sacredceltic)\\n',\n",
       " 'Attack!\\tAttaquez !\\tCC-BY 2.0 (France) Attribution: tatoeba.org #1972610 (CK) & #1973496 (sacredceltic)\\n',\n",
       " \"Attack!\\tÃ€ l'attaque !\\tCC-BY 2.0 (France) Attribution: tatoeba.org #1972610 (CK) & #8982329 (Micsmithel)\\n\",\n",
       " \"Attack!\\tÃ€ l'attaqueÂ\\xa0!\\tCC-BY 2.0 (France) Attribution: tatoeba.org #1972610 (CK) & #10834342 (Fenrir)\\n\",\n",
       " 'Buy it.\\tAchetez-la !\\tCC-BY 2.0 (France) Attribution: tatoeba.org #10016573 (ddnktr) & #1084150 (nimfeo)\\n',\n",
       " 'Buy it.\\tAchÃ¨te-le !\\tCC-BY 2.0 (France) Attribution: tatoeba.org #10016573 (ddnktr) & #5800098 (Toynop)\\n',\n",
       " 'Buy it.\\tAchetez-le !\\tCC-BY 2.0 (France) Attribution: tatoeba.org #10016573 (ddnktr) & #6739631 (GB3)\\n',\n",
       " 'Buy it.\\tAchÃ¨te-la !\\tCC-BY 2.0 (France) Attribution: tatoeba.org #10016573 (ddnktr) & #6739643 (GB3)\\n',\n",
       " 'Cheers!\\tSantÃ© !\\tCC-BY 2.0 (France) Attribution: tatoeba.org #487006 (human600) & #9385 (sacredceltic)\\n',\n",
       " 'Cheers!\\tÃ€ votre santÃ© !\\tCC-BY 2.0 (France) Attribution: tatoeba.org #487006 (human600) & #11581 (Lulantis)\\n',\n",
       " 'Cheers!\\tMerci !\\tCC-BY 2.0 (France) Attribution: tatoeba.org #487006 (human600) & #374826 (sysko)\\n',\n",
       " 'Cheers!\\tTchin-tchin !\\tCC-BY 2.0 (France) Attribution: tatoeba.org #487006 (human600) & #6036027 (PERCE_NEIGE)\\n',\n",
       " 'Eat it.\\tMangez-le.\\tCC-BY 2.0 (France) Attribution: tatoeba.org #4768107 (garborg) & #8974747 (Micsmithel)\\n',\n",
       " 'Eat it.\\tMange-le.\\tCC-BY 2.0 (France) Attribution: tatoeba.org #4768107 (garborg) & #8974748 (Micsmithel)\\n',\n",
       " 'Get up.\\tLÃ¨ve-toi.\\tCC-BY 2.0 (France) Attribution: tatoeba.org #896158 (pauldhunt) & #886122 (U2FS)\\n',\n",
       " 'Get up.\\tLÃ¨ve-toi !\\tCC-BY 2.0 (France) Attribution: tatoeba.org #896158 (pauldhunt) & #1084156 (nimfeo)\\n',\n",
       " 'Get up.\\tDebout.\\tCC-BY 2.0 (France) Attribution: tatoeba.org #896158 (pauldhunt) & #7938998 (Micsmithel)\\n',\n",
       " 'Go now.\\tVa, maintenant.\\tCC-BY 2.0 (France) Attribution: tatoeba.org #2230771 (CK) & #6468587 (Aiji)\\n',\n",
       " 'Go now.\\tAllez-y maintenant.\\tCC-BY 2.0 (France) Attribution: tatoeba.org #2230771 (CK) & #6468588 (Aiji)\\n',\n",
       " 'Go now.\\tVas-y maintenant.\\tCC-BY 2.0 (France) Attribution: tatoeba.org #2230771 (CK) & #6468589 (Aiji)\\n',\n",
       " \"Got it!\\tJ'ai pigÃ© !\\tCC-BY 2.0 (France) Attribution: tatoeba.org #320484 (CM) & #2368356 (sacredceltic)\\n\",\n",
       " 'Got it!\\tCompris !\\tCC-BY 2.0 (France) Attribution: tatoeba.org #320484 (CM) & #2368357 (sacredceltic)\\n',\n",
       " 'Got it!\\tAha !\\tCC-BY 2.0 (France) Attribution: tatoeba.org #320484 (CM) & #8304762 (Micsmithel)\\n',\n",
       " 'Got it?\\tPigÃ©â€¯?\\tCC-BY 2.0 (France) Attribution: tatoeba.org #455353 (CM) & #455358 (qdii)\\n',\n",
       " 'Got it?\\tComprisâ€¯?\\tCC-BY 2.0 (France) Attribution: tatoeba.org #455353 (CM) & #455605 (chtof)\\n',\n",
       " \"Got it?\\tT'as captÃ©â€¯?\\tCC-BY 2.0 (France) Attribution: tatoeba.org #455353 (CM) & #536561 (sacredceltic)\\n\",\n",
       " 'Hop in.\\tMonte.\\tCC-BY 2.0 (France) Attribution: tatoeba.org #1111548 (Scott) & #1111572 (sacredceltic)\\n',\n",
       " 'Hop in.\\tMontez.\\tCC-BY 2.0 (France) Attribution: tatoeba.org #1111548 (Scott) & #1111573 (sacredceltic)\\n',\n",
       " 'Hug me.\\tSerre-moi dans tes bras !\\tCC-BY 2.0 (France) Attribution: tatoeba.org #1852504 (CK) & #1846386 (sacredceltic)\\n',\n",
       " 'Hug me.\\tSerrez-moi dans vos bras !\\tCC-BY 2.0 (France) Attribution: tatoeba.org #1852504 (CK) & #1846388 (sacredceltic)\\n',\n",
       " 'I fell.\\tJe suis tombÃ©e.\\tCC-BY 2.0 (France) Attribution: tatoeba.org #3824714 (CK) & #4678646 (sacredceltic)\\n',\n",
       " 'I fell.\\tJe suis tombÃ©.\\tCC-BY 2.0 (France) Attribution: tatoeba.org #3824714 (CK) & #4678647 (sacredceltic)\\n',\n",
       " \"I fled.\\tJ'ai fui.\\tCC-BY 2.0 (France) Attribution: tatoeba.org #8397688 (CK) & #8984443 (Micsmithel)\\n\",\n",
       " 'I knit.\\tJe tricote.\\tCC-BY 2.0 (France) Attribution: tatoeba.org #5828609 (CK) & #9556682 (Micsmithel)\\n',\n",
       " 'I know.\\tJe sais.\\tCC-BY 2.0 (France) Attribution: tatoeba.org #319990 (CK) & #134976 (sacredceltic)\\n',\n",
       " 'I left.\\tJe suis parti.\\tCC-BY 2.0 (France) Attribution: tatoeba.org #2307509 (erikspen) & #2307644 (sacredceltic)\\n',\n",
       " 'I left.\\tJe suis partie.\\tCC-BY 2.0 (France) Attribution: tatoeba.org #2307509 (erikspen) & #2307645 (sacredceltic)\\n',\n",
       " \"I lied.\\tJ'ai menti.\\tCC-BY 2.0 (France) Attribution: tatoeba.org #3935374 (gianich73) & #7581897 (Micsmithel)\\n\",\n",
       " \"I lost.\\tJ'ai perdu.\\tCC-BY 2.0 (France) Attribution: tatoeba.org #1755073 (Eldad) & #4678706 (sacredceltic)\\n\",\n",
       " 'I paid.\\tJe payais.\\tCC-BY 2.0 (France) Attribution: tatoeba.org #5828610 (CK) & #7563048 (Micsmithel)\\n',\n",
       " 'I paid.\\tJe payai.\\tCC-BY 2.0 (France) Attribution: tatoeba.org #5828610 (CK) & #7563049 (Micsmithel)\\n',\n",
       " 'I paid.\\tJâ€™ai payÃ©.\\tCC-BY 2.0 (France) Attribution: tatoeba.org #5828610 (CK) & #7700893 (sacredceltic)\\n',\n",
       " 'I pass.\\tJe passe.\\tCC-BY 2.0 (France) Attribution: tatoeba.org #9850637 (AlanF_US) & #2392473 (sacredceltic)\\n',\n",
       " \"I quit.\\tJ'arrÃªte.\\tCC-BY 2.0 (France) Attribution: tatoeba.org #731636 (Eldad) & #7581976 (Micsmithel)\\n\",\n",
       " \"I quit.\\tJ'ai arrÃªtÃ©.\\tCC-BY 2.0 (France) Attribution: tatoeba.org #731636 (Eldad) & #10015091 (Micsmithel)\\n\",\n",
       " \"I'm 19.\\tJ'ai 19 ans.\\tCC-BY 2.0 (France) Attribution: tatoeba.org #442400 (sacredceltic) & #9994 (sacredceltic)\\n\",\n",
       " \"I'm OK.\\tJe vais bien.\\tCC-BY 2.0 (France) Attribution: tatoeba.org #433763 (CK) & #488439 (Anthaus)\\n\",\n",
       " \"I'm OK.\\tÃ‡a va.\\tCC-BY 2.0 (France) Attribution: tatoeba.org #433763 (CK) & #744360 (Christiane)\\n\",\n",
       " 'Listen.\\tÃ‰coutez !\\tCC-BY 2.0 (France) Attribution: tatoeba.org #1913088 (CK) & #827098 (sacredceltic)\\n',\n",
       " \"No way!\\tC'est pas possibleâ€¯!\\tCC-BY 2.0 (France) Attribution: tatoeba.org #2175 (CM) & #3316 (trotter)\\n\",\n",
       " 'No way!\\tImpossibleâ€¯!\\tCC-BY 2.0 (France) Attribution: tatoeba.org #2175 (CM) & #3997 (TRANG)\\n',\n",
       " 'No way!\\tHors de questionâ€¯!\\tCC-BY 2.0 (France) Attribution: tatoeba.org #2175 (CM) & #9678 (sysko)\\n',\n",
       " 'No way!\\tEn aucun cas.\\tCC-BY 2.0 (France) Attribution: tatoeba.org #2175 (CM) & #553061 (sacredceltic)\\n',\n",
       " 'No way!\\tSans faÃ§onsâ€¯!\\tCC-BY 2.0 (France) Attribution: tatoeba.org #2175 (CM) & #560949 (sacredceltic)\\n',\n",
       " 'No way!\\tMon Å“ilâ€¯!\\tCC-BY 2.0 (France) Attribution: tatoeba.org #2175 (CM) & #577519 (zmoo)\\n',\n",
       " \"No way!\\tC'est hors de question !\\tCC-BY 2.0 (France) Attribution: tatoeba.org #2175 (CM) & #1141489 (Rovo)\\n\",\n",
       " \"No way!\\tIl n'en est pas question !\\tCC-BY 2.0 (France) Attribution: tatoeba.org #2175 (CM) & #1481211 (Rovo)\\n\",\n",
       " \"No way!\\tC'est exclu !\\tCC-BY 2.0 (France) Attribution: tatoeba.org #2175 (CM) & #1673264 (sacredceltic)\\n\",\n",
       " 'No way!\\tEn aucune maniÃ¨re !\\tCC-BY 2.0 (France) Attribution: tatoeba.org #2175 (CM) & #2222344 (sacredceltic)\\n',\n",
       " 'No way!\\tHors de question !\\tCC-BY 2.0 (France) Attribution: tatoeba.org #2175 (CM) & #3216912 (Dreamk33)\\n',\n",
       " 'Really?\\tVraimentâ€¯?\\tCC-BY 2.0 (France) Attribution: tatoeba.org #373216 (kotobaboke) & #135244 (gillux)\\n',\n",
       " 'Really?\\tVrai ?\\tCC-BY 2.0 (France) Attribution: tatoeba.org #373216 (kotobaboke) & #1158518 (sacredceltic)\\n',\n",
       " 'Really?\\tAh bon ?\\tCC-BY 2.0 (France) Attribution: tatoeba.org #373216 (kotobaboke) & #4722682 (gillux)\\n',\n",
       " 'Really?\\tAh vraiment ?\\tCC-BY 2.0 (France) Attribution: tatoeba.org #373216 (kotobaboke) & #7482694 (Micsmithel)\\n',\n",
       " 'Really?\\tVraiment ?\\tCC-BY 2.0 (France) Attribution: tatoeba.org #373216 (kotobaboke) & #8619820 (Micsmithel)\\n',\n",
       " 'Thanks!\\tMerci !\\tCC-BY 2.0 (France) Attribution: tatoeba.org #448645 (CK) & #374826 (sysko)\\n',\n",
       " 'Thanks.\\tJe te remercie.\\tCC-BY 2.0 (France) Attribution: tatoeba.org #2057650 (nava) & #7451 (sacredceltic)\\n',\n",
       " 'Thanks.\\tMerci !\\tCC-BY 2.0 (France) Attribution: tatoeba.org #2057650 (nava) & #374826 (sysko)\\n',\n",
       " 'Thanks.\\tMerci.\\tCC-BY 2.0 (France) Attribution: tatoeba.org #2057650 (nava) & #2302907 (Joelle)\\n',\n",
       " 'Try it.\\tEssaie.\\tCC-BY 2.0 (France) Attribution: tatoeba.org #4756252 (cairnhead) & #8690495 (Micsmithel)\\n',\n",
       " 'Try it.\\tEssayez.\\tCC-BY 2.0 (France) Attribution: tatoeba.org #4756252 (cairnhead) & #8690496 (Micsmithel)\\n',\n",
       " 'Try it.\\tEssaye.\\tCC-BY 2.0 (France) Attribution: tatoeba.org #4756252 (cairnhead) & #9558833 (Micsmithel)\\n',\n",
       " 'We try.\\tOn essaye.\\tCC-BY 2.0 (France) Attribution: tatoeba.org #247763 (CK) & #4533875 (pfpillon)\\n',\n",
       " 'We won.\\tNous avons gagnÃ©.\\tCC-BY 2.0 (France) Attribution: tatoeba.org #2107675 (CK) & #2109514 (sacredceltic)\\n',\n",
       " 'We won.\\tNous gagnÃ¢mes.\\tCC-BY 2.0 (France) Attribution: tatoeba.org #2107675 (CK) & #2109516 (sacredceltic)\\n',\n",
       " \"We won.\\tNous l'avons emportÃ©.\\tCC-BY 2.0 (France) Attribution: tatoeba.org #2107675 (CK) & #2109517 (sacredceltic)\\n\",\n",
       " \"We won.\\tNous l'emportÃ¢mes.\\tCC-BY 2.0 (France) Attribution: tatoeba.org #2107675 (CK) & #2109518 (sacredceltic)\\n\",\n",
       " 'Ask Tom.\\tDemande Ã\\xa0 Tom.\\tCC-BY 2.0 (France) Attribution: tatoeba.org #1954263 (CK) & #2013783 (Sbgodin)\\n',\n",
       " 'Ask him.\\tDemande-lui.\\tCC-BY 2.0 (France) Attribution: tatoeba.org #3919925 (CH) & #9024940 (Micsmithel)\\n',\n",
       " 'Awesome!\\tFantastiqueâ€¯!\\tCC-BY 2.0 (France) Attribution: tatoeba.org #433512 (CK) & #10876 (sacredceltic)\\n',\n",
       " 'Awesome!\\tSensass !\\tCC-BY 2.0 (France) Attribution: tatoeba.org #433512 (CK) & #8690499 (Micsmithel)\\n',\n",
       " 'Awesome!\\tTrop cool !\\tCC-BY 2.0 (France) Attribution: tatoeba.org #433512 (CK) & #10065758 (Aimi)\\n',\n",
       " 'Be calm.\\tSois calme !\\tCC-BY 2.0 (France) Attribution: tatoeba.org #1916317 (CK) & #1916590 (sacredceltic)\\n',\n",
       " 'Be calm.\\tSoyez calme !\\tCC-BY 2.0 (France) Attribution: tatoeba.org #1916317 (CK) & #1916591 (sacredceltic)\\n',\n",
       " 'Be calm.\\tSoyez calmes !\\tCC-BY 2.0 (France) Attribution: tatoeba.org #1916317 (CK) & #1916592 (sacredceltic)\\n',\n",
       " 'Be cool.\\tSois dÃ©tendu !\\tCC-BY 2.0 (France) Attribution: tatoeba.org #1860752 (CK) & #2077411 (sacredceltic)\\n',\n",
       " 'Be fair.\\tSois juste !\\tCC-BY 2.0 (France) Attribution: tatoeba.org #1916316 (CK) & #1916596 (sacredceltic)\\n',\n",
       " 'Be fair.\\tSoyez juste !\\tCC-BY 2.0 (France) Attribution: tatoeba.org #1916316 (CK) & #1916597 (sacredceltic)\\n',\n",
       " 'Be fair.\\tSoyez justes !\\tCC-BY 2.0 (France) Attribution: tatoeba.org #1916316 (CK) & #1916598 (sacredceltic)\\n',\n",
       " 'Be fair.\\tSois Ã©quitable !\\tCC-BY 2.0 (France) Attribution: tatoeba.org #1916316 (CK) & #1916599 (sacredceltic)\\n',\n",
       " 'Be fair.\\tSoyez Ã©quitable !\\tCC-BY 2.0 (France) Attribution: tatoeba.org #1916316 (CK) & #1916601 (sacredceltic)\\n',\n",
       " 'Be fair.\\tSoyez Ã©quitables !\\tCC-BY 2.0 (France) Attribution: tatoeba.org #1916316 (CK) & #1916603 (sacredceltic)\\n',\n",
       " 'Be fair.\\tSois honnÃªte.\\tCC-BY 2.0 (France) Attribution: tatoeba.org #1916316 (CK) & #7355980 (Micsmithel)\\n',\n",
       " 'Be fair.\\tSois sincÃ¨re.\\tCC-BY 2.0 (France) Attribution: tatoeba.org #1916316 (CK) & #7355982 (Micsmithel)\\n',\n",
       " 'Be fair.\\tSoyez honnÃªtes.\\tCC-BY 2.0 (France) Attribution: tatoeba.org #1916316 (CK) & #7355994 (Micsmithel)\\n',\n",
       " 'Be kind.\\tSois gentil.\\tCC-BY 2.0 (France) Attribution: tatoeba.org #1916315 (CK) & #1916607 (sacredceltic)\\n',\n",
       " 'Be nice.\\tSois gentil !\\tCC-BY 2.0 (France) Attribution: tatoeba.org #1916314 (CK) & #2077412 (sacredceltic)\\n',\n",
       " 'Be nice.\\tSois gentille !\\tCC-BY 2.0 (France) Attribution: tatoeba.org #1916314 (CK) & #2077413 (sacredceltic)\\n',\n",
       " 'Be nice.\\tSoyez gentil !\\tCC-BY 2.0 (France) Attribution: tatoeba.org #1916314 (CK) & #2077414 (sacredceltic)\\n',\n",
       " 'Be nice.\\tSoyez gentille !\\tCC-BY 2.0 (France) Attribution: tatoeba.org #1916314 (CK) & #2077415 (sacredceltic)\\n',\n",
       " 'Be nice.\\tSoyez gentils !\\tCC-BY 2.0 (France) Attribution: tatoeba.org #1916314 (CK) & #2077416 (sacredceltic)\\n',\n",
       " 'Be nice.\\tSoyez gentilles !\\tCC-BY 2.0 (France) Attribution: tatoeba.org #1916314 (CK) & #2077417 (sacredceltic)\\n',\n",
       " 'Beat it.\\tVa te faire foutre !\\tCC-BY 2.0 (France) Attribution: tatoeba.org #37902 (CM) & #403910 (trotter)\\n',\n",
       " 'Beat it.\\tDÃ©gageâ€¯!\\tCC-BY 2.0 (France) Attribution: tatoeba.org #37902 (CM) & #844993 (Corvus)\\n',\n",
       " 'Beat it.\\tCasse-toi.\\tCC-BY 2.0 (France) Attribution: tatoeba.org #37902 (CM) & #956472 (sysko)\\n',\n",
       " 'Beat it.\\tPars !\\tCC-BY 2.0 (France) Attribution: tatoeba.org #37902 (CM) & #1157650 (sacredceltic)\\n',\n",
       " 'Beat it.\\tFoutez le camp !\\tCC-BY 2.0 (France) Attribution: tatoeba.org #37902 (CM) & #1183768 (sacredceltic)\\n',\n",
       " 'Beat it.\\tFous le camp !\\tCC-BY 2.0 (France) Attribution: tatoeba.org #37902 (CM) & #1183772 (sacredceltic)\\n',\n",
       " \"Beat it.\\tPars d'ici.\\tCC-BY 2.0 (France) Attribution: tatoeba.org #37902 (CM) & #1226673 (rene1596)\\n\",\n",
       " 'Beat it.\\tVa-tâ€™enÂ\\xa0!\\tCC-BY 2.0 (France) Attribution: tatoeba.org #37902 (CM) & #1271062 (sacredceltic)\\n',\n",
       " 'Beat it.\\tDisparais !\\tCC-BY 2.0 (France) Attribution: tatoeba.org #37902 (CM) & #1312667 (sacredceltic)\\n',\n",
       " 'Beat it.\\tFiche le camp.\\tCC-BY 2.0 (France) Attribution: tatoeba.org #37902 (CM) & #2981662 (Blabla)\\n',\n",
       " 'Beat it.\\tTire-toi de lÃ\\xa0.\\tCC-BY 2.0 (France) Attribution: tatoeba.org #37902 (CM) & #3093606 (Blabla)\\n',\n",
       " 'Beat it.\\tCasse-toi de lÃ\\xa0.\\tCC-BY 2.0 (France) Attribution: tatoeba.org #37902 (CM) & #3136982 (gillux)\\n',\n",
       " 'Beat it.\\tOust !\\tCC-BY 2.0 (France) Attribution: tatoeba.org #37902 (CM) & #4321747 (gillux)\\n',\n",
       " 'Beat it.\\tDÃ©gage.\\tCC-BY 2.0 (France) Attribution: tatoeba.org #37902 (CM) & #5824885 (EvaFranska)\\n',\n",
       " \"Beat it.\\tFiche le camp d'ici.\\tCC-BY 2.0 (France) Attribution: tatoeba.org #37902 (CM) & #7044291 (Blabla)\\n\",\n",
       " 'Beat it.\\tDÃ©guerpissez.\\tCC-BY 2.0 (France) Attribution: tatoeba.org #37902 (CM) & #8090737 (Micsmithel)\\n',\n",
       " 'Beat it.\\tBouge !\\tCC-BY 2.0 (France) Attribution: tatoeba.org #37902 (CM) & #9022935 (Micsmithel)\\n',\n",
       " 'Beat it.\\tDÃ©campe !\\tCC-BY 2.0 (France) Attribution: tatoeba.org #37902 (CM) & #9025685 (Micsmithel)\\n',\n",
       " 'Burn it.\\tBrÃ»lez-le.\\tCC-BY 2.0 (France) Attribution: tatoeba.org #6049387 (mailohilohi) & #9252740 (Micsmithel)\\n',\n",
       " 'Burn it.\\tBrÃ»lez-la.\\tCC-BY 2.0 (France) Attribution: tatoeba.org #6049387 (mailohilohi) & #9252742 (Micsmithel)\\n',\n",
       " 'Burn it.\\tBrÃ»le-la.\\tCC-BY 2.0 (France) Attribution: tatoeba.org #6049387 (mailohilohi) & #9252744 (Micsmithel)\\n',\n",
       " 'Burn it.\\tBrÃ»le-le.\\tCC-BY 2.0 (France) Attribution: tatoeba.org #6049387 (mailohilohi) & #9252747 (Micsmithel)\\n',\n",
       " 'Bury it.\\tEnterrez-le.\\tCC-BY 2.0 (France) Attribution: tatoeba.org #6049389 (mailohilohi) & #9252781 (Micsmithel)\\n',\n",
       " 'Bury it.\\tEnterre-le.\\tCC-BY 2.0 (France) Attribution: tatoeba.org #6049389 (mailohilohi) & #9252785 (Micsmithel)\\n',\n",
       " 'Bury it.\\tEnterrez-la.\\tCC-BY 2.0 (France) Attribution: tatoeba.org #6049389 (mailohilohi) & #9252786 (Micsmithel)\\n',\n",
       " 'Bury it.\\tEnterre-la.\\tCC-BY 2.0 (France) Attribution: tatoeba.org #6049389 (mailohilohi) & #9252788 (Micsmithel)\\n',\n",
       " 'Call me.\\tAppelle-moi !\\tCC-BY 2.0 (France) Attribution: tatoeba.org #1553532 (CK) & #1803391 (sacredceltic)\\n',\n",
       " 'Call me.\\tAppelez-moiÂ\\xa0!\\tCC-BY 2.0 (France) Attribution: tatoeba.org #1553532 (CK) & #1803394 (sacredceltic)\\n',\n",
       " 'Call us.\\tAppelle-nous !\\tCC-BY 2.0 (France) Attribution: tatoeba.org #1916313 (CK) & #1922165 (sacredceltic)\\n',\n",
       " 'Call us.\\tAppelez-nous !\\tCC-BY 2.0 (France) Attribution: tatoeba.org #1916313 (CK) & #1922168 (sacredceltic)\\n',\n",
       " 'Come in.\\tEntrezâ€¯!\\tCC-BY 2.0 (France) Attribution: tatoeba.org #348091 (Hertz) & #440075 (franzmimm)\\n',\n",
       " 'Come in.\\tEntre.\\tCC-BY 2.0 (France) Attribution: tatoeba.org #348091 (Hertz) & #585174 (sacredceltic)\\n',\n",
       " 'Come in.\\tEntre !\\tCC-BY 2.0 (France) Attribution: tatoeba.org #348091 (Hertz) & #1157671 (sacredceltic)\\n',\n",
       " 'Come in.\\tEntrez !\\tCC-BY 2.0 (France) Attribution: tatoeba.org #348091 (Hertz) & #1157672 (sacredceltic)\\n',\n",
       " 'Come on!\\tAllezâ€¯!\\tCC-BY 2.0 (France) Attribution: tatoeba.org #24697 (CK) & #11608 (qdii)\\n',\n",
       " 'Come on!\\tEn avantâ€¯!\\tCC-BY 2.0 (France) Attribution: tatoeba.org #24697 (CK) & #975195 (sacredceltic)\\n',\n",
       " 'Come on!\\tAllons !\\tCC-BY 2.0 (France) Attribution: tatoeba.org #24697 (CK) & #1416041 (Aiji)\\n',\n",
       " \"Come on!\\tC'est pas vrai, dis !\\tCC-BY 2.0 (France) Attribution: tatoeba.org #24697 (CK) & #1473678 (Rovo)\\n\",\n",
       " 'Come on!\\tViensÂ\\xa0!\\tCC-BY 2.0 (France) Attribution: tatoeba.org #24697 (CK) & #1996169 (sacredceltic)\\n',\n",
       " 'Come on!\\tVenezâ€¯!\\tCC-BY 2.0 (France) Attribution: tatoeba.org #24697 (CK) & #2077418 (sacredceltic)\\n',\n",
       " 'Come on!\\tSecouez-vous !\\tCC-BY 2.0 (France) Attribution: tatoeba.org #24697 (CK) & #8676632 (Julien_PDC)\\n',\n",
       " 'Come on!\\tSecoue-toi !\\tCC-BY 2.0 (France) Attribution: tatoeba.org #24697 (CK) & #8676633 (Julien_PDC)\\n',\n",
       " 'Come on!\\tAllez, on y vaÂ\\xa0!\\tCC-BY 2.0 (France) Attribution: tatoeba.org #24697 (CK) & #10496811 (pkill)\\n',\n",
       " 'Come on.\\tAllez !\\tCC-BY 2.0 (France) Attribution: tatoeba.org #1954266 (CK) & #1996167 (sacredceltic)\\n',\n",
       " 'Come on.\\tViensÂ\\xa0!\\tCC-BY 2.0 (France) Attribution: tatoeba.org #1954266 (CK) & #1996169 (sacredceltic)\\n',\n",
       " 'Come on.\\tVenezâ€¯!\\tCC-BY 2.0 (France) Attribution: tatoeba.org #1954266 (CK) & #2077418 (sacredceltic)\\n',\n",
       " 'Drop it!\\tLaisse tomber !\\tCC-BY 2.0 (France) Attribution: tatoeba.org #1972621 (CK) & #1973430 (sacredceltic)\\n',\n",
       " 'Drop it!\\tLaissez tomber !\\tCC-BY 2.0 (France) Attribution: tatoeba.org #1972621 (CK) & #1973431 (sacredceltic)\\n',\n",
       " 'Drop it!\\tLaisse-le tomber !\\tCC-BY 2.0 (France) Attribution: tatoeba.org #1972621 (CK) & #1973433 (sacredceltic)\\n',\n",
       " 'Drop it!\\tLaissez-le tomber !\\tCC-BY 2.0 (France) Attribution: tatoeba.org #1972621 (CK) & #1973434 (sacredceltic)\\n',\n",
       " 'Fold it.\\tPliez-le.\\tCC-BY 2.0 (France) Attribution: tatoeba.org #6051416 (mailohilohi) & #10509395 (pkill)\\n',\n",
       " 'Fold it.\\tPlie-le.\\tCC-BY 2.0 (France) Attribution: tatoeba.org #6051416 (mailohilohi) & #10509396 (pkill)\\n',\n",
       " 'Fold it.\\tPliez-la.\\tCC-BY 2.0 (France) Attribution: tatoeba.org #6051416 (mailohilohi) & #10509397 (pkill)\\n',\n",
       " 'Fold it.\\tPlie-la.\\tCC-BY 2.0 (France) Attribution: tatoeba.org #6051416 (mailohilohi) & #10509398 (pkill)\\n',\n",
       " 'Get Tom.\\tVa chercher Tom.\\tCC-BY 2.0 (France) Attribution: tatoeba.org #1972633 (CK) & #7413924 (lbdx)\\n',\n",
       " 'Get out!\\tSors.\\tCC-BY 2.0 (France) Attribution: tatoeba.org #266790 (CK) & #9480 (sysko)\\n',\n",
       " 'Get out!\\tSortezâ€¯!\\tCC-BY 2.0 (France) Attribution: tatoeba.org #266790 (CK) & #128393 (Archibald)\\n',\n",
       " 'Get out!\\tDÃ©gageâ€¯!\\tCC-BY 2.0 (France) Attribution: tatoeba.org #266790 (CK) & #844993 (Corvus)\\n',\n",
       " 'Get out!\\tDisparaisâ€¯!\\tCC-BY 2.0 (France) Attribution: tatoeba.org #266790 (CK) & #883768 (sacredceltic)\\n',\n",
       " 'Get out!\\tCasse-toi.\\tCC-BY 2.0 (France) Attribution: tatoeba.org #266790 (CK) & #956472 (sysko)\\n',\n",
       " 'Get out!\\tDÃ©gagez !\\tCC-BY 2.0 (France) Attribution: tatoeba.org #266790 (CK) & #1112432 (sacredceltic)\\n',\n",
       " 'Get out!\\tSors !\\tCC-BY 2.0 (France) Attribution: tatoeba.org #266790 (CK) & #1157665 (sacredceltic)\\n',\n",
       " 'Get out!\\tSortez !\\tCC-BY 2.0 (France) Attribution: tatoeba.org #266790 (CK) & #1157669 (sacredceltic)\\n',\n",
       " 'Get out!\\tDÃ©gage !\\tCC-BY 2.0 (France) Attribution: tatoeba.org #266790 (CK) & #1183771 (sacredceltic)\\n',\n",
       " 'Get out!\\tDisparais !\\tCC-BY 2.0 (France) Attribution: tatoeba.org #266790 (CK) & #1312667 (sacredceltic)\\n',\n",
       " 'Get out!\\tDu balai !\\tCC-BY 2.0 (France) Attribution: tatoeba.org #266790 (CK) & #2271433 (sacredceltic)\\n',\n",
       " 'Get out!\\tFiche le camp.\\tCC-BY 2.0 (France) Attribution: tatoeba.org #266790 (CK) & #2981662 (Blabla)\\n',\n",
       " 'Get out!\\tOust !\\tCC-BY 2.0 (France) Attribution: tatoeba.org #266790 (CK) & #4321747 (gillux)\\n',\n",
       " \"Get out!\\tVers l'extÃ©rieur !\\tCC-BY 2.0 (France) Attribution: tatoeba.org #266790 (CK) & #4627841 (sacredceltic)\\n\",\n",
       " 'Get out!\\tFichez le camp !\\tCC-BY 2.0 (France) Attribution: tatoeba.org #266790 (CK) & #6071041 (Blabla)\\n',\n",
       " 'Get out!\\tSortez.\\tCC-BY 2.0 (France) Attribution: tatoeba.org #266790 (CK) & #7166325 (Micsmithel)\\n',\n",
       " 'Get out!\\tDÃ©campez !\\tCC-BY 2.0 (France) Attribution: tatoeba.org #266790 (CK) & #9025684 (Micsmithel)\\n',\n",
       " 'Get out!\\tDÃ©campe !\\tCC-BY 2.0 (France) Attribution: tatoeba.org #266790 (CK) & #9025685 (Micsmithel)\\n',\n",
       " 'Get out.\\tSors.\\tCC-BY 2.0 (France) Attribution: tatoeba.org #22016 (Eldad) & #9480 (sysko)\\n',\n",
       " 'Get out.\\tSortezâ€¯!\\tCC-BY 2.0 (France) Attribution: tatoeba.org #22016 (Eldad) & #128393 (Archibald)\\n',\n",
       " 'Get out.\\tDÃ©gageâ€¯!\\tCC-BY 2.0 (France) Attribution: tatoeba.org #22016 (Eldad) & #844993 (Corvus)\\n',\n",
       " 'Get out.\\tDisparaisâ€¯!\\tCC-BY 2.0 (France) Attribution: tatoeba.org #22016 (Eldad) & #883768 (sacredceltic)\\n',\n",
       " 'Get out.\\tCasse-toi.\\tCC-BY 2.0 (France) Attribution: tatoeba.org #22016 (Eldad) & #956472 (sysko)\\n',\n",
       " 'Get out.\\tDÃ©gagez !\\tCC-BY 2.0 (France) Attribution: tatoeba.org #22016 (Eldad) & #1112432 (sacredceltic)\\n',\n",
       " 'Get out.\\tSors !\\tCC-BY 2.0 (France) Attribution: tatoeba.org #22016 (Eldad) & #1157665 (sacredceltic)\\n',\n",
       " 'Get out.\\tSortez !\\tCC-BY 2.0 (France) Attribution: tatoeba.org #22016 (Eldad) & #1157669 (sacredceltic)\\n',\n",
       " 'Get out.\\tDisparais !\\tCC-BY 2.0 (France) Attribution: tatoeba.org #22016 (Eldad) & #1312667 (sacredceltic)\\n',\n",
       " 'Get out.\\tFiche le camp.\\tCC-BY 2.0 (France) Attribution: tatoeba.org #22016 (Eldad) & #2981662 (Blabla)\\n',\n",
       " 'Get out.\\tOust !\\tCC-BY 2.0 (France) Attribution: tatoeba.org #22016 (Eldad) & #4321747 (gillux)\\n',\n",
       " 'Get out.\\tSortez.\\tCC-BY 2.0 (France) Attribution: tatoeba.org #22016 (Eldad) & #7166325 (Micsmithel)\\n',\n",
       " 'Get out.\\tBouge !\\tCC-BY 2.0 (France) Attribution: tatoeba.org #22016 (Eldad) & #9022935 (Micsmithel)\\n',\n",
       " 'Get out.\\tDÃ©campez !\\tCC-BY 2.0 (France) Attribution: tatoeba.org #22016 (Eldad) & #9025684 (Micsmithel)\\n',\n",
       " 'Get out.\\tDÃ©campe !\\tCC-BY 2.0 (France) Attribution: tatoeba.org #22016 (Eldad) & #9025685 (Micsmithel)\\n',\n",
       " 'Go away!\\tDÃ©gageâ€¯!\\tCC-BY 2.0 (France) Attribution: tatoeba.org #433518 (CK) & #844993 (Corvus)\\n',\n",
       " 'Go away!\\tPars !\\tCC-BY 2.0 (France) Attribution: tatoeba.org #433518 (CK) & #1157650 (sacredceltic)\\n',\n",
       " 'Go away!\\tAllez-vous-enÂ\\xa0!\\tCC-BY 2.0 (France) Attribution: tatoeba.org #433518 (CK) & #1407068 (sacredceltic)\\n',\n",
       " 'Go away!\\tDÃ©guerpissez.\\tCC-BY 2.0 (France) Attribution: tatoeba.org #433518 (CK) & #8090737 (Micsmithel)\\n',\n",
       " 'Go away!\\tCassez-vous.\\tCC-BY 2.0 (France) Attribution: tatoeba.org #433518 (CK) & #8090738 (Micsmithel)\\n',\n",
       " 'Go away!\\tBouge !\\tCC-BY 2.0 (France) Attribution: tatoeba.org #433518 (CK) & #9022935 (Micsmithel)\\n',\n",
       " 'Go away!\\tDÃ©campez !\\tCC-BY 2.0 (France) Attribution: tatoeba.org #433518 (CK) & #9025684 (Micsmithel)\\n',\n",
       " 'Go away!\\tDÃ©campe !\\tCC-BY 2.0 (France) Attribution: tatoeba.org #433518 (CK) & #9025685 (Micsmithel)\\n',\n",
       " 'Go away.\\tVa te faire foutre !\\tCC-BY 2.0 (France) Attribution: tatoeba.org #433491 (CK) & #403910 (trotter)\\n',\n",
       " 'Go away.\\tPars !\\tCC-BY 2.0 (France) Attribution: tatoeba.org #433491 (CK) & #1157650 (sacredceltic)\\n',\n",
       " 'Go away.\\tDÃ©gage !\\tCC-BY 2.0 (France) Attribution: tatoeba.org #433491 (CK) & #1183771 (sacredceltic)\\n',\n",
       " 'Go away.\\tFous le camp !\\tCC-BY 2.0 (France) Attribution: tatoeba.org #433491 (CK) & #1183772 (sacredceltic)\\n',\n",
       " \"Go away.\\tPars d'ici.\\tCC-BY 2.0 (France) Attribution: tatoeba.org #433491 (CK) & #1226673 (rene1596)\\n\",\n",
       " 'Go away.\\tVa-tâ€™enÂ\\xa0!\\tCC-BY 2.0 (France) Attribution: tatoeba.org #433491 (CK) & #1271062 (sacredceltic)\\n',\n",
       " 'Go away.\\tDisparais !\\tCC-BY 2.0 (France) Attribution: tatoeba.org #433491 (CK) & #1312667 (sacredceltic)\\n',\n",
       " 'Go away.\\tDÃ©guerpissez.\\tCC-BY 2.0 (France) Attribution: tatoeba.org #433491 (CK) & #8090737 (Micsmithel)\\n',\n",
       " 'Go away.\\tCassez-vous.\\tCC-BY 2.0 (France) Attribution: tatoeba.org #433491 (CK) & #8090738 (Micsmithel)\\n',\n",
       " 'Go away.\\tBouge !\\tCC-BY 2.0 (France) Attribution: tatoeba.org #433491 (CK) & #9022935 (Micsmithel)\\n',\n",
       " 'Go away.\\tDÃ©campez !\\tCC-BY 2.0 (France) Attribution: tatoeba.org #433491 (CK) & #9025684 (Micsmithel)\\n',\n",
       " 'Go away.\\tDÃ©campe !\\tCC-BY 2.0 (France) Attribution: tatoeba.org #433491 (CK) & #9025685 (Micsmithel)\\n',\n",
       " 'Go back.\\tRecule.\\tCC-BY 2.0 (France) Attribution: tatoeba.org #7765354 (sharris123) & #8739037 (Micsmithel)\\n',\n",
       " 'Go home.\\tRentrez Ã\\xa0 la maison.\\tCC-BY 2.0 (France) Attribution: tatoeba.org #2230769 (CK) & #180836 (Romira)\\n',\n",
       " 'Go home.\\tRentre Ã\\xa0 la maison.\\tCC-BY 2.0 (France) Attribution: tatoeba.org #2230769 (CK) & #972709 (NomadSoul)\\n',\n",
       " 'Go home.\\tRentre chez toi.\\tCC-BY 2.0 (France) Attribution: tatoeba.org #2230769 (CK) & #7166299 (Micsmithel)\\n',\n",
       " 'Go home.\\tRentrez chez vous.\\tCC-BY 2.0 (France) Attribution: tatoeba.org #2230769 (CK) & #7166300 (Micsmithel)\\n',\n",
       " 'Go slow.\\tVa doucement !\\tCC-BY 2.0 (France) Attribution: tatoeba.org #2254627 (_undertoad) & #5049993 (sacredceltic)\\n',\n",
       " 'Go slow.\\tAllez doucement !\\tCC-BY 2.0 (France) Attribution: tatoeba.org #2254627 (_undertoad) & #5049994 (sacredceltic)\\n',\n",
       " 'Goodbye!\\tAdieu !\\tCC-BY 2.0 (France) Attribution: tatoeba.org #516745 (minshirui) & #1143424 (sacredceltic)\\n',\n",
       " 'Goodbye!\\tÃ€ la revoyure.\\tCC-BY 2.0 (France) Attribution: tatoeba.org #516745 (minshirui) & #1409984 (sysko)\\n',\n",
       " 'Goodbye!\\tCiao.\\tCC-BY 2.0 (France) Attribution: tatoeba.org #516745 (minshirui) & #7704052 (Micsmithel)\\n',\n",
       " 'Goodbye.\\tAu revoir.\\tCC-BY 2.0 (France) Attribution: tatoeba.org #2591566 (tanay) & #5512681 (Scorpionvenin14)\\n',\n",
       " 'Goodbye.\\tCiao.\\tCC-BY 2.0 (France) Attribution: tatoeba.org #2591566 (tanay) & #7704052 (Micsmithel)\\n',\n",
       " 'Hang on!\\tAttends un peu !\\tCC-BY 2.0 (France) Attribution: tatoeba.org #1894404 (Spamster) & #1849920 (sacredceltic)\\n',\n",
       " 'Hang on!\\tAttendez un peu !\\tCC-BY 2.0 (France) Attribution: tatoeba.org #1894404 (Spamster) & #1849921 (sacredceltic)\\n',\n",
       " 'Hang on!\\tAttendez.\\tCC-BY 2.0 (France) Attribution: tatoeba.org #1894404 (Spamster) & #7693749 (Micsmithel)\\n',\n",
       " 'Hang on.\\tTiens bon !\\tCC-BY 2.0 (France) Attribution: tatoeba.org #1972640 (CK) & #1973294 (sacredceltic)\\n',\n",
       " 'Hang on.\\tTenez bon !\\tCC-BY 2.0 (France) Attribution: tatoeba.org #1972640 (CK) & #1973295 (sacredceltic)\\n',\n",
       " 'Hang on.\\tAttendez.\\tCC-BY 2.0 (France) Attribution: tatoeba.org #1972640 (CK) & #7693749 (Micsmithel)\\n',\n",
       " 'He left.\\tIl est parti.\\tCC-BY 2.0 (France) Attribution: tatoeba.org #3259071 (CH) & #432700 (qdii)\\n',\n",
       " 'He runs.\\tIl court.\\tCC-BY 2.0 (France) Attribution: tatoeba.org #672254 (CK) & #672262 (gillux)\\n',\n",
       " 'Help me!\\tAide-moi !\\tCC-BY 2.0 (France) Attribution: tatoeba.org #1126684 (CK) & #1602205 (Petrus)\\n',\n",
       " \"Help me.\\tÃ€ l'aideâ€¯!\\tCC-BY 2.0 (France) Attribution: tatoeba.org #266065 (Zifre) & #128430 (sysko)\\n\",\n",
       " 'Help me.\\tAide-moi.\\tCC-BY 2.0 (France) Attribution: tatoeba.org #266065 (Zifre) & #428130 (dominiko)\\n',\n",
       " 'Help me.\\tAidez-moi.\\tCC-BY 2.0 (France) Attribution: tatoeba.org #266065 (Zifre) & #463521 (sacredceltic)\\n',\n",
       " 'Help me.\\tAide-moi !\\tCC-BY 2.0 (France) Attribution: tatoeba.org #266065 (Zifre) & #1602205 (Petrus)\\n',\n",
       " 'Help us.\\tAidez-nous !\\tCC-BY 2.0 (France) Attribution: tatoeba.org #2187193 (CK) & #2190377 (sacredceltic)\\n',\n",
       " 'Help us.\\tAide-nous !\\tCC-BY 2.0 (France) Attribution: tatoeba.org #2187193 (CK) & #2190378 (sacredceltic)\\n',\n",
       " 'Hold it!\\tNe bouge plus !\\tCC-BY 2.0 (France) Attribution: tatoeba.org #280203 (CK) & #4533882 (pfpillon)\\n',\n",
       " 'Hold it!\\tNe bougez plus !\\tCC-BY 2.0 (France) Attribution: tatoeba.org #280203 (CK) & #7369972 (Micsmithel)\\n',\n",
       " 'Hold it!\\tRestez oÃ¹ vous Ãªtes !\\tCC-BY 2.0 (France) Attribution: tatoeba.org #280203 (CK) & #7369974 (Micsmithel)\\n',\n",
       " 'Hold it!\\tAttendez.\\tCC-BY 2.0 (France) Attribution: tatoeba.org #280203 (CK) & #7693749 (Micsmithel)\\n',\n",
       " 'Hold on.\\tNe quittez pas.\\tCC-BY 2.0 (France) Attribution: tatoeba.org #1357000 (sacredceltic) & #722690 (qdii)\\n',\n",
       " 'Hold on.\\tNe quitte pas !\\tCC-BY 2.0 (France) Attribution: tatoeba.org #1357000 (sacredceltic) & #7166571 (Micsmithel)\\n',\n",
       " \"How sad!\\tComme c'est triste.\\tCC-BY 2.0 (France) Attribution: tatoeba.org #5228915 (jaxhere) & #8716350 (Julien_PDC)\\n\",\n",
       " 'Hug Tom.\\tFais un cÃ¢lin Ã\\xa0 Tom.\\tCC-BY 2.0 (France) Attribution: tatoeba.org #2203860 (CK) & #6463239 (Aiji)\\n',\n",
       " 'I agree.\\tJe suis du mÃªme avis.\\tCC-BY 2.0 (France) Attribution: tatoeba.org #436281 (lukaszpp) & #2300035 (nimfeo)\\n',\n",
       " \"I cried.\\tJ'ai pleurÃ©.\\tCC-BY 2.0 (France) Attribution: tatoeba.org #5828613 (CK) & #7092208 (felix63)\\n\",\n",
       " 'I dozed.\\tJe me suis assoupi.\\tCC-BY 2.0 (France) Attribution: tatoeba.org #5828614 (CK) & #7711334 (sacredceltic)\\n',\n",
       " 'I dozed.\\tJe me suis assoupie.\\tCC-BY 2.0 (France) Attribution: tatoeba.org #5828614 (CK) & #7711335 (sacredceltic)\\n',\n",
       " 'I drive.\\tJe conduis.\\tCC-BY 2.0 (France) Attribution: tatoeba.org #5828615 (CK) & #2285485 (sacredceltic)\\n',\n",
       " 'I drove.\\tJe conduisis.\\tCC-BY 2.0 (France) Attribution: tatoeba.org #5828616 (CK) & #7369856 (Micsmithel)\\n',\n",
       " \"I fired.\\tJ'ai tirÃ©.\\tCC-BY 2.0 (France) Attribution: tatoeba.org #8397691 (CK) & #8984442 (Micsmithel)\\n\",\n",
       " 'I froze.\\tJe me suis figÃ©.\\tCC-BY 2.0 (France) Attribution: tatoeba.org #8397692 (CK) & #8984440 (Micsmithel)\\n',\n",
       " 'I froze.\\tJe me suis figÃ©e.\\tCC-BY 2.0 (France) Attribution: tatoeba.org #8397692 (CK) & #8984441 (Micsmithel)\\n',\n",
       " 'I smoke.\\tJe fume.\\tCC-BY 2.0 (France) Attribution: tatoeba.org #7538184 (CK) & #7713683 (sacredceltic)\\n',\n",
       " 'I snore.\\tJe ronfle.\\tCC-BY 2.0 (France) Attribution: tatoeba.org #5828618 (CK) & #4863031 (Julien_PDC)\\n',\n",
       " 'I stink.\\tJe pue.\\tCC-BY 2.0 (France) Attribution: tatoeba.org #7538186 (CK) & #7713672 (sacredceltic)\\n',\n",
       " 'I stood.\\tJe me suis tenu debout.\\tCC-BY 2.0 (France) Attribution: tatoeba.org #5828619 (CK) & #7711307 (sacredceltic)\\n',\n",
       " 'I stood.\\tJe me suis tenue debout.\\tCC-BY 2.0 (France) Attribution: tatoeba.org #5828619 (CK) & #7711308 (sacredceltic)\\n',\n",
       " 'I swore.\\tJâ€™ai promis.\\tCC-BY 2.0 (France) Attribution: tatoeba.org #5828620 (CK) & #7711337 (sacredceltic)\\n',\n",
       " 'I swore.\\tJâ€™ai jurÃ©.\\tCC-BY 2.0 (France) Attribution: tatoeba.org #5828620 (CK) & #7711338 (sacredceltic)\\n',\n",
       " \"I tried.\\tJ'essayai.\\tCC-BY 2.0 (France) Attribution: tatoeba.org #2283721 (CK) & #2285505 (sacredceltic)\\n\",\n",
       " \"I tried.\\tJ'ai essayÃ©.\\tCC-BY 2.0 (France) Attribution: tatoeba.org #2283721 (CK) & #2285506 (sacredceltic)\\n\",\n",
       " \"I tried.\\tJ'ai tentÃ©.\\tCC-BY 2.0 (France) Attribution: tatoeba.org #2283721 (CK) & #2285508 (sacredceltic)\\n\",\n",
       " 'I waved.\\tJâ€™ai fait signe.\\tCC-BY 2.0 (France) Attribution: tatoeba.org #5828621 (CK) & #7711358 (sacredceltic)\\n',\n",
       " \"I'll go.\\tJ'irai.\\tCC-BY 2.0 (France) Attribution: tatoeba.org #1174876 (CK) & #3640827 (sacredceltic)\\n\",\n",
       " \"I'm Tom.\\tJe suis Tom.\\tCC-BY 2.0 (France) Attribution: tatoeba.org #2283732 (CK) & #3344396 (Aiji)\\n\",\n",
       " \"I'm fat.\\tJe suis gras.\\tCC-BY 2.0 (France) Attribution: tatoeba.org #1120816 (cntrational) & #1121071 (sacredceltic)\\n\",\n",
       " \"I'm fat.\\tJe suis gros.\\tCC-BY 2.0 (France) Attribution: tatoeba.org #1120816 (cntrational) & #1121073 (sacredceltic)\\n\",\n",
       " \"I'm fit.\\tJe suis en forme.\\tCC-BY 2.0 (France) Attribution: tatoeba.org #3330525 (CK) & #2802689 (nimfeo)\\n\",\n",
       " \"I'm hit!\\tJe suis touchÃ© !\\tCC-BY 2.0 (France) Attribution: tatoeba.org #1829472 (Spamster) & #1830978 (sacredceltic)\\n\",\n",
       " \"I'm hit!\\tJe suis touchÃ©e !\\tCC-BY 2.0 (France) Attribution: tatoeba.org #1829472 (Spamster) & #1830979 (sacredceltic)\\n\",\n",
       " \"I'm ill.\\tJe suis malade.\\tCC-BY 2.0 (France) Attribution: tatoeba.org #448236 (CK) & #459031 (sacredceltic)\\n\",\n",
       " \"I'm sad.\\tJe suis triste.\\tCC-BY 2.0 (France) Attribution: tatoeba.org #317741 (CK) & #333733 (sysko)\\n\",\n",
       " \"I'm sad.\\tJ'ai un coup de cafard.\\tCC-BY 2.0 (France) Attribution: tatoeba.org #317741 (CK) & #7044248 (Micsmithel)\\n\",\n",
       " \"I'm sad.\\tJe suis malheureux.\\tCC-BY 2.0 (France) Attribution: tatoeba.org #317741 (CK) & #7044249 (Micsmithel)\\n\",\n",
       " \"I'm shy.\\tJe suis timide.\\tCC-BY 2.0 (France) Attribution: tatoeba.org #2203346 (CK) & #2708372 (Aiji)\\n\",\n",
       " \"I'm wet.\\tJe suis mouillÃ©.\\tCC-BY 2.0 (France) Attribution: tatoeba.org #1780075 (Spamster) & #1783817 (sacredceltic)\\n\",\n",
       " \"I'm wet.\\tJe suis mouillÃ©e.\\tCC-BY 2.0 (France) Attribution: tatoeba.org #1780075 (Spamster) & #1783818 (sacredceltic)\\n\",\n",
       " \"It's me!\\tC'est bibiâ€¯!\\tCC-BY 2.0 (France) Attribution: tatoeba.org #1349952 (sacredceltic) & #819121 (U2FS)\\n\",\n",
       " 'Join us.\\tJoignez-vous.\\tCC-BY 2.0 (France) Attribution: tatoeba.org #1745546 (belgavox) & #881120 (sacredceltic)\\n',\n",
       " 'Join us.\\tJoignez-vous Ã\\xa0 nous.\\tCC-BY 2.0 (France) Attribution: tatoeba.org #1745546 (belgavox) & #882091 (sacredceltic)\\n',\n",
       " 'Keep it.\\tGarde-le !\\tCC-BY 2.0 (France) Attribution: tatoeba.org #1913087 (CK) & #1927913 (sacredceltic)\\n',\n",
       " 'Keep it.\\tGardez-le !\\tCC-BY 2.0 (France) Attribution: tatoeba.org #1913087 (CK) & #1927914 (sacredceltic)\\n',\n",
       " 'Kick it.\\tDonne-lui un coup de pied.\\tCC-BY 2.0 (France) Attribution: tatoeba.org #6049383 (mailohilohi) & #9252765 (Micsmithel)\\n',\n",
       " 'Kick it.\\tDonnez-lui un coup de pied.\\tCC-BY 2.0 (France) Attribution: tatoeba.org #6049383 (mailohilohi) & #9252767 (Micsmithel)\\n',\n",
       " 'Kill it.\\tTuez-le.\\tCC-BY 2.0 (France) Attribution: tatoeba.org #6049388 (mailohilohi) & #9252660 (Micsmithel)\\n',\n",
       " 'Kill it.\\tTue-le.\\tCC-BY 2.0 (France) Attribution: tatoeba.org #6049388 (mailohilohi) & #9252733 (Micsmithel)\\n',\n",
       " 'Kill it.\\tTue-la.\\tCC-BY 2.0 (France) Attribution: tatoeba.org #6049388 (mailohilohi) & #9252737 (Micsmithel)\\n',\n",
       " 'Kill it.\\tTuez-la.\\tCC-BY 2.0 (France) Attribution: tatoeba.org #6049388 (mailohilohi) & #9252738 (Micsmithel)\\n',\n",
       " 'Kiss me.\\tEmbrasse-moi.\\tCC-BY 2.0 (France) Attribution: tatoeba.org #565931 (Fish) & #565943 (Archibald)\\n',\n",
       " 'Kiss me.\\tEmbrassez-moi.\\tCC-BY 2.0 (France) Attribution: tatoeba.org #565931 (Fish) & #565954 (Archibald)\\n',\n",
       " 'Lie low.\\tÃ€ terre !\\tCC-BY 2.0 (France) Attribution: tatoeba.org #7966956 (CK) & #7089960 (Micsmithel)\\n',\n",
       " 'Lie low.\\tAu sol !\\tCC-BY 2.0 (France) Attribution: tatoeba.org #7966956 (CK) & #8718853 (Micsmithel)\\n',\n",
       " 'Lock it.\\tVerrouillez-le.\\tCC-BY 2.0 (France) Attribution: tatoeba.org #5350433 (mailohilohi) & #10046291 (Micsmithel)\\n',\n",
       " 'Lock it.\\tVerrouille-le.\\tCC-BY 2.0 (France) Attribution: tatoeba.org #5350433 (mailohilohi) & #10046292 (Micsmithel)\\n',\n",
       " 'Lock it.\\tVerrouillez-la.\\tCC-BY 2.0 (France) Attribution: tatoeba.org #5350433 (mailohilohi) & #10046293 (Micsmithel)\\n',\n",
       " 'Lock it.\\tVerrouille-la.\\tCC-BY 2.0 (France) Attribution: tatoeba.org #5350433 (mailohilohi) & #10046296 (Micsmithel)\\n',\n",
       " 'Me, too.\\tMoi aussi.\\tCC-BY 2.0 (France) Attribution: tatoeba.org #321985 (CK) & #433586 (jerom)\\n',\n",
       " 'Move on.\\tPassez Ã\\xa0 autre chose.\\tCC-BY 2.0 (France) Attribution: tatoeba.org #8907613 (CK) & #9025620 (Micsmithel)\\n',\n",
       " 'Move on.\\tPasse Ã\\xa0 autre chose.\\tCC-BY 2.0 (France) Attribution: tatoeba.org #8907613 (CK) & #9025621 (Micsmithel)\\n',\n",
       " 'Open it.\\tOuvrez-le.\\tCC-BY 2.0 (France) Attribution: tatoeba.org #8316002 (ritualesatanum) & #8984473 (Micsmithel)\\n',\n",
       " 'Open it.\\tOuvre-le.\\tCC-BY 2.0 (France) Attribution: tatoeba.org #8316002 (ritualesatanum) & #8984474 (Micsmithel)\\n',\n",
       " 'Open it.\\tOuvre-la.\\tCC-BY 2.0 (France) Attribution: tatoeba.org #8316002 (ritualesatanum) & #8999130 (Micsmithel)\\n',\n",
       " 'Open it.\\tOuvrez-la.\\tCC-BY 2.0 (France) Attribution: tatoeba.org #8316002 (ritualesatanum) & #8999132 (Micsmithel)\\n',\n",
       " 'Open up.\\tOuvre-moiâ€¯!\\tCC-BY 2.0 (France) Attribution: tatoeba.org #22061 (CM) & #14216 (gillux)\\n',\n",
       " 'Open up.\\tOuvre.\\tCC-BY 2.0 (France) Attribution: tatoeba.org #22061 (CM) & #862202 (U2FS)\\n',\n",
       " 'Pair up.\\tFaites Ã©quipe.\\tCC-BY 2.0 (France) Attribution: tatoeba.org #9630611 (shekitten) & #9987369 (Micsmithel)\\n',\n",
       " 'Perfect!\\tParfaitâ€¯!\\tCC-BY 2.0 (France) Attribution: tatoeba.org #374568 (blay_paul) & #13107 (gillux)\\n',\n",
       " 'Pull it.\\tTirez dessus.\\tCC-BY 2.0 (France) Attribution: tatoeba.org #6049384 (mailohilohi) & #8739188 (Micsmithel)\\n',\n",
       " 'Pull it.\\tTire dessus.\\tCC-BY 2.0 (France) Attribution: tatoeba.org #6049384 (mailohilohi) & #8739189 (Micsmithel)\\n',\n",
       " 'Push it.\\tAppuie dessus.\\tCC-BY 2.0 (France) Attribution: tatoeba.org #6049385 (mailohilohi) & #8739186 (Micsmithel)\\n',\n",
       " 'Push it.\\tPoussez-le.\\tCC-BY 2.0 (France) Attribution: tatoeba.org #6049385 (mailohilohi) & #9252750 (Micsmithel)\\n',\n",
       " 'Push it.\\tPousse-le.\\tCC-BY 2.0 (France) Attribution: tatoeba.org #6049385 (mailohilohi) & #9252751 (Micsmithel)\\n',\n",
       " 'Push it.\\tPoussez-la.\\tCC-BY 2.0 (France) Attribution: tatoeba.org #6049385 (mailohilohi) & #9252752 (Micsmithel)\\n',\n",
       " 'Push it.\\tPousse-la.\\tCC-BY 2.0 (France) Attribution: tatoeba.org #6049385 (mailohilohi) & #9252753 (Micsmithel)\\n',\n",
       " 'See you!\\tÃ€ plus tard !\\tCC-BY 2.0 (France) Attribution: tatoeba.org #1357251 (Eldad) & #12709 (sacredceltic)\\n',\n",
       " 'See you!\\tÃ€ bientÃ´t !\\tCC-BY 2.0 (France) Attribution: tatoeba.org #1357251 (Eldad) & #337862 (sysko)\\n',\n",
       " 'See you!\\tÃ€ la prochaine !\\tCC-BY 2.0 (France) Attribution: tatoeba.org #1357251 (Eldad) & #591489 (qdii)\\n',\n",
       " 'See you!\\tCiao.\\tCC-BY 2.0 (France) Attribution: tatoeba.org #1357251 (Eldad) & #7704052 (Micsmithel)\\n',\n",
       " 'See you.\\tÃ€ plus.\\tCC-BY 2.0 (France) Attribution: tatoeba.org #1151432 (Roggy) & #13446 (sysko)\\n',\n",
       " 'See you.\\tCiao.\\tCC-BY 2.0 (France) Attribution: tatoeba.org #1151432 (Roggy) & #7704052 (Micsmithel)\\n',\n",
       " 'Show me.\\tMontre-moi !\\tCC-BY 2.0 (France) Attribution: tatoeba.org #1972649 (CK) & #1973011 (sacredceltic)\\n',\n",
       " 'Show me.\\tMontrez-moi !\\tCC-BY 2.0 (France) Attribution: tatoeba.org #1972649 (CK) & #1973012 (sacredceltic)\\n',\n",
       " 'Shut up!\\tTaisez-vousâ€¯!\\tCC-BY 2.0 (France) Attribution: tatoeba.org #462430 (lukaszpp) & #354356 (bourdu)\\n',\n",
       " 'Shut up!\\tFerme-laâ€¯!\\tCC-BY 2.0 (France) Attribution: tatoeba.org #462430 (lukaszpp) & #543127 (sacredceltic)\\n',\n",
       " 'Shut up!\\tTais-toi !\\tCC-BY 2.0 (France) Attribution: tatoeba.org #462430 (lukaszpp) & #1158442 (sacredceltic)\\n',\n",
       " 'Shut up!\\tFerme-la !\\tCC-BY 2.0 (France) Attribution: tatoeba.org #462430 (lukaszpp) & #1170083 (sacredceltic)\\n',\n",
       " 'Shut up!\\tLa ferme !\\tCC-BY 2.0 (France) Attribution: tatoeba.org #462430 (lukaszpp) & #1652396 (sacredceltic)\\n',\n",
       " 'Shut up!\\tBouclez-la !\\tCC-BY 2.0 (France) Attribution: tatoeba.org #462430 (lukaszpp) & #9025088 (Micsmithel)\\n',\n",
       " 'Sign up.\\tInscrivez-vous.\\tCC-BY 2.0 (France) Attribution: tatoeba.org #8907663 (CK) & #9025618 (Micsmithel)\\n',\n",
       " 'Sign up.\\tInscris-toi.\\tCC-BY 2.0 (France) Attribution: tatoeba.org #8907663 (CK) & #9025619 (Micsmithel)\\n',\n",
       " 'Skip it.\\tLaisse tomber.\\tCC-BY 2.0 (France) Attribution: tatoeba.org #1953076 (ozzie) & #400311 (qdii)\\n',\n",
       " 'Skip it.\\tPas grave.\\tCC-BY 2.0 (France) Attribution: tatoeba.org #1953076 (ozzie) & #3469077 (Lulantis)\\n',\n",
       " 'So long.\\tÃ€ plus tard !\\tCC-BY 2.0 (France) Attribution: tatoeba.org #2267731 (_undertoad) & #12709 (sacredceltic)\\n',\n",
       " 'Take it.\\tPrends-leâ€¯!\\tCC-BY 2.0 (France) Attribution: tatoeba.org #1913089 (CK) & #939377 (sacredceltic)\\n',\n",
       " 'Take it.\\tPrenez-leâ€¯!\\tCC-BY 2.0 (France) Attribution: tatoeba.org #1913089 (CK) & #939379 (sacredceltic)\\n',\n",
       " 'Take it.\\tPrends-le !\\tCC-BY 2.0 (France) Attribution: tatoeba.org #1913089 (CK) & #1927909 (sacredceltic)\\n',\n",
       " 'Take it.\\tPrenez-le !\\tCC-BY 2.0 (France) Attribution: tatoeba.org #1913089 (CK) & #1927910 (sacredceltic)\\n',\n",
       " 'Take it.\\tPrenez-le.\\tCC-BY 2.0 (France) Attribution: tatoeba.org #1913089 (CK) & #8984356 (Micsmithel)\\n',\n",
       " 'Take it.\\tPrends-le.\\tCC-BY 2.0 (France) Attribution: tatoeba.org #1913089 (CK) & #8984357 (Micsmithel)\\n',\n",
       " 'Tell me.\\tDis-moi !\\tCC-BY 2.0 (France) Attribution: tatoeba.org #1913090 (CK) & #1927907 (sacredceltic)\\n',\n",
       " 'Tell me.\\tDites-moi !\\tCC-BY 2.0 (France) Attribution: tatoeba.org #1913090 (CK) & #1927908 (sacredceltic)\\n',\n",
       " 'Tom won.\\tTom a gagnÃ©.\\tCC-BY 2.0 (France) Attribution: tatoeba.org #2005191 (CK) & #4765913 (Doremi391)\\n',\n",
       " 'Wake up!\\tRÃ©veille-toiâ€¯!\\tCC-BY 2.0 (France) Attribution: tatoeba.org #323780 (CK) & #332233 (TRANG)\\n',\n",
       " 'Wake up!\\tRÃ©veille-toi !\\tCC-BY 2.0 (France) Attribution: tatoeba.org #323780 (CK) & #1650813 (sacredceltic)\\n',\n",
       " 'Wake up!\\tRÃ©veillez-vous !\\tCC-BY 2.0 (France) Attribution: tatoeba.org #323780 (CK) & #1650814 (sacredceltic)\\n',\n",
       " 'Wake up.\\tRÃ©veille-toi !\\tCC-BY 2.0 (France) Attribution: tatoeba.org #1850243 (CK) & #1650813 (sacredceltic)\\n',\n",
       " 'Wake up.\\tRÃ©veillez-vous !\\tCC-BY 2.0 (France) Attribution: tatoeba.org #1850243 (CK) & #1650814 (sacredceltic)\\n',\n",
       " 'Wash up.\\tLave-toi !\\tCC-BY 2.0 (France) Attribution: tatoeba.org #20763 (CK) & #579761 (sacredceltic)\\n',\n",
       " 'Wash up.\\tLavez-vous !\\tCC-BY 2.0 (France) Attribution: tatoeba.org #20763 (CK) & #579762 (sacredceltic)\\n',\n",
       " 'We care.\\tNous nous en soucions.\\tCC-BY 2.0 (France) Attribution: tatoeba.org #3255558 (CM) & #10505425 (pkill)\\n',\n",
       " 'We know.\\tNous savons.\\tCC-BY 2.0 (France) Attribution: tatoeba.org #1556167 (shanghainese) & #5265433 (pititnatole)\\n',\n",
       " 'We know.\\tOn sait.\\tCC-BY 2.0 (France) Attribution: tatoeba.org #1556167 (shanghainese) & #10134863 (AutoBot)\\n',\n",
       " 'We lost.\\tNous perdÃ®mes.\\tCC-BY 2.0 (France) Attribution: tatoeba.org #2107666 (CK) & #2109572 (sacredceltic)\\n',\n",
       " 'We lost.\\tNous avons perdu.\\tCC-BY 2.0 (France) Attribution: tatoeba.org #2107666 (CK) & #2109573 (sacredceltic)\\n',\n",
       " 'We lost.\\tNous fÃ»mes battus.\\tCC-BY 2.0 (France) Attribution: tatoeba.org #2107666 (CK) & #2109574 (sacredceltic)\\n',\n",
       " 'We lost.\\tNous fÃ»mes battues.\\tCC-BY 2.0 (France) Attribution: tatoeba.org #2107666 (CK) & #2109575 (sacredceltic)\\n',\n",
       " 'We lost.\\tNous fÃ»mes dÃ©faits.\\tCC-BY 2.0 (France) Attribution: tatoeba.org #2107666 (CK) & #2109576 (sacredceltic)\\n',\n",
       " 'We lost.\\tNous fÃ»mes dÃ©faites.\\tCC-BY 2.0 (France) Attribution: tatoeba.org #2107666 (CK) & #2109578 (sacredceltic)\\n',\n",
       " 'We lost.\\tNous avons Ã©tÃ© dÃ©faits.\\tCC-BY 2.0 (France) Attribution: tatoeba.org #2107666 (CK) & #2109581 (sacredceltic)\\n',\n",
       " 'We lost.\\tNous avons Ã©tÃ© dÃ©faites.\\tCC-BY 2.0 (France) Attribution: tatoeba.org #2107666 (CK) & #2109582 (sacredceltic)\\n',\n",
       " 'We lost.\\tNous avons Ã©tÃ© battus.\\tCC-BY 2.0 (France) Attribution: tatoeba.org #2107666 (CK) & #2109584 (sacredceltic)\\n',\n",
       " 'We lost.\\tNous avons Ã©tÃ© battues.\\tCC-BY 2.0 (France) Attribution: tatoeba.org #2107666 (CK) & #2109585 (sacredceltic)\\n',\n",
       " 'Welcome.\\tBienvenueâ€¯!\\tCC-BY 2.0 (France) Attribution: tatoeba.org #138919 (CM) & #373296 (Aiji)\\n',\n",
       " 'Welcome.\\tSoyez le bienvenu !\\tCC-BY 2.0 (France) Attribution: tatoeba.org #138919 (CM) & #7897776 (felix63)\\n',\n",
       " 'Who ran?\\tQui couraitÂ\\xa0?\\tCC-BY 2.0 (France) Attribution: tatoeba.org #2203765 (CK) & #7704150 (Micsmithel)\\n',\n",
       " 'Who won?\\tQui a gagnÃ© ?\\tCC-BY 2.0 (France) Attribution: tatoeba.org #2005190 (CK) & #2005254 (sacredceltic)\\n',\n",
       " \"Who won?\\tQui l'a emportÃ© ?\\tCC-BY 2.0 (France) Attribution: tatoeba.org #2005190 (CK) & #2005256 (sacredceltic)\\n\",\n",
       " 'You run.\\tTu cours.\\tCC-BY 2.0 (France) Attribution: tatoeba.org #672252 (CK) & #4533885 (pfpillon)\\n',\n",
       " 'You win.\\tVous avez gagnÃ©.\\tCC-BY 2.0 (France) Attribution: tatoeba.org #8645635 (hamsolo474) & #9025536 (Micsmithel)\\n',\n",
       " 'Aim high.\\tVisez haut.\\tCC-BY 2.0 (France) Attribution: tatoeba.org #8768675 (fishda) & #9030031 (Micsmithel)\\n',\n",
       " 'Aim high.\\tVise haut.\\tCC-BY 2.0 (France) Attribution: tatoeba.org #8768675 (fishda) & #9030032 (Micsmithel)\\n',\n",
       " 'Am I fat?\\tSuis-je gros ?\\tCC-BY 2.0 (France) Attribution: tatoeba.org #2214296 (Hybrid) & #2215243 (sacredceltic)\\n',\n",
       " 'Am I fat?\\tSuis-je grosse ?\\tCC-BY 2.0 (France) Attribution: tatoeba.org #2214296 (Hybrid) & #2215245 (sacredceltic)\\n',\n",
       " 'Ask them.\\tDemande-leur.\\tCC-BY 2.0 (France) Attribution: tatoeba.org #3820042 (CK) & #6465552 (Aiji)\\n',\n",
       " 'Ask them.\\tDemandez-leur.\\tCC-BY 2.0 (France) Attribution: tatoeba.org #3820042 (CK) & #6465553 (Aiji)\\n',\n",
       " 'Back off!\\tReculeâ€‰!\\tCC-BY 2.0 (France) Attribution: tatoeba.org #1954264 (CK) & #1554053 (sacredceltic)\\n',\n",
       " 'Back off!\\tReculez.\\tCC-BY 2.0 (France) Attribution: tatoeba.org #1954264 (CK) & #1554054 (sacredceltic)\\n',\n",
       " 'Back off!\\tCassez-vous.\\tCC-BY 2.0 (France) Attribution: tatoeba.org #1954264 (CK) & #8090738 (Micsmithel)\\n',\n",
       " 'Back off.\\tReculeâ€‰!\\tCC-BY 2.0 (France) Attribution: tatoeba.org #1553533 (CK) & #1554053 (sacredceltic)\\n',\n",
       " 'Back off.\\tReculez.\\tCC-BY 2.0 (France) Attribution: tatoeba.org #1553533 (CK) & #1554054 (sacredceltic)\\n',\n",
       " 'Back off.\\tRetire-toiâ€‰!\\tCC-BY 2.0 (France) Attribution: tatoeba.org #1553533 (CK) & #1554056 (sacredceltic)\\n',\n",
       " 'Back off.\\tRetirez-vous.\\tCC-BY 2.0 (France) Attribution: tatoeba.org #1553533 (CK) & #1554059 (sacredceltic)\\n',\n",
       " 'Back off.\\tCassez-vous.\\tCC-BY 2.0 (France) Attribution: tatoeba.org #1553533 (CK) & #8090738 (Micsmithel)\\n',\n",
       " 'Be a man.\\tSois un homme !\\tCC-BY 2.0 (France) Attribution: tatoeba.org #2221008 (Hybrid) & #2222103 (sacredceltic)\\n',\n",
       " 'Be a man.\\tSoyez un homme !\\tCC-BY 2.0 (France) Attribution: tatoeba.org #2221008 (Hybrid) & #2222104 (sacredceltic)\\n',\n",
       " 'Be brave.\\tSoyez courageux !\\tCC-BY 2.0 (France) Attribution: tatoeba.org #4054941 (CK) & #1158428 (sacredceltic)\\n',\n",
       " 'Be brief.\\tSoyez bref.\\tCC-BY 2.0 (France) Attribution: tatoeba.org #3826022 (CK) & #8678727 (Micsmithel)\\n',\n",
       " 'Be brief.\\tSois bref.\\tCC-BY 2.0 (France) Attribution: tatoeba.org #3826022 (CK) & #8678729 (Micsmithel)\\n',\n",
       " 'Be brief.\\tSois brÃ¨ve.\\tCC-BY 2.0 (France) Attribution: tatoeba.org #3826022 (CK) & #8678730 (Micsmithel)\\n',\n",
       " 'Be brief.\\tSoyez brÃ¨ve.\\tCC-BY 2.0 (France) Attribution: tatoeba.org #3826022 (CK) & #8678731 (Micsmithel)\\n',\n",
       " 'Be brief.\\tSoyez brefs.\\tCC-BY 2.0 (France) Attribution: tatoeba.org #3826022 (CK) & #9252871 (Micsmithel)\\n',\n",
       " 'Be brief.\\tSoyez brÃ¨ves.\\tCC-BY 2.0 (France) Attribution: tatoeba.org #3826022 (CK) & #9252873 (Micsmithel)\\n',\n",
       " 'Be still.\\tSois calme !\\tCC-BY 2.0 (France) Attribution: tatoeba.org #1954265 (CK) & #1916590 (sacredceltic)\\n',\n",
       " 'Be still.\\tSoyez calme !\\tCC-BY 2.0 (France) Attribution: tatoeba.org #1954265 (CK) & #1916591 (sacredceltic)\\n',\n",
       " 'Be still.\\tSoyez calmes !\\tCC-BY 2.0 (France) Attribution: tatoeba.org #1954265 (CK) & #1916592 (sacredceltic)\\n',\n",
       " 'Call Tom.\\tAppelle Tom.\\tCC-BY 2.0 (France) Attribution: tatoeba.org #2203855 (CK) & #2966163 (Aiji)\\n',\n",
       " 'Call Tom.\\tAppelez Tom.\\tCC-BY 2.0 (France) Attribution: tatoeba.org #2203855 (CK) & #2966164 (Aiji)\\n',\n",
       " 'Cheer up!\\tCourageâ€¯!\\tCC-BY 2.0 (France) Attribution: tatoeba.org #239441 (CM) & #8745 (Cocorico)\\n',\n",
       " 'Cool off!\\tDÃ©tends-toiâ€¯!\\tCC-BY 2.0 (France) Attribution: tatoeba.org #280162 (CM) & #492000 (sacredceltic)\\n',\n",
       " 'Cover me.\\tCouvre-moi.\\tCC-BY 2.0 (France) Attribution: tatoeba.org #10505094 (CK) & #10505096 (pkill)\\n',\n",
       " 'Cuff him.\\tMenottez-le.\\tCC-BY 2.0 (France) Attribution: tatoeba.org #1954267 (CK) & #5294854 (pititnatole)\\n',\n",
       " 'Drive on.\\tAvance !\\tCC-BY 2.0 (France) Attribution: tatoeba.org #1954268 (CK) & #2077423 (sacredceltic)\\n',\n",
       " 'Drive on.\\tAvancez !\\tCC-BY 2.0 (France) Attribution: tatoeba.org #1954268 (CK) & #2077424 (sacredceltic)\\n',\n",
       " 'Drive on.\\tContinue Ã\\xa0 rouler !\\tCC-BY 2.0 (France) Attribution: tatoeba.org #1954268 (CK) & #2077425 (sacredceltic)\\n',\n",
       " 'Drive on.\\tContinuez Ã\\xa0 rouler !\\tCC-BY 2.0 (France) Attribution: tatoeba.org #1954268 (CK) & #2077426 (sacredceltic)\\n',\n",
       " 'Find Tom.\\tTrouve Tom.\\tCC-BY 2.0 (France) Attribution: tatoeba.org #2111838 (CK) & #6463042 (Aiji)\\n',\n",
       " 'Find Tom.\\tTrouvez Tom.\\tCC-BY 2.0 (France) Attribution: tatoeba.org #2111838 (CK) & #6463043 (Aiji)\\n',\n",
       " 'Fix this.\\tRÃ©parez ceci.\\tCC-BY 2.0 (France) Attribution: tatoeba.org #3172185 (CK) & #6947559 (Aiji)\\n',\n",
       " 'Fix this.\\tRÃ©pare Ã§a.\\tCC-BY 2.0 (France) Attribution: tatoeba.org #3172185 (CK) & #6947560 (Aiji)\\n',\n",
       " 'Get away!\\tDÃ©gageâ€¯!\\tCC-BY 2.0 (France) Attribution: tatoeba.org #240634 (CM) & #844993 (Corvus)\\n',\n",
       " 'Get away!\\tCasse-toi.\\tCC-BY 2.0 (France) Attribution: tatoeba.org #240634 (CM) & #956472 (sysko)\\n',\n",
       " 'Get away!\\tPars !\\tCC-BY 2.0 (France) Attribution: tatoeba.org #240634 (CM) & #1157650 (sacredceltic)\\n',\n",
       " 'Get away!\\tDÃ©gage !\\tCC-BY 2.0 (France) Attribution: tatoeba.org #240634 (CM) & #1183771 (sacredceltic)\\n',\n",
       " 'Get away!\\tFous le camp !\\tCC-BY 2.0 (France) Attribution: tatoeba.org #240634 (CM) & #1183772 (sacredceltic)\\n',\n",
       " \"Get away!\\tPars d'ici.\\tCC-BY 2.0 (France) Attribution: tatoeba.org #240634 (CM) & #1226673 (rene1596)\\n\",\n",
       " 'Get away!\\tVa-tâ€™enÂ\\xa0!\\tCC-BY 2.0 (France) Attribution: tatoeba.org #240634 (CM) & #1271062 (sacredceltic)\\n',\n",
       " 'Get away!\\tÃ‰carte-toi !\\tCC-BY 2.0 (France) Attribution: tatoeba.org #240634 (CM) & #1291367 (sacredceltic)\\n',\n",
       " 'Get away!\\tDisparais !\\tCC-BY 2.0 (France) Attribution: tatoeba.org #240634 (CM) & #1312667 (sacredceltic)\\n',\n",
       " 'Get away!\\tAllez-vous-enÂ\\xa0!\\tCC-BY 2.0 (France) Attribution: tatoeba.org #240634 (CM) & #1407068 (sacredceltic)\\n',\n",
       " 'Get away!\\tFiche le camp.\\tCC-BY 2.0 (France) Attribution: tatoeba.org #240634 (CM) & #2981662 (Blabla)\\n',\n",
       " 'Get away!\\tTire-toi de lÃ\\xa0.\\tCC-BY 2.0 (France) Attribution: tatoeba.org #240634 (CM) & #3093606 (Blabla)\\n',\n",
       " 'Get away!\\tDÃ©gage.\\tCC-BY 2.0 (France) Attribution: tatoeba.org #240634 (CM) & #5824885 (EvaFranska)\\n',\n",
       " \"Get away!\\tVa-t'en !\\tCC-BY 2.0 (France) Attribution: tatoeba.org #240634 (CM) & #7565026 (felix63)\\n\",\n",
       " \"Get away!\\tCriss ton camp d'icit !\\tCC-BY 2.0 (France) Attribution: tatoeba.org #240634 (CM) & #8030706 (marioo)\\n\",\n",
       " 'Get away!\\tFichez le camp.\\tCC-BY 2.0 (France) Attribution: tatoeba.org #240634 (CM) & #8090736 (Micsmithel)\\n',\n",
       " 'Get away!\\tDÃ©guerpissez.\\tCC-BY 2.0 (France) Attribution: tatoeba.org #240634 (CM) & #8090737 (Micsmithel)\\n',\n",
       " 'Get away!\\tCassez-vous.\\tCC-BY 2.0 (France) Attribution: tatoeba.org #240634 (CM) & #8090738 (Micsmithel)\\n',\n",
       " 'Get away!\\tBarrez-vous.\\tCC-BY 2.0 (France) Attribution: tatoeba.org #240634 (CM) & #8090739 (Micsmithel)\\n',\n",
       " 'Get away!\\tBarre-toi.\\tCC-BY 2.0 (France) Attribution: tatoeba.org #240634 (CM) & #8090741 (Micsmithel)\\n',\n",
       " 'Get away!\\tVa-tâ€™en !\\tCC-BY 2.0 (France) Attribution: tatoeba.org #240634 (CM) & #8900471 (Julien_PDC)\\n',\n",
       " 'Get away!\\tBouge !\\tCC-BY 2.0 (France) Attribution: tatoeba.org #240634 (CM) & #9022935 (Micsmithel)\\n',\n",
       " 'Get away!\\tDÃ©campez !\\tCC-BY 2.0 (France) Attribution: tatoeba.org #240634 (CM) & #9025684 (Micsmithel)\\n',\n",
       " 'Get away!\\tDÃ©campe !\\tCC-BY 2.0 (France) Attribution: tatoeba.org #240634 (CM) & #9025685 (Micsmithel)\\n',\n",
       " 'Get away!\\tTu dis nâ€™importe quoiÂ\\xa0!\\tCC-BY 2.0 (France) Attribution: tatoeba.org #240634 (CM) & #10632042 (AutoBot)\\n',\n",
       " 'Get away.\\tPars.\\tCC-BY 2.0 (France) Attribution: tatoeba.org #8907753 (CK) & #8690456 (Micsmithel)\\n',\n",
       " 'Get away.\\tPartez.\\tCC-BY 2.0 (France) Attribution: tatoeba.org #8907753 (CK) & #9025617 (Micsmithel)\\n',\n",
       " 'Get down!\\tLÃ¢che-toi !\\tCC-BY 2.0 (France) Attribution: tatoeba.org #268087 (CM) & #2077429 (sacredceltic)\\n',\n",
       " 'Get down!\\tÃ€ terre !\\tCC-BY 2.0 (France) Attribution: tatoeba.org #268087 (CM) & #7089960 (Micsmithel)\\n',\n",
       " 'Get down!\\tAu sol !\\tCC-BY 2.0 (France) Attribution: tatoeba.org #268087 (CM) & #8718853 (Micsmithel)\\n',\n",
       " 'Get down!\\tDescends.\\tCC-BY 2.0 (France) Attribution: tatoeba.org #268087 (CM) & #8984318 (Micsmithel)\\n',\n",
       " 'Get down.\\tDescends !\\tCC-BY 2.0 (France) Attribution: tatoeba.org #1954269 (CK) & #2077427 (sacredceltic)\\n',\n",
       " 'Get down.\\tDescendez !\\tCC-BY 2.0 (France) Attribution: tatoeba.org #1954269 (CK) & #2077428 (sacredceltic)\\n',\n",
       " 'Get down.\\tLÃ¢che-toi !\\tCC-BY 2.0 (France) Attribution: tatoeba.org #1954269 (CK) & #2077429 (sacredceltic)\\n',\n",
       " 'Get down.\\tLÃ¢chez-vous !\\tCC-BY 2.0 (France) Attribution: tatoeba.org #1954269 (CK) & #2077430 (sacredceltic)\\n',\n",
       " 'Get down.\\tÃ€ terre !\\tCC-BY 2.0 (France) Attribution: tatoeba.org #1954269 (CK) & #7089960 (Micsmithel)\\n',\n",
       " 'Get down.\\tAu sol !\\tCC-BY 2.0 (France) Attribution: tatoeba.org #1954269 (CK) & #8718853 (Micsmithel)\\n',\n",
       " 'Get down.\\tDescends.\\tCC-BY 2.0 (France) Attribution: tatoeba.org #1954269 (CK) & #8984318 (Micsmithel)\\n',\n",
       " \"Get lost!\\tVa voir ailleurs si j'y suisâ€¯!\\tCC-BY 2.0 (France) Attribution: tatoeba.org #623565 (Dorenda) & #532360 (Snout)\\n\",\n",
       " 'Get lost!\\tDÃ©gageâ€¯!\\tCC-BY 2.0 (France) Attribution: tatoeba.org #623565 (Dorenda) & #844993 (Corvus)\\n',\n",
       " 'Get lost!\\tVa au diable !\\tCC-BY 2.0 (France) Attribution: tatoeba.org #623565 (Dorenda) & #1462551 (sacredceltic)\\n',\n",
       " 'Get lost!\\tDÃ©guerpissez.\\tCC-BY 2.0 (France) Attribution: tatoeba.org #623565 (Dorenda) & #8090737 (Micsmithel)\\n',\n",
       " 'Get lost!\\tCassez-vous.\\tCC-BY 2.0 (France) Attribution: tatoeba.org #623565 (Dorenda) & #8090738 (Micsmithel)\\n',\n",
       " 'Get lost!\\tBouge !\\tCC-BY 2.0 (France) Attribution: tatoeba.org #623565 (Dorenda) & #9022935 (Micsmithel)\\n',\n",
       " 'Get lost!\\tDÃ©campez !\\tCC-BY 2.0 (France) Attribution: tatoeba.org #623565 (Dorenda) & #9025684 (Micsmithel)\\n',\n",
       " 'Get lost!\\tDÃ©campe !\\tCC-BY 2.0 (France) Attribution: tatoeba.org #623565 (Dorenda) & #9025685 (Micsmithel)\\n',\n",
       " 'Get lost!\\tVa te faire foutreÂ\\xa0!\\tCC-BY 2.0 (France) Attribution: tatoeba.org #623565 (Dorenda) & #9973868 (Micsmithel)\\n',\n",
       " 'Get lost!\\tVa te faire voirÂ\\xa0!\\tCC-BY 2.0 (France) Attribution: tatoeba.org #623565 (Dorenda) & #10026437 (Micsmithel)\\n',\n",
       " 'Get lost.\\tFiche le camp.\\tCC-BY 2.0 (France) Attribution: tatoeba.org #854500 (CK) & #2981662 (Blabla)\\n',\n",
       " 'Get lost.\\tFichez le camp.\\tCC-BY 2.0 (France) Attribution: tatoeba.org #854500 (CK) & #8090736 (Micsmithel)\\n',\n",
       " 'Get lost.\\tDÃ©guerpissez.\\tCC-BY 2.0 (France) Attribution: tatoeba.org #854500 (CK) & #8090737 (Micsmithel)\\n',\n",
       " 'Get lost.\\tCassez-vous.\\tCC-BY 2.0 (France) Attribution: tatoeba.org #854500 (CK) & #8090738 (Micsmithel)\\n',\n",
       " 'Get lost.\\tBouge !\\tCC-BY 2.0 (France) Attribution: tatoeba.org #854500 (CK) & #9022935 (Micsmithel)\\n',\n",
       " 'Get lost.\\tDÃ©campez !\\tCC-BY 2.0 (France) Attribution: tatoeba.org #854500 (CK) & #9025684 (Micsmithel)\\n',\n",
       " 'Get lost.\\tDÃ©campe !\\tCC-BY 2.0 (France) Attribution: tatoeba.org #854500 (CK) & #9025685 (Micsmithel)\\n',\n",
       " 'Get real!\\tSois rÃ©aliste !\\tCC-BY 2.0 (France) Attribution: tatoeba.org #326067 (CM) & #4488630 (VisionElf)\\n',\n",
       " 'Get real!\\tTu dÃ©liresÂ\\xa0!\\tCC-BY 2.0 (France) Attribution: tatoeba.org #326067 (CM) & #10630525 (AutoBot)\\n',\n",
       " 'Go ahead!\\tAllezâ€¯!\\tCC-BY 2.0 (France) Attribution: tatoeba.org #38590 (CM) & #11608 (qdii)\\n',\n",
       " 'Go ahead!\\tVas-y.\\tCC-BY 2.0 (France) Attribution: tatoeba.org #38590 (CM) & #12815 (Archibald)\\n',\n",
       " 'Go ahead!\\tEn avantâ€¯!\\tCC-BY 2.0 (France) Attribution: tatoeba.org #38590 (CM) & #975195 (sacredceltic)\\n',\n",
       " 'Go ahead!\\tVa !\\tCC-BY 2.0 (France) Attribution: tatoeba.org #38590 (CM) & #1158250 (Wittydev)\\n',\n",
       " 'Go ahead!\\tPoursuis !\\tCC-BY 2.0 (France) Attribution: tatoeba.org #38590 (CM) & #1158319 (sacredceltic)\\n',\n",
       " 'Go ahead!\\tPoursuivez !\\tCC-BY 2.0 (France) Attribution: tatoeba.org #38590 (CM) & #1158320 (sacredceltic)\\n',\n",
       " 'Go ahead!\\tPasse devant !\\tCC-BY 2.0 (France) Attribution: tatoeba.org #38590 (CM) & #1257252 (sacredceltic)\\n',\n",
       " 'Go ahead!\\tVas-y !\\tCC-BY 2.0 (France) Attribution: tatoeba.org #38590 (CM) & #1534515 (sacredceltic)\\n',\n",
       " 'Go ahead!\\tAllez-y !\\tCC-BY 2.0 (France) Attribution: tatoeba.org #38590 (CM) & #1534516 (sacredceltic)\\n',\n",
       " 'Go ahead!\\tContinuez !\\tCC-BY 2.0 (France) Attribution: tatoeba.org #38590 (CM) & #1850101 (sacredceltic)\\n',\n",
       " 'Go ahead!\\tContinue !\\tCC-BY 2.0 (France) Attribution: tatoeba.org #38590 (CM) & #1850103 (sacredceltic)\\n',\n",
       " 'Go ahead!\\tAllez !\\tCC-BY 2.0 (France) Attribution: tatoeba.org #38590 (CM) & #1996167 (sacredceltic)\\n',\n",
       " 'Go ahead!\\tAvance !\\tCC-BY 2.0 (France) Attribution: tatoeba.org #38590 (CM) & #2077423 (sacredceltic)\\n',\n",
       " 'Go ahead.\\tAllezâ€¯!\\tCC-BY 2.0 (France) Attribution: tatoeba.org #38546 (CM) & #11608 (qdii)\\n',\n",
       " 'Go ahead.\\tVas-y.\\tCC-BY 2.0 (France) Attribution: tatoeba.org #38546 (CM) & #12815 (Archibald)\\n',\n",
       " 'Go ahead.\\tVa !\\tCC-BY 2.0 (France) Attribution: tatoeba.org #38546 (CM) & #1158250 (Wittydev)\\n',\n",
       " 'Go ahead.\\tPoursuis !\\tCC-BY 2.0 (France) Attribution: tatoeba.org #38546 (CM) & #1158319 (sacredceltic)\\n',\n",
       " 'Go ahead.\\tPoursuivez !\\tCC-BY 2.0 (France) Attribution: tatoeba.org #38546 (CM) & #1158320 (sacredceltic)\\n',\n",
       " 'Go ahead.\\tPasse devant !\\tCC-BY 2.0 (France) Attribution: tatoeba.org #38546 (CM) & #1257252 (sacredceltic)\\n',\n",
       " 'Go ahead.\\tVas-y !\\tCC-BY 2.0 (France) Attribution: tatoeba.org #38546 (CM) & #1534515 (sacredceltic)\\n',\n",
       " 'Go ahead.\\tAllez-y !\\tCC-BY 2.0 (France) Attribution: tatoeba.org #38546 (CM) & #1534516 (sacredceltic)\\n',\n",
       " 'Go ahead.\\tContinuez !\\tCC-BY 2.0 (France) Attribution: tatoeba.org #38546 (CM) & #1850101 (sacredceltic)\\n',\n",
       " 'Go ahead.\\tContinue !\\tCC-BY 2.0 (France) Attribution: tatoeba.org #38546 (CM) & #1850103 (sacredceltic)\\n',\n",
       " 'Go ahead.\\tAllez !\\tCC-BY 2.0 (France) Attribution: tatoeba.org #38546 (CM) & #1996167 (sacredceltic)\\n',\n",
       " 'Go ahead.\\tAvance !\\tCC-BY 2.0 (France) Attribution: tatoeba.org #38546 (CM) & #2077423 (sacredceltic)\\n',\n",
       " 'Go ahead.\\tEn route !\\tCC-BY 2.0 (France) Attribution: tatoeba.org #38546 (CM) & #8267435 (felix63)\\n',\n",
       " 'Good job!\\tBien jouÃ©â€¯!\\tCC-BY 2.0 (France) Attribution: tatoeba.org #1021038 (Quazel) & #943995 (Quazel)\\n',\n",
       " 'Good job!\\tBon boulotâ€¯!\\tCC-BY 2.0 (France) Attribution: tatoeba.org #1021038 (Quazel) & #1021041 (sacredceltic)\\n',\n",
       " 'Good job!\\tBeau travailâ€¯!\\tCC-BY 2.0 (France) Attribution: tatoeba.org #1021038 (Quazel) & #1021042 (sacredceltic)\\n',\n",
       " 'Good job!\\tBravo !\\tCC-BY 2.0 (France) Attribution: tatoeba.org #1021038 (Quazel) & #5822028 (EvaFranska)\\n',\n",
       " 'Grab him.\\tAttrape-le.\\tCC-BY 2.0 (France) Attribution: tatoeba.org #285184 (CK) & #4533883 (pfpillon)\\n',\n",
       " 'Grab him.\\tAttrapez-le.\\tCC-BY 2.0 (France) Attribution: tatoeba.org #285184 (CK) & #5365835 (pititnatole)\\n',\n",
       " 'Grab him.\\tMettez-lui la main dessus !\\tCC-BY 2.0 (France) Attribution: tatoeba.org #285184 (CK) & #10795689 (sacredceltic)\\n',\n",
       " 'Have fun.\\tAmuse-toi bien !\\tCC-BY 2.0 (France) Attribution: tatoeba.org #21267 (CK) & #9390 (Archibald)\\n',\n",
       " 'Have fun.\\tAmusez-vous bien !\\tCC-BY 2.0 (France) Attribution: tatoeba.org #21267 (CK) & #583314 (sacredceltic)\\n',\n",
       " 'Have fun.\\tAmusez-vous bien.\\tCC-BY 2.0 (France) Attribution: tatoeba.org #21267 (CK) & #10665555 (AutoBot)\\n',\n",
       " 'He spoke.\\tIl a parlÃ©.\\tCC-BY 2.0 (France) Attribution: tatoeba.org #1564976 (marcelostockle) & #9020264 (Micsmithel)\\n',\n",
       " 'He spoke.\\tIl a pris la parole.\\tCC-BY 2.0 (France) Attribution: tatoeba.org #1564976 (marcelostockle) & #9020265 (Micsmithel)\\n',\n",
       " \"He spoke.\\tIl s'est exprimÃ©.\\tCC-BY 2.0 (France) Attribution: tatoeba.org #1564976 (marcelostockle) & #9020266 (Micsmithel)\\n\",\n",
       " 'He tries.\\tIl essaye.\\tCC-BY 2.0 (France) Attribution: tatoeba.org #288166 (CM) & #130539 (Aiji)\\n',\n",
       " \"He's wet.\\tIl est mouillÃ©.\\tCC-BY 2.0 (France) Attribution: tatoeba.org #1780073 (Spamster) & #1783820 (sacredceltic)\\n\",\n",
       " 'Help Tom.\\tAide Tom.\\tCC-BY 2.0 (France) Attribution: tatoeba.org #2203858 (CK) & #6465577 (Aiji)\\n',\n",
       " 'Help Tom.\\tAidez Tom.\\tCC-BY 2.0 (France) Attribution: tatoeba.org #2203858 (CK) & #6465578 (Aiji)\\n',\n",
       " 'Help Tom.\\tAidez Tom !\\tCC-BY 2.0 (France) Attribution: tatoeba.org #2203858 (CK) & #7704247 (Micsmithel)\\n',\n",
       " 'Hi, guys.\\tSalut, les mecs !\\tCC-BY 2.0 (France) Attribution: tatoeba.org #2561375 (Hybrid) & #5050011 (sacredceltic)\\n',\n",
       " \"How cute!\\tComme c'est mignonâ€¯!\\tCC-BY 2.0 (France) Attribution: tatoeba.org #36097 (CM) & #13011 (sacredceltic)\\n\",\n",
       " 'How cute!\\tTrop mignon !\\tCC-BY 2.0 (France) Attribution: tatoeba.org #36097 (CM) & #8304697 (Micsmithel)\\n',\n",
       " 'How cute!\\tTrop mignonne !\\tCC-BY 2.0 (France) Attribution: tatoeba.org #36097 (CM) & #8304698 (Micsmithel)\\n',\n",
       " 'How deep?\\tQuelle profondeurâ€¯?\\tCC-BY 2.0 (France) Attribution: tatoeba.org #37612 (CM) & #12910 (mouche)\\n',\n",
       " 'How nice!\\tComme elle est belleâ€¯!\\tCC-BY 2.0 (France) Attribution: tatoeba.org #1913091 (CK) & #134193 (sacredceltic)\\n',\n",
       " \"How nice!\\tComme c'est chouette !\\tCC-BY 2.0 (France) Attribution: tatoeba.org #1913091 (CK) & #1927903 (sacredceltic)\\n\",\n",
       " \"How nice!\\tComme c'est gentil !\\tCC-BY 2.0 (France) Attribution: tatoeba.org #1913091 (CK) & #1927904 (sacredceltic)\\n\",\n",
       " \"How nice!\\tC'est du joli !\\tCC-BY 2.0 (France) Attribution: tatoeba.org #1913091 (CK) & #1927905 (sacredceltic)\\n\",\n",
       " \"How nice!\\tComme c'est agrÃ©able !\\tCC-BY 2.0 (France) Attribution: tatoeba.org #1913091 (CK) & #1927906 (sacredceltic)\\n\",\n",
       " 'How rude!\\tQuelle grossiÃ¨retÃ© !\\tCC-BY 2.0 (France) Attribution: tatoeba.org #8094348 (iT4LL) & #8984259 (Micsmithel)\\n',\n",
       " 'How wise!\\tQuelle sagesse !\\tCC-BY 2.0 (France) Attribution: tatoeba.org #8907812 (CK) & #9025616 (Micsmithel)\\n',\n",
       " 'Hurry up.\\tDÃ©pÃªche-toi.\\tCC-BY 2.0 (France) Attribution: tatoeba.org #1329 (brauliobezerra) & #9270 (sacredceltic)\\n',\n",
       " 'Hurry up.\\tGrouilleâ€¯!\\tCC-BY 2.0 (France) Attribution: tatoeba.org #1329 (brauliobezerra) & #711240 (U2FS)\\n',\n",
       " 'Hurry up.\\tPressez-vous !\\tCC-BY 2.0 (France) Attribution: tatoeba.org #1329 (brauliobezerra) & #1158419 (sacredceltic)\\n',\n",
       " 'Hurry up.\\tFiÃ§a !\\tCC-BY 2.0 (France) Attribution: tatoeba.org #1329 (brauliobezerra) & #4142304 (sacredceltic)\\n',\n",
       " 'Hurry up.\\tMagne-toi !\\tCC-BY 2.0 (France) Attribution: tatoeba.org #1329 (brauliobezerra) & #4578506 (sacredceltic)\\n',\n",
       " 'Hurry up.\\tMagnez-vous !\\tCC-BY 2.0 (France) Attribution: tatoeba.org #1329 (brauliobezerra) & #8691461 (sacredceltic)\\n',\n",
       " 'I am Tom.\\tJe suis Tom.\\tCC-BY 2.0 (France) Attribution: tatoeba.org #3319395 (CM) & #3344396 (Aiji)\\n',\n",
       " \"I cursed.\\tJ'ai jurÃ©.\\tCC-BY 2.0 (France) Attribution: tatoeba.org #8397701 (CK) & #8984439 (Micsmithel)\\n\",\n",
       " \"I did OK.\\tJe m'en suis bien sorti.\\tCC-BY 2.0 (France) Attribution: tatoeba.org #4498134 (CK) & #920649 (sacredceltic)\\n\",\n",
       " \"I did OK.\\tJe m'en suis bien sortie.\\tCC-BY 2.0 (France) Attribution: tatoeba.org #4498134 (CK) & #3658896 (sacredceltic)\\n\",\n",
       " \"I did it.\\tJe l'ai fait.\\tCC-BY 2.0 (France) Attribution: tatoeba.org #2549832 (CK) & #1843065 (sacredceltic)\\n\",\n",
       " \"I did it.\\tC'est moi qui l'ai fait.\\tCC-BY 2.0 (France) Attribution: tatoeba.org #2549832 (CK) & #4221828 (sacredceltic)\\n\",\n",
       " \"I failed.\\tJ'ai Ã©chouÃ©.\\tCC-BY 2.0 (France) Attribution: tatoeba.org #2484985 (AlanF_US) & #2433576 (sacredceltic)\\n\",\n",
       " \"I forgot.\\tJ'ai oubliÃ©.\\tCC-BY 2.0 (France) Attribution: tatoeba.org #436603 (lukaszpp) & #994324 (sacredceltic)\\n\",\n",
       " \"I get it.\\tJ'ai compris.\\tCC-BY 2.0 (France) Attribution: tatoeba.org #1691393 (aka_aj) & #1313534 (sacredceltic)\\n\",\n",
       " \"I goofed.\\tJ'ai fait une gaffe.\\tCC-BY 2.0 (France) Attribution: tatoeba.org #5828628 (CK) & #10046287 (Micsmithel)\\n\",\n",
       " \"I got it.\\tJ'ai compris.\\tCC-BY 2.0 (France) Attribution: tatoeba.org #433472 (CK) & #1313534 (sacredceltic)\\n\",\n",
       " \"I got it.\\tJ'ai captÃ©.\\tCC-BY 2.0 (France) Attribution: tatoeba.org #433472 (CK) & #1313536 (sacredceltic)\\n\",\n",
       " \"I helped.\\tJ'ai aidÃ©.\\tCC-BY 2.0 (France) Attribution: tatoeba.org #5828630 (CK) & #7092240 (felix63)\\n\",\n",
       " \"I jumped.\\tJ'ai sautÃ©.\\tCC-BY 2.0 (France) Attribution: tatoeba.org #5828631 (CK) & #4594083 (sacredceltic)\\n\",\n",
       " 'I looked.\\tJâ€™ai regardÃ©.\\tCC-BY 2.0 (France) Attribution: tatoeba.org #5828632 (CK) & #7711361 (sacredceltic)\\n',\n",
       " 'I moaned.\\tJâ€™ai rÃ¢lÃ©.\\tCC-BY 2.0 (France) Attribution: tatoeba.org #5828633 (CK) & #7711366 (sacredceltic)\\n',\n",
       " 'I nodded.\\tJâ€™ai fait signe de la tÃªte.\\tCC-BY 2.0 (France) Attribution: tatoeba.org #5828634 (CK) & #7711369 (sacredceltic)\\n',\n",
       " 'I obeyed.\\tJâ€™ai obÃ©i.\\tCC-BY 2.0 (France) Attribution: tatoeba.org #5828635 (CK) & #7711372 (sacredceltic)\\n',\n",
       " 'I phoned.\\tJe tÃ©lÃ©phonai.\\tCC-BY 2.0 (France) Attribution: tatoeba.org #1357258 (sacredceltic) & #936685 (sacredceltic)\\n',\n",
       " \"I phoned.\\tJ'ai tÃ©lÃ©phonÃ©.\\tCC-BY 2.0 (France) Attribution: tatoeba.org #1357258 (sacredceltic) & #2931445 (nimfeo)\\n\",\n",
       " 'I refuse.\\tJe refuse.\\tCC-BY 2.0 (France) Attribution: tatoeba.org #3930181 (Youmu970) & #3835813 (gorgmah)\\n',\n",
       " 'I refuse.\\tJe le refuse.\\tCC-BY 2.0 (France) Attribution: tatoeba.org #3930181 (Youmu970) & #4678650 (sacredceltic)\\n',\n",
       " 'I rested.\\tJe me suis reposÃ©.\\tCC-BY 2.0 (France) Attribution: tatoeba.org #7538188 (CK) & #7713673 (sacredceltic)\\n',\n",
       " 'I rested.\\tJe me suis reposÃ©e.\\tCC-BY 2.0 (France) Attribution: tatoeba.org #7538188 (CK) & #7713674 (sacredceltic)\\n',\n",
       " \"I saw it.\\tJe l'ai vu.\\tCC-BY 2.0 (France) Attribution: tatoeba.org #2247397 (CK) & #9442 (sacredceltic)\\n\",\n",
       " 'I saw it.\\tJe lâ€™ai vu.\\tCC-BY 2.0 (France) Attribution: tatoeba.org #2247397 (CK) & #523030 (zmoo)\\n',\n",
       " 'I sighed.\\tJâ€™ai soupirÃ©.\\tCC-BY 2.0 (France) Attribution: tatoeba.org #7538191 (CK) & #7713675 (sacredceltic)\\n',\n",
       " \"I smiled.\\tJ'ai souri.\\tCC-BY 2.0 (France) Attribution: tatoeba.org #3651941 (Luciosp) & #9022911 (Micsmithel)\\n\",\n",
       " 'I stayed.\\tJe suis restÃ©.\\tCC-BY 2.0 (France) Attribution: tatoeba.org #2123630 (CK) & #4563841 (sacredceltic)\\n',\n",
       " 'I stayed.\\tJe suis restÃ©e.\\tCC-BY 2.0 (France) Attribution: tatoeba.org #2123630 (CK) & #4563843 (sacredceltic)\\n',\n",
       " 'I talked.\\tJâ€™ai parlÃ©.\\tCC-BY 2.0 (France) Attribution: tatoeba.org #5828639 (CK) & #7711374 (sacredceltic)\\n',\n",
       " \"I use it.\\tJe l'utilise.\\tCC-BY 2.0 (France) Attribution: tatoeba.org #254813 (CK) & #896850 (sacredceltic)\\n\",\n",
       " \"I use it.\\tJ'en fais usage.\\tCC-BY 2.0 (France) Attribution: tatoeba.org #254813 (CK) & #896851 (sacredceltic)\\n\",\n",
       " \"I use it.\\tJe m'en sers.\\tCC-BY 2.0 (France) Attribution: tatoeba.org #254813 (CK) & #896852 (sacredceltic)\\n\",\n",
       " \"I'll pay.\\tJe paierai.\\tCC-BY 2.0 (France) Attribution: tatoeba.org #411285 (CK) & #1302573 (sacredceltic)\\n\",\n",
       " \"I'll pay.\\tJe paie.\\tCC-BY 2.0 (France) Attribution: tatoeba.org #411285 (CK) & #1846413 (sacredceltic)\\n\",\n",
       " \"I'll try.\\tJe vais essayer.\\tCC-BY 2.0 (France) Attribution: tatoeba.org #2111768 (CK) & #15441 (Aiji)\\n\",\n",
       " \"I'll try.\\tJ'essaierai.\\tCC-BY 2.0 (France) Attribution: tatoeba.org #2111768 (CK) & #488750 (sacredceltic)\\n\",\n",
       " \"I'm back.\\tJe suis revenu.\\tCC-BY 2.0 (France) Attribution: tatoeba.org #564159 (darinmex) & #591724 (qdii)\\n\",\n",
       " \"I'm back.\\tMe revoilÃ\\xa0.\\tCC-BY 2.0 (France) Attribution: tatoeba.org #564159 (darinmex) & #1485923 (Dreamk33)\\n\",\n",
       " \"I'm bald.\\tJe suis chauve.\\tCC-BY 2.0 (France) Attribution: tatoeba.org #3330667 (CK) & #4681904 (sacredceltic)\\n\",\n",
       " \"I'm busy.\\tJe suis occupÃ©.\\tCC-BY 2.0 (France) Attribution: tatoeba.org #261721 (CK) & #127910 (sacredceltic)\\n\",\n",
       " \"I'm busy.\\tJe suis occupÃ©e.\\tCC-BY 2.0 (France) Attribution: tatoeba.org #261721 (CK) & #4320601 (gillux)\\n\",\n",
       " \"I'm calm.\\tJe suis calme.\\tCC-BY 2.0 (France) Attribution: tatoeba.org #2948173 (Joseph) & #942309 (sacredceltic)\\n\",\n",
       " \"I'm cold.\\tJ'ai froid.\\tCC-BY 2.0 (France) Attribution: tatoeba.org #455947 (lukaszpp) & #469786 (mamat)\\n\",\n",
       " \"I'm cool.\\tJe suis dÃ©tendu.\\tCC-BY 2.0 (France) Attribution: tatoeba.org #2202692 (CK) & #5058692 (sacredceltic)\\n\",\n",
       " \"I'm cool.\\tJe suis dÃ©tendue.\\tCC-BY 2.0 (France) Attribution: tatoeba.org #2202692 (CK) & #5058693 (sacredceltic)\\n\",\n",
       " \"I'm deaf.\\tJe suis sourd.\\tCC-BY 2.0 (France) Attribution: tatoeba.org #5828646 (CK) & #5834931 (Yemana)\\n\",\n",
       " \"I'm deaf.\\tJe suis sourde.\\tCC-BY 2.0 (France) Attribution: tatoeba.org #5828646 (CK) & #5834932 (Yemana)\\n\",\n",
       " \"I'm done.\\tJ'en ai fini.\\tCC-BY 2.0 (France) Attribution: tatoeba.org #2202792 (CK) & #971362 (sacredceltic)\\n\",\n",
       " \"I'm fair.\\tJe suis juste.\\tCC-BY 2.0 (France) Attribution: tatoeba.org #2202832 (CK) & #7680291 (sacredceltic)\\n\",\n",
       " \"I'm fair.\\tJ'ai la peau claire.\\tCC-BY 2.0 (France) Attribution: tatoeba.org #2202832 (CK) & #7680295 (sacredceltic)\\n\",\n",
       " \"I'm fair.\\tJ'ai le teint clair.\\tCC-BY 2.0 (France) Attribution: tatoeba.org #2202832 (CK) & #7680296 (sacredceltic)\\n\",\n",
       " \"I'm fast.\\tJe suis rapide.\\tCC-BY 2.0 (France) Attribution: tatoeba.org #5828647 (CK) & #5834930 (Yemana)\\n\",\n",
       " \"I'm fine.\\tTout va bien.\\tCC-BY 2.0 (France) Attribution: tatoeba.org #257272 (Eldad) & #9336 (sacredceltic)\\n\",\n",
       " \"I'm fine.\\tJe vais bien.\\tCC-BY 2.0 (France) Attribution: tatoeba.org #257272 (Eldad) & #488439 (Anthaus)\\n\",\n",
       " \"I'm fine.\\tÃ‡a va.\\tCC-BY 2.0 (France) Attribution: tatoeba.org #257272 (Eldad) & #744360 (Christiane)\\n\",\n",
       " \"I'm free!\\tJe suis libre !\\tCC-BY 2.0 (France) Attribution: tatoeba.org #1888443 (Spamster) & #1890042 (sacredceltic)\\n\",\n",
       " \"I'm free.\\tJe suis libre.\\tCC-BY 2.0 (France) Attribution: tatoeba.org #23959 (CK) & #6725 (sacredceltic)\\n\",\n",
       " \"I'm free.\\tJe suis disponible.\\tCC-BY 2.0 (France) Attribution: tatoeba.org #23959 (CK) & #1302577 (sacredceltic)\\n\",\n",
       " \"I'm full.\\tJe suis repuâ€¯!\\tCC-BY 2.0 (France) Attribution: tatoeba.org #433863 (CK) & #519939 (zmoo)\\n\",\n",
       " \"I'm full.\\tJe suis rassasiÃ©â€¯!\\tCC-BY 2.0 (France) Attribution: tatoeba.org #433863 (CK) & #628256 (pjer)\\n\",\n",
       " \"I'm game.\\tJ'en suis.\\tCC-BY 2.0 (France) Attribution: tatoeba.org #835972 (CM) & #835982 (sacredceltic)\\n\",\n",
       " \"I'm game.\\tJe suis de la partie.\\tCC-BY 2.0 (France) Attribution: tatoeba.org #835972 (CM) & #835983 (sacredceltic)\\n\",\n",
       " \"I'm glad.\\tJe suis content.\\tCC-BY 2.0 (France) Attribution: tatoeba.org #2111730 (CK) & #5369590 (Aiji)\\n\",\n",
       " \"I'm home.\\tJe suis chez moi.\\tCC-BY 2.0 (France) Attribution: tatoeba.org #2111725 (CK) & #4678796 (sacredceltic)\\n\",\n",
       " \"I'm late.\\tJe suis en retard.\\tCC-BY 2.0 (France) Attribution: tatoeba.org #2123622 (CK) & #4678896 (sacredceltic)\\n\",\n",
       " \"I'm lazy.\\tJe suis paresseux.\\tCC-BY 2.0 (France) Attribution: tatoeba.org #2203056 (CK) & #1133774 (sacredceltic)\\n\",\n",
       " \"I'm lazy.\\tJe suis fainÃ©ant.\\tCC-BY 2.0 (France) Attribution: tatoeba.org #2203056 (CK) & #1133775 (sacredceltic)\\n\",\n",
       " \"I'm lazy.\\tJe suis paresseuse.\\tCC-BY 2.0 (France) Attribution: tatoeba.org #2203056 (CK) & #5060208 (sacredceltic)\\n\",\n",
       " \"I'm lazy.\\tJe suis fainÃ©ante.\\tCC-BY 2.0 (France) Attribution: tatoeba.org #2203056 (CK) & #5060210 (sacredceltic)\\n\",\n",
       " \"I'm lost.\\tJe suis paumÃ©.\\tCC-BY 2.0 (France) Attribution: tatoeba.org #455833 (lukaszpp) & #3346875 (Blabla)\\n\",\n",
       " \"I'm lost.\\tJe suis perdue.\\tCC-BY 2.0 (France) Attribution: tatoeba.org #455833 (lukaszpp) & #9539079 (sacredceltic)\\n\",\n",
       " \"I'm okay.\\tJe vais bien.\\tCC-BY 2.0 (France) Attribution: tatoeba.org #2283729 (CK) & #488439 (Anthaus)\\n\",\n",
       " \"I'm okay.\\tJe me porte bien.\\tCC-BY 2.0 (France) Attribution: tatoeba.org #2283729 (CK) & #2134243 (sacredceltic)\\n\",\n",
       " \"I'm rich.\\tJe suis riche.\\tCC-BY 2.0 (France) Attribution: tatoeba.org #2203289 (CK) & #3291042 (Aiji)\\n\",\n",
       " \"I'm safe.\\tJe suis en sÃ©curitÃ©.\\tCC-BY 2.0 (France) Attribution: tatoeba.org #2203309 (CK) & #4678946 (sacredceltic)\\n\",\n",
       " \"I'm sick.\\tJe suis malade.\\tCC-BY 2.0 (France) Attribution: tatoeba.org #780304 (vgigregg) & #459031 (sacredceltic)\\n\",\n",
       " \"I'm sure.\\tJ'en suis certain.\\tCC-BY 2.0 (France) Attribution: tatoeba.org #2283730 (CK) & #1157370 (sacredceltic)\\n\",\n",
       " \"I'm sure.\\tJe suis certain.\\tCC-BY 2.0 (France) Attribution: tatoeba.org #2283730 (CK) & #1181577 (sacredceltic)\\n\",\n",
       " \"I'm sure.\\tJ'en suis sÃ»r.\\tCC-BY 2.0 (France) Attribution: tatoeba.org #2283730 (CK) & #2285478 (sacredceltic)\\n\",\n",
       " \"I'm sure.\\tJ'en suis sÃ»re.\\tCC-BY 2.0 (France) Attribution: tatoeba.org #2283730 (CK) & #2285480 (sacredceltic)\\n\",\n",
       " \"I'm tall.\\tJe suis grande.\\tCC-BY 2.0 (France) Attribution: tatoeba.org #2764439 (CK) & #5064942 (sacredceltic)\\n\",\n",
       " \"I'm thin.\\tJe suis mince.\\tCC-BY 2.0 (France) Attribution: tatoeba.org #2203445 (CK) & #2991266 (nimfeo)\\n\",\n",
       " \"I'm tidy.\\tJe suis ordonnÃ©.\\tCC-BY 2.0 (France) Attribution: tatoeba.org #2203456 (CK) & #4679006 (sacredceltic)\\n\",\n",
       " \"I'm tidy.\\tJe suis ordonnÃ©e.\\tCC-BY 2.0 (France) Attribution: tatoeba.org #2203456 (CK) & #4679007 (sacredceltic)\\n\",\n",
       " \"I'm ugly.\\tJe suis laid.\\tCC-BY 2.0 (France) Attribution: tatoeba.org #2428556 (CK) & #4426371 (sacredceltic)\\n\",\n",
       " \"I'm ugly.\\tJe suis laide.\\tCC-BY 2.0 (France) Attribution: tatoeba.org #2428556 (CK) & #4426372 (sacredceltic)\\n\",\n",
       " \"I'm ugly.\\tJe suis moche.\\tCC-BY 2.0 (France) Attribution: tatoeba.org #2428556 (CK) & #6061597 (Blabla)\\n\",\n",
       " \"I'm weak.\\tJe suis faible.\\tCC-BY 2.0 (France) Attribution: tatoeba.org #2203572 (CK) & #5063522 (sacredceltic)\\n\",\n",
       " \"I'm well.\\tJe vais bien.\\tCC-BY 2.0 (France) Attribution: tatoeba.org #4207033 (stevegrant) & #488439 (Anthaus)\\n\",\n",
       " \"I'm well.\\tJe me porte bien.\\tCC-BY 2.0 (France) Attribution: tatoeba.org #4207033 (stevegrant) & #2134243 (sacredceltic)\\n\",\n",
       " \"I've won.\\tJ'ai gagnÃ©.\\tCC-BY 2.0 (France) Attribution: tatoeba.org #2283734 (CK) & #2285466 (sacredceltic)\\n\",\n",
       " \"I've won.\\tJe l'ai emportÃ©.\\tCC-BY 2.0 (France) Attribution: tatoeba.org #2283734 (CK) & #2285472 (sacredceltic)\\n\",\n",
       " 'It helps.\\tÃ‡a aide.\\tCC-BY 2.0 (France) Attribution: tatoeba.org #2123616 (CK) & #5150048 (nbrr)\\n',\n",
       " 'It hurts.\\tÃ‡a fait mal.\\tCC-BY 2.0 (France) Attribution: tatoeba.org #2649251 (CK) & #5013857 (Sittelle)\\n',\n",
       " 'It works.\\tElle marche.\\tCC-BY 2.0 (France) Attribution: tatoeba.org #1365269 (sacredceltic) & #134661 (sacredceltic)\\n',\n",
       " 'It works.\\tÃ‡a fonctionne.\\tCC-BY 2.0 (France) Attribution: tatoeba.org #1365269 (sacredceltic) & #1365270 (sacredceltic)\\n',\n",
       " \"It's Tom.\\tC'est Tom.\\tCC-BY 2.0 (France) Attribution: tatoeba.org #2123573 (CK) & #6463420 (Aiji)\\n\",\n",
       " \"It's fun.\\tC'est marrant.\\tCC-BY 2.0 (France) Attribution: tatoeba.org #2123602 (CK) & #2190175 (sacredceltic)\\n\",\n",
       " \"It's fun.\\tC'est rigolo.\\tCC-BY 2.0 (France) Attribution: tatoeba.org #2123602 (CK) & #2285421 (sacredceltic)\\n\",\n",
       " \"It's his.\\tC'est le sien.\\tCC-BY 2.0 (France) Attribution: tatoeba.org #2187229 (CK) & #2190151 (sacredceltic)\\n\",\n",
       " \"It's his.\\tC'est la sienne.\\tCC-BY 2.0 (France) Attribution: tatoeba.org #2187229 (CK) & #2190255 (sacredceltic)\\n\",\n",
       " \"It's new.\\tC'est nouveau.\\tCC-BY 2.0 (France) Attribution: tatoeba.org #42304 (CK) & #822111 (U2FS)\\n\",\n",
       " \"It's new.\\tC'est neuf.\\tCC-BY 2.0 (France) Attribution: tatoeba.org #42304 (CK) & #822114 (U2FS)\\n\",\n",
       " \"It's odd.\\tC'est bizarre.\\tCC-BY 2.0 (France) Attribution: tatoeba.org #2283742 (CK) & #15762 (dominiko)\\n\",\n",
       " \"It's red.\\tIl est rouge.\\tCC-BY 2.0 (France) Attribution: tatoeba.org #3821226 (CK) & #6997423 (Aiji)\\n\",\n",
       " \"It's sad.\\tCâ€™est triste.\\tCC-BY 2.0 (France) Attribution: tatoeba.org #2515077 (CK) & #4320549 (gillux)\\n\",\n",
       " \"Keep out!\\tDÃ©fense d'entrer.\\tCC-BY 2.0 (France) Attribution: tatoeba.org #325436 (CK) & #15733 (nimfeo)\\n\",\n",
       " \"Keep out.\\tN'entrez pas.\\tCC-BY 2.0 (France) Attribution: tatoeba.org #325435 (CK) & #1313539 (sacredceltic)\\n\",\n",
       " 'Kill Tom.\\tTuez Tom.\\tCC-BY 2.0 (France) Attribution: tatoeba.org #7126144 (CM) & #9252898 (Micsmithel)\\n',\n",
       " 'Kill Tom.\\tTue Tom.\\tCC-BY 2.0 (France) Attribution: tatoeba.org #7126144 (CM) & #9252899 (Micsmithel)\\n',\n",
       " 'Kiss Tom.\\tEmbrasse Tom.\\tCC-BY 2.0 (France) Attribution: tatoeba.org #2203863 (CK) & #6463389 (Aiji)\\n',\n",
       " 'Leave it.\\tLaisse tomber !\\tCC-BY 2.0 (France) Attribution: tatoeba.org #1954272 (CK) & #1973430 (sacredceltic)\\n',\n",
       " 'Leave it.\\tLaissez tomber !\\tCC-BY 2.0 (France) Attribution: tatoeba.org #1954272 (CK) & #1973431 (sacredceltic)\\n',\n",
       " 'Leave it.\\tLaisse !\\tCC-BY 2.0 (France) Attribution: tatoeba.org #1954272 (CK) & #7704078 (Micsmithel)\\n',\n",
       " 'Leave it.\\tLaissez Ã§a.\\tCC-BY 2.0 (France) Attribution: tatoeba.org #1954272 (CK) & #7704227 (Micsmithel)\\n',\n",
       " 'Leave it.\\tLaisse Ã§a.\\tCC-BY 2.0 (France) Attribution: tatoeba.org #1954272 (CK) & #8619839 (Micsmithel)\\n',\n",
       " 'Leave me.\\tLaissez-moi !\\tCC-BY 2.0 (France) Attribution: tatoeba.org #1954273 (CK) & #1977416 (sacredceltic)\\n',\n",
       " 'Leave us.\\tLaisse-nous !\\tCC-BY 2.0 (France) Attribution: tatoeba.org #1954274 (CK) & #1996178 (sacredceltic)\\n',\n",
       " 'Leave us.\\tLaissez-nous !\\tCC-BY 2.0 (France) Attribution: tatoeba.org #1954274 (CK) & #1996182 (sacredceltic)\\n',\n",
       " \"Let's go!\\tAllons-y !\\tCC-BY 2.0 (France) Attribution: tatoeba.org #241077 (CK) & #139646 (kurisutofu)\\n\",\n",
       " \"Let's go!\\tAllons !\\tCC-BY 2.0 (France) Attribution: tatoeba.org #241077 (CK) & #1416041 (Aiji)\\n\",\n",
       " \"Let's go!\\tEn route !\\tCC-BY 2.0 (France) Attribution: tatoeba.org #241077 (CK) & #8267435 (felix63)\\n\",\n",
       " \"Let's go.\\tAllons-y !\\tCC-BY 2.0 (France) Attribution: tatoeba.org #1894538 (CK) & #139646 (kurisutofu)\\n\",\n",
       " \"Let's go.\\tEn route !\\tCC-BY 2.0 (France) Attribution: tatoeba.org #1894538 (CK) & #8267435 (felix63)\\n\",\n",
       " 'Look out!\\tAttention !\\tCC-BY 2.0 (France) Attribution: tatoeba.org #20719 (CK) & #14218 (gillux)\\n',\n",
       " 'Look out!\\tFaites attentionâ€¯!\\tCC-BY 2.0 (France) Attribution: tatoeba.org #20719 (CK) & #135525 (Cocorico)\\n',\n",
       " 'Look out!\\tFais attentionâ€¯!\\tCC-BY 2.0 (France) Attribution: tatoeba.org #20719 (CK) & #426718 (qdii)\\n',\n",
       " 'Look out!\\tSoyez prudente !\\tCC-BY 2.0 (France) Attribution: tatoeba.org #20719 (CK) & #1850041 (sacredceltic)\\n',\n",
       " 'Look out!\\tFais gaffe !\\tCC-BY 2.0 (France) Attribution: tatoeba.org #20719 (CK) & #2350845 (sacredceltic)\\n',\n",
       " 'Look out!\\tFaites gaffe !\\tCC-BY 2.0 (France) Attribution: tatoeba.org #20719 (CK) & #2350848 (sacredceltic)\\n',\n",
       " 'Look out!\\tFais attention !\\tCC-BY 2.0 (France) Attribution: tatoeba.org #20719 (CK) & #4627785 (sacredceltic)\\n',\n",
       " 'Look out!\\tRegarde donc !\\tCC-BY 2.0 (France) Attribution: tatoeba.org #20719 (CK) & #6578421 (felix63)\\n',\n",
       " 'Look out!\\tFaites attention.\\tCC-BY 2.0 (France) Attribution: tatoeba.org #20719 (CK) & #7957947 (Micsmithel)\\n',\n",
       " 'Look out!\\tFais attention.\\tCC-BY 2.0 (France) Attribution: tatoeba.org #20719 (CK) & #7957948 (Micsmithel)\\n',\n",
       " 'Marry me.\\tÃ‰pouse-moi !\\tCC-BY 2.0 (France) Attribution: tatoeba.org #1954275 (CK) & #2077435 (sacredceltic)\\n',\n",
       " 'Marry me.\\tÃ‰pousez-moi !\\tCC-BY 2.0 (France) Attribution: tatoeba.org #1954275 (CK) & #2077436 (sacredceltic)\\n',\n",
       " 'May I go?\\tPuis-je partir ?\\tCC-BY 2.0 (France) Attribution: tatoeba.org #2163138 (Source_VOA) & #2163959 (sacredceltic)\\n',\n",
       " 'May I go?\\tPuis-je y aller ?\\tCC-BY 2.0 (France) Attribution: tatoeba.org #2163138 (Source_VOA) & #2163960 (sacredceltic)\\n',\n",
       " \"May I go?\\tPuis-je m'y rendre ?\\tCC-BY 2.0 (France) Attribution: tatoeba.org #2163138 (Source_VOA) & #2163961 (sacredceltic)\\n\",\n",
       " 'Nice try.\\tBelle tentative.\\tCC-BY 2.0 (France) Attribution: tatoeba.org #9709247 (megamanenm) & #9941117 (Micsmithel)\\n',\n",
       " 'Now stop!\\tArrÃªtez-vous maintenantÂ\\xa0!\\tCC-BY 2.0 (France) Attribution: tatoeba.org #9703310 (sebCurti) & #9941103 (Micsmithel)\\n',\n",
       " 'Now stop!\\tArrÃªte-toi maintenantÂ\\xa0!\\tCC-BY 2.0 (France) Attribution: tatoeba.org #9703310 (sebCurti) & #9941104 (Micsmithel)\\n',\n",
       " 'Run away.\\tFuyez.\\tCC-BY 2.0 (France) Attribution: tatoeba.org #8908078 (CK) & #8304668 (Micsmithel)\\n',\n",
       " 'Run away.\\tFuis.\\tCC-BY 2.0 (France) Attribution: tatoeba.org #8908078 (CK) & #8304670 (Micsmithel)\\n',\n",
       " 'Run away.\\tEnfuyez-vous.\\tCC-BY 2.0 (France) Attribution: tatoeba.org #8908078 (CK) & #9025599 (Micsmithel)\\n',\n",
       " 'Run away.\\tEnfuis-toi.\\tCC-BY 2.0 (France) Attribution: tatoeba.org #8908078 (CK) & #9025600 (Micsmithel)\\n',\n",
       " 'Save Tom.\\tSauve Tom.\\tCC-BY 2.0 (France) Attribution: tatoeba.org #2203865 (CK) & #6465319 (Aiji)\\n',\n",
       " 'Save Tom.\\tSauvez Tom.\\tCC-BY 2.0 (France) Attribution: tatoeba.org #2203865 (CK) & #6465320 (Aiji)\\n',\n",
       " 'Say what?\\tDe quoiâ€¯?\\tCC-BY 2.0 (France) Attribution: tatoeba.org #8453907 (shekitten) & #952623 (sacredceltic)\\n',\n",
       " 'She came.\\tElle est venue.\\tCC-BY 2.0 (France) Attribution: tatoeba.org #853152 (piksea) & #1006703 (elgranjuego)\\n',\n",
       " 'She died.\\tElle est morte.\\tCC-BY 2.0 (France) Attribution: tatoeba.org #1400268 (enteka) & #435303 (jerom)\\n',\n",
       " 'She left.\\tElle est partie.\\tCC-BY 2.0 (France) Attribution: tatoeba.org #3258750 (CH) & #134220 (Cocorico)\\n',\n",
       " 'She runs.\\tElle court.\\tCC-BY 2.0 (France) Attribution: tatoeba.org #672264 (CM) & #672268 (nimfeo)\\n',\n",
       " 'Sit down!\\tAssieds-toi !\\tCC-BY 2.0 (France) Attribution: tatoeba.org #1349166 (sacredceltic) & #1157653 (sacredceltic)\\n',\n",
       " 'Sit down!\\tAsseyez-vous !\\tCC-BY 2.0 (France) Attribution: tatoeba.org #1349166 (sacredceltic) & #1157654 (sacredceltic)\\n',\n",
       " 'Sit down!\\tAsseyez-vous.\\tCC-BY 2.0 (France) Attribution: tatoeba.org #1349166 (sacredceltic) & #6774264 (Micsmithel)\\n',\n",
       " 'Sit down.\\tAssieds-toi.\\tCC-BY 2.0 (France) Attribution: tatoeba.org #1553397 (CK) & #4320328 (gillux)\\n',\n",
       " 'Sit down.\\tAsseyez-vous.\\tCC-BY 2.0 (France) Attribution: tatoeba.org #1553397 (CK) & #6774264 (Micsmithel)\\n',\n",
       " 'Sit here.\\tAssieds-toi ici.\\tCC-BY 2.0 (France) Attribution: tatoeba.org #2111553 (CK) & #2786917 (Rovo)\\n',\n",
       " 'Sit here.\\tAsseyez-vous ici.\\tCC-BY 2.0 (France) Attribution: tatoeba.org #2111553 (CK) & #2786918 (Rovo)\\n',\n",
       " 'Speak up!\\tParle plus fortâ€¯!\\tCC-BY 2.0 (France) Attribution: tatoeba.org #35175 (CK) & #504430 (sacredceltic)\\n',\n",
       " 'Speak up!\\tParlez plus fortâ€¯!\\tCC-BY 2.0 (France) Attribution: tatoeba.org #35175 (CK) & #504431 (sacredceltic)\\n',\n",
       " 'Speak up!\\tParle plus fort !\\tCC-BY 2.0 (France) Attribution: tatoeba.org #35175 (CK) & #10476629 (Julien_PDC)\\n',\n",
       " 'Speed up.\\tAccÃ©lÃ¨re.\\tCC-BY 2.0 (France) Attribution: tatoeba.org #9929432 (Ooneykcall) & #8304703 (Micsmithel)\\n',\n",
       " 'Speed up.\\tAccÃ©lÃ©rez.\\tCC-BY 2.0 (France) Attribution: tatoeba.org #9929432 (Ooneykcall) & #8304704 (Micsmithel)\\n',\n",
       " 'Stand up.\\tLÃ¨ve-toi.\\tCC-BY 2.0 (France) Attribution: tatoeba.org #1573801 (donkirkby) & #886122 (U2FS)\\n',\n",
       " 'Stop Tom.\\tArrÃªte Tom.\\tCC-BY 2.0 (France) Attribution: tatoeba.org #2203866 (CK) & #5661947 (Aiji)\\n',\n",
       " 'Stop Tom.\\tStoppez Tom.\\tCC-BY 2.0 (France) Attribution: tatoeba.org #2203866 (CK) & #5661948 (Aiji)\\n',\n",
       " 'Take Tom.\\tPrends Tom.\\tCC-BY 2.0 (France) Attribution: tatoeba.org #2111478 (CK) & #7477643 (Micsmithel)\\n',\n",
       " 'Taste it.\\tGoÃ»te-le.\\tCC-BY 2.0 (France) Attribution: tatoeba.org #6890476 (Eccles17) & #6891046 (GB3)\\n',\n",
       " 'Taste it.\\tGoÃ»te-la.\\tCC-BY 2.0 (France) Attribution: tatoeba.org #6890476 (Eccles17) & #6891047 (GB3)\\n',\n",
       " 'Taste it.\\tGoÃ»tez-le.\\tCC-BY 2.0 (France) Attribution: tatoeba.org #6890476 (Eccles17) & #6891048 (GB3)\\n',\n",
       " 'Taste it.\\tGoÃ»tez-la.\\tCC-BY 2.0 (France) Attribution: tatoeba.org #6890476 (Eccles17) & #6891050 (GB3)\\n',\n",
       " 'Tell Tom.\\tDis-le Ã\\xa0 Tom.\\tCC-BY 2.0 (France) Attribution: tatoeba.org #2111475 (CK) & #6462999 (Aiji)\\n',\n",
       " 'Tell Tom.\\tInformez-en Tom.\\tCC-BY 2.0 (France) Attribution: tatoeba.org #2111475 (CK) & #6463001 (Aiji)\\n',\n",
       " 'Terrific!\\tFantastiqueâ€¯!\\tCC-BY 2.0 (France) Attribution: tatoeba.org #52022 (Zifre) & #10876 (sacredceltic)\\n',\n",
       " 'Terrific!\\tGÃ©nialâ€¯!\\tCC-BY 2.0 (France) Attribution: tatoeba.org #52022 (Zifre) & #11877 (sacredceltic)\\n',\n",
       " 'Terrific!\\tSuperâ€¯!\\tCC-BY 2.0 (France) Attribution: tatoeba.org #52022 (Zifre) & #400584 (qdii)\\n',\n",
       " 'Terrific!\\tAu poilâ€¯!\\tCC-BY 2.0 (France) Attribution: tatoeba.org #52022 (Zifre) & #879138 (sacredceltic)\\n',\n",
       " 'Terrific!\\tImpeccableâ€¯!\\tCC-BY 2.0 (France) Attribution: tatoeba.org #52022 (Zifre) & #879142 (sacredceltic)\\n',\n",
       " 'Terrific!\\tNickelâ€¯!\\tCC-BY 2.0 (France) Attribution: tatoeba.org #52022 (Zifre) & #879144 (sacredceltic)\\n',\n",
       " 'Terrific!\\tExcellentâ€¯!\\tCC-BY 2.0 (France) Attribution: tatoeba.org #52022 (Zifre) & #920629 (sacredceltic)\\n',\n",
       " 'Terrific!\\tMagnifiqueâ€¯!\\tCC-BY 2.0 (France) Attribution: tatoeba.org #52022 (Zifre) & #926433 (U2FS)\\n',\n",
       " 'Terrific!\\tNickel chromeâ€¯!\\tCC-BY 2.0 (France) Attribution: tatoeba.org #52022 (Zifre) & #1090707 (sysko)\\n',\n",
       " 'Terrific!\\tBien.\\tCC-BY 2.0 (France) Attribution: tatoeba.org #52022 (Zifre) & #1153661 (Wittydev)\\n',\n",
       " 'Terrific!\\tFormidable !\\tCC-BY 2.0 (France) Attribution: tatoeba.org #52022 (Zifre) & #1613749 (Aiji)\\n',\n",
       " \"Terrific!\\tC'est gÃ©nial !\\tCC-BY 2.0 (France) Attribution: tatoeba.org #52022 (Zifre) & #1853257 (sacredceltic)\\n\",\n",
       " 'Terrific!\\tÃ€ la bonne heure !\\tCC-BY 2.0 (France) Attribution: tatoeba.org #52022 (Zifre) & #2083708 (Filcxjo)\\n',\n",
       " \"Terrific!\\tC'est super.\\tCC-BY 2.0 (France) Attribution: tatoeba.org #52022 (Zifre) & #2190367 (sacredceltic)\\n\",\n",
       " 'Terrific!\\tSuper !\\tCC-BY 2.0 (France) Attribution: tatoeba.org #52022 (Zifre) & #3432466 (sacredceltic)\\n',\n",
       " 'Terrific!\\tGÃ©nial !\\tCC-BY 2.0 (France) Attribution: tatoeba.org #52022 (Zifre) & #5824840 (EvaFranska)\\n',\n",
       " 'Terrific!\\tSensass !\\tCC-BY 2.0 (France) Attribution: tatoeba.org #52022 (Zifre) & #8690499 (Micsmithel)\\n',\n",
       " 'They won.\\tIls gagnÃ¨rent.\\tCC-BY 2.0 (France) Attribution: tatoeba.org #1618734 (CK) & #1619340 (sacredceltic)\\n',\n",
       " 'They won.\\tElles gagnÃ¨rent.\\tCC-BY 2.0 (France) Attribution: tatoeba.org #1618734 (CK) & #1619341 (sacredceltic)\\n',\n",
       " 'They won.\\tIls ont gagnÃ©.\\tCC-BY 2.0 (France) Attribution: tatoeba.org #1618734 (CK) & #1619342 (sacredceltic)\\n',\n",
       " 'They won.\\tElles ont gagnÃ©.\\tCC-BY 2.0 (France) Attribution: tatoeba.org #1618734 (CK) & #1619343 (sacredceltic)\\n',\n",
       " 'Tom came.\\tTom est venu.\\tCC-BY 2.0 (France) Attribution: tatoeba.org #2203606 (CK) & #2459922 (Rovo)\\n',\n",
       " 'Tom died.\\tTom est mort.\\tCC-BY 2.0 (France) Attribution: tatoeba.org #2005188 (CK) & #1985736 (nimfeo)\\n',\n",
       " 'Tom knew.\\tTom savait.\\tCC-BY 2.0 (France) Attribution: tatoeba.org #2203721 (CK) & #6465506 (Aiji)\\n',\n",
       " 'Tom left.\\tTom est parti.\\tCC-BY 2.0 (France) Attribution: tatoeba.org #2005178 (CK) & #5324592 (Aiji)\\n',\n",
       " 'Tom left.\\tTom partit.\\tCC-BY 2.0 (France) Attribution: tatoeba.org #2005178 (CK) & #5324593 (Aiji)\\n',\n",
       " 'Tom lied.\\tTom a menti.\\tCC-BY 2.0 (France) Attribution: tatoeba.org #2005179 (CK) & #4339669 (michelnialon)\\n',\n",
       " 'Tom lies.\\tTom ment.\\tCC-BY 2.0 (France) Attribution: tatoeba.org #2203722 (CK) & #3797421 (GB3)\\n',\n",
       " 'Tom lost.\\tTom a perdu.\\tCC-BY 2.0 (France) Attribution: tatoeba.org #2005180 (CK) & #4765912 (Doremi391)\\n',\n",
       " 'Tom paid.\\tTom a payÃ©.\\tCC-BY 2.0 (France) Attribution: tatoeba.org #2111155 (CK) & #4339668 (michelnialon)\\n',\n",
       " 'Tom paid.\\tTom payait.\\tCC-BY 2.0 (France) Attribution: tatoeba.org #2111155 (CK) & #9556909 (Micsmithel)\\n',\n",
       " 'Tom went.\\tTom est parti.\\tCC-BY 2.0 (France) Attribution: tatoeba.org #8416711 (CK) & #5324592 (Aiji)\\n',\n",
       " \"Tom's up.\\tTom est debout.\\tCC-BY 2.0 (France) Attribution: tatoeba.org #2107644 (CK) & #7704141 (Micsmithel)\\n\",\n",
       " 'Too late.\\tTrop tard.\\tCC-BY 2.0 (France) Attribution: tatoeba.org #1875 (Swift) & #3699 (TRANG)\\n',\n",
       " 'Touch it.\\tTouchez-le.\\tCC-BY 2.0 (France) Attribution: tatoeba.org #6049392 (mailohilohi) & #9252790 (Micsmithel)\\n',\n",
       " 'Touch it.\\tTouchez-la.\\tCC-BY 2.0 (France) Attribution: tatoeba.org #6049392 (mailohilohi) & #9252791 (Micsmithel)\\n',\n",
       " 'Touch it.\\tTouche-le.\\tCC-BY 2.0 (France) Attribution: tatoeba.org #6049392 (mailohilohi) & #9252792 (Micsmithel)\\n',\n",
       " 'Touch it.\\tTouche-la.\\tCC-BY 2.0 (France) Attribution: tatoeba.org #6049392 (mailohilohi) & #9252796 (Micsmithel)\\n',\n",
       " 'Trust me.\\tFaites-moi confiance.\\tCC-BY 2.0 (France) Attribution: tatoeba.org #954991 (CM) & #1527224 (sacredceltic)\\n',\n",
       " 'Trust me.\\tFais-moi confiance.\\tCC-BY 2.0 (France) Attribution: tatoeba.org #954991 (CM) & #1527226 (sacredceltic)\\n',\n",
       " 'Try some.\\tEssaies-en !\\tCC-BY 2.0 (France) Attribution: tatoeba.org #1916312 (CK) & #1922190 (sacredceltic)\\n',\n",
       " 'Try some.\\tEssayez-en !\\tCC-BY 2.0 (France) Attribution: tatoeba.org #1916312 (CK) & #1922192 (sacredceltic)\\n',\n",
       " 'Try some.\\tEssaie.\\tCC-BY 2.0 (France) Attribution: tatoeba.org #1916312 (CK) & #8690495 (Micsmithel)\\n',\n",
       " 'Try this.\\tEssaie ceci !\\tCC-BY 2.0 (France) Attribution: tatoeba.org #1916311 (CK) & #1922198 (sacredceltic)\\n',\n",
       " 'Try this.\\tEssayez ceci !\\tCC-BY 2.0 (France) Attribution: tatoeba.org #1916311 (CK) & #1922200 (sacredceltic)\\n',\n",
       " 'Try this.\\tEssaye ceci.\\tCC-BY 2.0 (France) Attribution: tatoeba.org #1916311 (CK) & #9556643 (Micsmithel)\\n',\n",
       " 'Use this.\\tUtilise ceci.\\tCC-BY 2.0 (France) Attribution: tatoeba.org #1954278 (CK) & #1996188 (sacredceltic)\\n',\n",
       " 'Use this.\\tUtilisez ceci.\\tCC-BY 2.0 (France) Attribution: tatoeba.org #1954278 (CK) & #1996190 (sacredceltic)\\n',\n",
       " 'Use this.\\tEmploie ceci !\\tCC-BY 2.0 (France) Attribution: tatoeba.org #1954278 (CK) & #2077437 (sacredceltic)\\n',\n",
       " 'Use this.\\tEmployez ceci !\\tCC-BY 2.0 (France) Attribution: tatoeba.org #1954278 (CK) & #2077438 (sacredceltic)\\n',\n",
       " 'Warn Tom.\\tAvertis Tom.\\tCC-BY 2.0 (France) Attribution: tatoeba.org #1954279 (CK) & #4767842 (Doremi391)\\n',\n",
       " 'Warn Tom.\\tPrÃ©viens Tom.\\tCC-BY 2.0 (France) Attribution: tatoeba.org #1954279 (CK) & #4767843 (Doremi391)\\n',\n",
       " 'Watch me.\\tRegarde-moi !\\tCC-BY 2.0 (France) Attribution: tatoeba.org #1954282 (CK) & #1103548 (sacredceltic)\\n',\n",
       " 'Watch me.\\tRegardez-moi !\\tCC-BY 2.0 (France) Attribution: tatoeba.org #1954282 (CK) & #1996204 (sacredceltic)\\n',\n",
       " 'Watch us.\\tRegardez-nous !\\tCC-BY 2.0 (France) Attribution: tatoeba.org #1954283 (CK) & #1996197 (sacredceltic)\\n',\n",
       " 'Watch us.\\tRegarde-nous !\\tCC-BY 2.0 (France) Attribution: tatoeba.org #1954283 (CK) & #1996201 (sacredceltic)\\n',\n",
       " \"We agree.\\tNous sommes d'accord.\\tCC-BY 2.0 (France) Attribution: tatoeba.org #628230 (CK) & #647163 (mamat)\\n\",\n",
       " \"We'll go.\\tNous irons.\\tCC-BY 2.0 (France) Attribution: tatoeba.org #2203688 (CK) & #2460119 (Rovo)\\n\",\n",
       " \"We're OK.\\tNous allons bien.\\tCC-BY 2.0 (France) Attribution: tatoeba.org #2203135 (CK) & #4775654 (sacredceltic)\\n\",\n",
       " 'What for?\\tPour quoi faireâ€¯?\\tCC-BY 2.0 (France) Attribution: tatoeba.org #24867 (CK) & #139611 (hortusdei)\\n',\n",
       " 'What for?\\tÃ€ quoi bon ?\\tCC-BY 2.0 (France) Attribution: tatoeba.org #24867 (CK) & #2086262 (Filcxjo)\\n',\n",
       " \"What fun!\\tQu'est-ce qu'on s'est marrÃ©s !\\tCC-BY 2.0 (France) Attribution: tatoeba.org #36026 (CM) & #4604035 (sacredceltic)\\n\",\n",
       " \"What fun!\\tQu'est-ce qu'on s'est marrÃ©es !\\tCC-BY 2.0 (France) Attribution: tatoeba.org #36026 (CM) & #4604037 (sacredceltic)\\n\",\n",
       " 'Who am I?\\tQui suis-je ?\\tCC-BY 2.0 (France) Attribution: tatoeba.org #259378 (Zifre) & #8300530 (felix63)\\n',\n",
       " 'Who came?\\tQui est venu ?\\tCC-BY 2.0 (France) Attribution: tatoeba.org #2203607 (CK) & #2459920 (Rovo)\\n',\n",
       " 'Who died?\\tQui est mort ?\\tCC-BY 2.0 (France) Attribution: tatoeba.org #2005187 (CK) & #2005260 (sacredceltic)\\n',\n",
       " 'Who fell?\\tQui est tombÃ©Â\\xa0?\\tCC-BY 2.0 (France) Attribution: tatoeba.org #2203678 (CK) & #6463392 (Aiji)\\n',\n",
       " 'Who lost?\\tQui a perdu ?\\tCC-BY 2.0 (France) Attribution: tatoeba.org #8045297 (CK) & #8703212 (Julien_PDC)\\n',\n",
       " 'Who paid?\\tQui a payÃ©Â\\xa0?\\tCC-BY 2.0 (France) Attribution: tatoeba.org #6532442 (CK) & #10514633 (pkill)\\n',\n",
       " 'Who quit?\\tQui dÃ©missionneÂ\\xa0?\\tCC-BY 2.0 (France) Attribution: tatoeba.org #2005182 (CK) & #7413925 (lbdx)\\n',\n",
       " \"Who's he?\\tQui est-ilâ€¯?\\tCC-BY 2.0 (France) Attribution: tatoeba.org #2203694 (CK) & #428377 (dominiko)\\n\",\n",
       " 'Write me.\\tÃ‰cris-moi !\\tCC-BY 2.0 (France) Attribution: tatoeba.org #1954284 (CK) & #1996210 (sacredceltic)\\n',\n",
       " 'Write me.\\tÃ‰crivez-moi !\\tCC-BY 2.0 (France) Attribution: tatoeba.org #1954284 (CK) & #1996217 (sacredceltic)\\n',\n",
       " 'You lost.\\tTu as perdu.\\tCC-BY 2.0 (France) Attribution: tatoeba.org #6440636 (CK) & #6446980 (GB3)\\n',\n",
       " 'You lost.\\tVous avez perdu.\\tCC-BY 2.0 (France) Attribution: tatoeba.org #6440636 (CK) & #6446981 (GB3)\\n',\n",
       " 'You lost.\\tTâ€™as perdu.\\tCC-BY 2.0 (France) Attribution: tatoeba.org #6440636 (CK) & #9692220 (sacredceltic)\\n',\n",
       " 'After you.\\tJe vous en prie.\\tCC-BY 2.0 (France) Attribution: tatoeba.org #505870 (wma) & #477559 (sacredceltic)\\n',\n",
       " 'After you.\\tAprÃ¨s vous.\\tCC-BY 2.0 (France) Attribution: tatoeba.org #505870 (wma) & #547940 (sacredceltic)\\n',\n",
       " 'Aim. Fire!\\tEn joue ! Feu !\\tCC-BY 2.0 (France) Attribution: tatoeba.org #1954262 (CK) & #2077439 (sacredceltic)\\n',\n",
       " 'Am I late?\\tSuis-je en retard ?\\tCC-BY 2.0 (France) Attribution: tatoeba.org #3442146 (CK) & #5065447 (sacredceltic)\\n',\n",
       " 'Answer me.\\tRÃ©pondez-moi.\\tCC-BY 2.0 (France) Attribution: tatoeba.org #251060 (Eldad) & #135870 (hortusdei)\\n',\n",
       " 'Be honest.\\tSois honnÃªte.\\tCC-BY 2.0 (France) Attribution: tatoeba.org #8908134 (CK) & #7355980 (Micsmithel)\\n',\n",
       " 'Be honest.\\tSoyez honnÃªtes.\\tCC-BY 2.0 (France) Attribution: tatoeba.org #8908134 (CK) & #7355994 (Micsmithel)\\n',\n",
       " 'Be honest.\\tSoyez honnÃªte.\\tCC-BY 2.0 (France) Attribution: tatoeba.org #8908134 (CK) & #9025598 (Micsmithel)\\n',\n",
       " 'Be seated.\\tAssieds-toi !\\tCC-BY 2.0 (France) Attribution: tatoeba.org #2111956 (CK) & #1157653 (sacredceltic)\\n',\n",
       " 'Be seated.\\tAsseyez-vous !\\tCC-BY 2.0 (France) Attribution: tatoeba.org #2111956 (CK) & #1157654 (sacredceltic)\\n',\n",
       " 'Be seated.\\tAsseyez-vous.\\tCC-BY 2.0 (France) Attribution: tatoeba.org #2111956 (CK) & #6774264 (Micsmithel)\\n',\n",
       " 'Be strong.\\tSois puissanteÂ\\xa0!\\tCC-BY 2.0 (France) Attribution: tatoeba.org #7932588 (CK) & #10499510 (Micsmithel)\\n',\n",
       " 'Birds fly.\\tLes oiseaux volent.\\tCC-BY 2.0 (France) Attribution: tatoeba.org #278213 (CK) & #129411 (Archibald)\\n',\n",
       " 'Bless you.\\tÃ€ tes souhaitsâ€¯!\\tCC-BY 2.0 (France) Attribution: tatoeba.org #2111946 (CK) & #928547 (U2FS)\\n',\n",
       " 'Call home!\\tAppelle Ã\\xa0 la maison !\\tCC-BY 2.0 (France) Attribution: tatoeba.org #1730009 (CK) & #1958824 (Sbgodin)\\n',\n",
       " 'Calm down!\\tCalmez-vous !\\tCC-BY 2.0 (France) Attribution: tatoeba.org #1123494 (Scott) & #1158349 (sacredceltic)\\n',\n",
       " 'Calm down!\\tDu calme.\\tCC-BY 2.0 (France) Attribution: tatoeba.org #1123494 (Scott) & #7166556 (Micsmithel)\\n',\n",
       " 'Calm down!\\tTranquille.\\tCC-BY 2.0 (France) Attribution: tatoeba.org #1123494 (Scott) & #9022929 (Micsmithel)\\n',\n",
       " 'Calm down.\\tCalme-toi.\\tCC-BY 2.0 (France) Attribution: tatoeba.org #435575 (CK) & #458839 (sacredceltic)\\n',\n",
       " 'Calm down.\\tDu calme.\\tCC-BY 2.0 (France) Attribution: tatoeba.org #435575 (CK) & #7166556 (Micsmithel)\\n',\n",
       " 'Calm down.\\tTranquille.\\tCC-BY 2.0 (France) Attribution: tatoeba.org #435575 (CK) & #9022929 (Micsmithel)\\n',\n",
       " 'Can we go?\\tPouvons-nous partir ?\\tCC-BY 2.0 (France) Attribution: tatoeba.org #2005176 (CK) & #2005264 (sacredceltic)\\n',\n",
       " 'Can we go?\\tPouvons-nous nous en aller ?\\tCC-BY 2.0 (France) Attribution: tatoeba.org #2005176 (CK) & #2005266 (sacredceltic)\\n',\n",
       " 'Can we go?\\tPouvons-nous y aller ?\\tCC-BY 2.0 (France) Attribution: tatoeba.org #2005176 (CK) & #2005267 (sacredceltic)\\n',\n",
       " 'Catch Tom.\\tAttrape Tom.\\tCC-BY 2.0 (France) Attribution: tatoeba.org #2203856 (CK) & #6468619 (Aiji)\\n',\n",
       " 'Catch Tom.\\tAttrapez Tom.\\tCC-BY 2.0 (France) Attribution: tatoeba.org #2203856 (CK) & #6468620 (Aiji)\\n',\n",
       " 'Catch him.\\tAttrape-leâ€¯!\\tCC-BY 2.0 (France) Attribution: tatoeba.org #449029 (CK) & #908525 (Micsmithel)\\n',\n",
       " 'Catch him.\\tRattrape-le.\\tCC-BY 2.0 (France) Attribution: tatoeba.org #449029 (CK) & #4533890 (pfpillon)\\n',\n",
       " 'Chill out.\\tCalme-toi.\\tCC-BY 2.0 (France) Attribution: tatoeba.org #2951593 (CK) & #458839 (sacredceltic)\\n',\n",
       " 'Chill out.\\tTranquille.\\tCC-BY 2.0 (France) Attribution: tatoeba.org #2951593 (CK) & #9022929 (Micsmithel)\\n',\n",
       " 'Choose me.\\tChoisis-moi !\\tCC-BY 2.0 (France) Attribution: tatoeba.org #6401272 (OsoHombre) & #7704212 (Micsmithel)\\n',\n",
       " 'Come back.\\tReviens !\\tCC-BY 2.0 (France) Attribution: tatoeba.org #1972611 (CK) & #1973491 (sacredceltic)\\n',\n",
       " 'Come back.\\tRevenez !\\tCC-BY 2.0 (France) Attribution: tatoeba.org #1972611 (CK) & #1973493 (sacredceltic)\\n',\n",
       " 'Come here.\\tViens ici.\\tCC-BY 2.0 (France) Attribution: tatoeba.org #39944 (Swift) & #11240 (qdii)\\n',\n",
       " 'Come here.\\tVenez lÃ\\xa0.\\tCC-BY 2.0 (France) Attribution: tatoeba.org #39944 (Swift) & #3660516 (THURET)\\n',\n",
       " 'Come over.\\tVenez ici !\\tCC-BY 2.0 (France) Attribution: tatoeba.org #1972617 (CK) & #1275473 (Aiji)\\n',\n",
       " 'Come over.\\tViens chez nous !\\tCC-BY 2.0 (France) Attribution: tatoeba.org #1972617 (CK) & #1973456 (sacredceltic)\\n',\n",
       " 'Come over.\\tVenez chez nous !\\tCC-BY 2.0 (France) Attribution: tatoeba.org #1972617 (CK) & #1973458 (sacredceltic)\\n',\n",
       " 'Come over.\\tViens chez moi !\\tCC-BY 2.0 (France) Attribution: tatoeba.org #1972617 (CK) & #1973459 (sacredceltic)\\n',\n",
       " 'Come over.\\tVenez chez moi !\\tCC-BY 2.0 (France) Attribution: tatoeba.org #1972617 (CK) & #1973460 (sacredceltic)\\n',\n",
       " 'Come soon.\\tViens bientÃ´t !\\tCC-BY 2.0 (France) Attribution: tatoeba.org #1972619 (CK) & #1973444 (sacredceltic)\\n',\n",
       " 'Come soon.\\tVenez bientÃ´t !\\tCC-BY 2.0 (France) Attribution: tatoeba.org #1972619 (CK) & #1973445 (sacredceltic)\\n',\n",
       " 'Cool down.\\tCalmez-vous !\\tCC-BY 2.0 (France) Attribution: tatoeba.org #1860739 (CK) & #1158349 (sacredceltic)\\n',\n",
       " 'Did I win?\\tAi-je gagnÃ© ?\\tCC-BY 2.0 (France) Attribution: tatoeba.org #2005189 (CK) & #2005257 (sacredceltic)\\n',\n",
       " \"Did I win?\\tL'ai-je emportÃ© ?\\tCC-BY 2.0 (France) Attribution: tatoeba.org #2005189 (CK) & #2005259 (sacredceltic)\\n\",\n",
       " 'Did I win?\\tEst-ce moi qui ai gagnÃ© ?\\tCC-BY 2.0 (France) Attribution: tatoeba.org #2005189 (CK) & #4221826 (sacredceltic)\\n',\n",
       " 'Do it now.\\tFaites-le maintenant.\\tCC-BY 2.0 (France) Attribution: tatoeba.org #435763 (CK) & #6463423 (Aiji)\\n',\n",
       " 'Dogs bark.\\tDes chiens aboient.\\tCC-BY 2.0 (France) Attribution: tatoeba.org #1357070 (sacredceltic) & #934632 (sacredceltic)\\n',\n",
       " 'Dogs bark.\\tLes chiens aboient.\\tCC-BY 2.0 (France) Attribution: tatoeba.org #1357070 (sacredceltic) & #934633 (sacredceltic)\\n',\n",
       " \"Don't ask.\\tNe demande pas !\\tCC-BY 2.0 (France) Attribution: tatoeba.org #320080 (CM) & #4963427 (sacredceltic)\\n\",\n",
       " \"Don't cry.\\tNe pleure pas !\\tCC-BY 2.0 (France) Attribution: tatoeba.org #953247 (CK) & #2144545 (Dreamk33)\\n\",\n",
       " \"Don't die.\\tNe meurs pas !\\tCC-BY 2.0 (France) Attribution: tatoeba.org #1860499 (CK) & #1996239 (sacredceltic)\\n\",\n",
       " \"Don't die.\\tNe mourez pas !\\tCC-BY 2.0 (France) Attribution: tatoeba.org #1860499 (CK) & #1996241 (sacredceltic)\\n\",\n",
       " \"Don't lie.\\tNe mens pas.\\tCC-BY 2.0 (France) Attribution: tatoeba.org #2111913 (CK) & #967179 (sacredceltic)\\n\",\n",
       " \"Don't lie.\\tNe mens pas !\\tCC-BY 2.0 (France) Attribution: tatoeba.org #2111913 (CK) & #7477636 (Micsmithel)\\n\",\n",
       " \"Don't run.\\tNe courez pas.\\tCC-BY 2.0 (France) Attribution: tatoeba.org #2111907 (CK) & #5576646 (Aiji)\\n\",\n",
       " \"Don't run.\\tNe cours pas.\\tCC-BY 2.0 (France) Attribution: tatoeba.org #2111907 (CK) & #5576647 (Aiji)\\n\",\n",
       " 'Excuse me.\\tExcuse-moi.\\tCC-BY 2.0 (France) Attribution: tatoeba.org #433504 (CK) & #10459 (sacredceltic)\\n',\n",
       " 'Excuse me.\\tExcusez-moi.\\tCC-BY 2.0 (France) Attribution: tatoeba.org #433504 (CK) & #499087 (Aiji)\\n',\n",
       " 'Excuse me?\\tPardonâ€¯?\\tCC-BY 2.0 (France) Attribution: tatoeba.org #434704 (lukaszpp) & #9675 (sacredceltic)\\n',\n",
       " 'Excuse me?\\tJe vous demande pardonâ€¯?\\tCC-BY 2.0 (France) Attribution: tatoeba.org #434704 (lukaszpp) & #9677 (sysko)\\n',\n",
       " 'Excuse me?\\tPlaÃ®t-ilâ€¯?\\tCC-BY 2.0 (France) Attribution: tatoeba.org #434704 (lukaszpp) & #496981 (sacredceltic)\\n',\n",
       " 'Excuse me?\\tPlait-ilâ€¯?\\tCC-BY 2.0 (France) Attribution: tatoeba.org #434704 (lukaszpp) & #692676 (U2FS)\\n',\n",
       " 'Excuse me?\\tPardon ?\\tCC-BY 2.0 (France) Attribution: tatoeba.org #434704 (lukaszpp) & #4320357 (gillux)\\n',\n",
       " 'Fantastic!\\tFantastiqueâ€¯!\\tCC-BY 2.0 (France) Attribution: tatoeba.org #433511 (CK) & #10876 (sacredceltic)\\n',\n",
       " 'Fantastic!\\tFantastiqueÂ\\xa0!\\tCC-BY 2.0 (France) Attribution: tatoeba.org #433511 (CK) & #7412242 (lbdx)\\n',\n",
       " 'Fantastic!\\tSensass !\\tCC-BY 2.0 (France) Attribution: tatoeba.org #433511 (CK) & #8690499 (Micsmithel)\\n',\n",
       " 'Feel this.\\tSens Ã§a !\\tCC-BY 2.0 (France) Attribution: tatoeba.org #1972624 (CK) & #1973414 (sacredceltic)\\n',\n",
       " 'Feel this.\\tSentez Ã§a !\\tCC-BY 2.0 (France) Attribution: tatoeba.org #1972624 (CK) & #1973415 (sacredceltic)\\n',\n",
       " 'Feel this.\\tTouche Ã§a !\\tCC-BY 2.0 (France) Attribution: tatoeba.org #1972624 (CK) & #1973416 (sacredceltic)\\n',\n",
       " 'Feel this.\\tTouchez Ã§a !\\tCC-BY 2.0 (France) Attribution: tatoeba.org #1972624 (CK) & #1973417 (sacredceltic)\\n',\n",
       " 'Film this.\\tFilmez ceci.\\tCC-BY 2.0 (France) Attribution: tatoeba.org #8908217 (CK) & #9025596 (Micsmithel)\\n',\n",
       " 'Film this.\\tFilme ceci.\\tCC-BY 2.0 (France) Attribution: tatoeba.org #8908217 (CK) & #9025597 (Micsmithel)\\n',\n",
       " 'Follow me.\\tSuis-moi.\\tCC-BY 2.0 (France) Attribution: tatoeba.org #250135 (CK) & #991614 (sacredceltic)\\n',\n",
       " 'Follow us.\\tSuis-nous !\\tCC-BY 2.0 (France) Attribution: tatoeba.org #1972627 (CK) & #1973401 (sacredceltic)\\n',\n",
       " 'Follow us.\\tSuivez-nous !\\tCC-BY 2.0 (France) Attribution: tatoeba.org #1972627 (CK) & #1973402 (sacredceltic)\\n',\n",
       " 'Forget it!\\tOublie !\\tCC-BY 2.0 (France) Attribution: tatoeba.org #1178694 (CK) & #1181613 (sacredceltic)\\n',\n",
       " 'Forget it!\\tOublie-le !\\tCC-BY 2.0 (France) Attribution: tatoeba.org #1178694 (CK) & #1181614 (sacredceltic)\\n',\n",
       " 'Forget it!\\tOubliez !\\tCC-BY 2.0 (France) Attribution: tatoeba.org #1178694 (CK) & #1181615 (sacredceltic)\\n',\n",
       " 'Forget it!\\tOubliez-le !\\tCC-BY 2.0 (France) Attribution: tatoeba.org #1178694 (CK) & #1181616 (sacredceltic)\\n',\n",
       " 'Forget it!\\tLaissez tomber.\\tCC-BY 2.0 (France) Attribution: tatoeba.org #1178694 (CK) & #7166347 (Micsmithel)\\n',\n",
       " 'Forget it!\\tOubliez Ã§a !\\tCC-BY 2.0 (France) Attribution: tatoeba.org #1178694 (CK) & #8593840 (Micsmithel)\\n',\n",
       " 'Forget it.\\tLaisse tomber.\\tCC-BY 2.0 (France) Attribution: tatoeba.org #20398 (Eldad) & #400311 (qdii)\\n',\n",
       " 'Forget it.\\tOublie.\\tCC-BY 2.0 (France) Attribution: tatoeba.org #20398 (Eldad) & #495892 (sacredceltic)\\n',\n",
       " 'Forget it.\\tOublie-le !\\tCC-BY 2.0 (France) Attribution: tatoeba.org #20398 (Eldad) & #1181614 (sacredceltic)\\n',\n",
       " 'Forget it.\\tLaissez tomber.\\tCC-BY 2.0 (France) Attribution: tatoeba.org #20398 (Eldad) & #7166347 (Micsmithel)\\n',\n",
       " 'Forget it.\\tOubliez Ã§a !\\tCC-BY 2.0 (France) Attribution: tatoeba.org #20398 (Eldad) & #8593840 (Micsmithel)\\n',\n",
       " 'Forget me.\\tOublie-moi.\\tCC-BY 2.0 (France) Attribution: tatoeba.org #1512159 (CM) & #7938897 (Micsmithel)\\n',\n",
       " 'Forget me.\\tOubliez-moi.\\tCC-BY 2.0 (France) Attribution: tatoeba.org #1512159 (CM) & #7938898 (Micsmithel)\\n',\n",
       " 'Get a job.\\tTrouve un emploi !\\tCC-BY 2.0 (France) Attribution: tatoeba.org #1972630 (CK) & #1973318 (sacredceltic)\\n',\n",
       " 'Get a job.\\tTrouve un boulot !\\tCC-BY 2.0 (France) Attribution: tatoeba.org #1972630 (CK) & #1973319 (sacredceltic)\\n',\n",
       " 'Get a job.\\tTrouvez un emploi !\\tCC-BY 2.0 (France) Attribution: tatoeba.org #1972630 (CK) & #1973320 (sacredceltic)\\n',\n",
       " 'Get a job.\\tTrouvez un boulot !\\tCC-BY 2.0 (France) Attribution: tatoeba.org #1972630 (CK) & #1973321 (sacredceltic)\\n',\n",
       " 'Get going.\\tVas-y.\\tCC-BY 2.0 (France) Attribution: tatoeba.org #7466026 (megamanenm) & #12815 (Archibald)\\n',\n",
       " 'Get going.\\tAllez-y.\\tCC-BY 2.0 (France) Attribution: tatoeba.org #7466026 (megamanenm) & #477558 (sacredceltic)\\n',\n",
       " 'Get going.\\tMarche.\\tCC-BY 2.0 (France) Attribution: tatoeba.org #7466026 (megamanenm) & #8090732 (Micsmithel)\\n',\n",
       " 'Get going.\\tAvance.\\tCC-BY 2.0 (France) Attribution: tatoeba.org #7466026 (megamanenm) & #8090733 (Micsmithel)\\n',\n",
       " 'Get going.\\tEn route !\\tCC-BY 2.0 (France) Attribution: tatoeba.org #7466026 (megamanenm) & #8267435 (felix63)\\n',\n",
       " 'Get going.\\tEn avant.\\tCC-BY 2.0 (France) Attribution: tatoeba.org #7466026 (megamanenm) & #8304754 (Micsmithel)\\n',\n",
       " 'Get going.\\tDÃ©place-toi.\\tCC-BY 2.0 (France) Attribution: tatoeba.org #7466026 (megamanenm) & #8739083 (Micsmithel)\\n',\n",
       " 'Get going.\\tDÃ©placez-vous.\\tCC-BY 2.0 (France) Attribution: tatoeba.org #7466026 (megamanenm) & #8977847 (Micsmithel)\\n',\n",
       " 'Get going.\\tEn route.\\tCC-BY 2.0 (France) Attribution: tatoeba.org #7466026 (megamanenm) & #9392221 (Micsmithel)\\n',\n",
       " 'Get ready.\\tPrÃ©pare-toi.\\tCC-BY 2.0 (France) Attribution: tatoeba.org #1989588 (CK) & #4767854 (Doremi391)\\n',\n",
       " 'Get ready.\\tPrÃ©parez-vous.\\tCC-BY 2.0 (France) Attribution: tatoeba.org #1989588 (CK) & #4767855 (Doremi391)\\n',\n",
       " 'Go faster.\\tVa plus vite.\\tCC-BY 2.0 (France) Attribution: tatoeba.org #6576266 (Eccles17) & #6576615 (GB3)\\n',\n",
       " 'Go faster.\\tAllez plus vite.\\tCC-BY 2.0 (France) Attribution: tatoeba.org #6576266 (Eccles17) & #6576616 (GB3)\\n',\n",
       " 'Go for it.\\tEn route !\\tCC-BY 2.0 (France) Attribution: tatoeba.org #4394847 (CK) & #8267435 (felix63)\\n',\n",
       " 'Go get it.\\tVa le chercher !\\tCC-BY 2.0 (France) Attribution: tatoeba.org #1972634 (CK) & #1973303 (sacredceltic)\\n',\n",
       " 'Go get it.\\tAllez le chercher !\\tCC-BY 2.0 (France) Attribution: tatoeba.org #1972634 (CK) & #1973304 (sacredceltic)\\n',\n",
       " 'Go inside.\\tEntrezâ€¯!\\tCC-BY 2.0 (France) Attribution: tatoeba.org #2428954 (CK) & #440075 (franzmimm)\\n',\n",
       " 'Go to bed.\\tVa dormirâ€¯!\\tCC-BY 2.0 (France) Attribution: tatoeba.org #2649250 (CK) & #679463 (Paiooooo)\\n',\n",
       " 'Go to bed.\\tVa au lit !\\tCC-BY 2.0 (France) Attribution: tatoeba.org #2649250 (CK) & #3640834 (sacredceltic)\\n',\n",
       " 'Go to bed.\\tAu lit !\\tCC-BY 2.0 (France) Attribution: tatoeba.org #2649250 (CK) & #3640835 (sacredceltic)\\n',\n",
       " 'Go to bed.\\tAllez au lit !\\tCC-BY 2.0 (France) Attribution: tatoeba.org #2649250 (CK) & #3640836 (sacredceltic)\\n',\n",
       " 'Go to bed.\\tFile au lit !\\tCC-BY 2.0 (France) Attribution: tatoeba.org #2649250 (CK) & #6600629 (felix63)\\n',\n",
       " 'Go to bed.\\tAu dodo !\\tCC-BY 2.0 (France) Attribution: tatoeba.org #2649250 (CK) & #7957936 (Micsmithel)\\n',\n",
       " 'Go to bed.\\tVa te coucher !\\tCC-BY 2.0 (France) Attribution: tatoeba.org #2649250 (CK) & #8549726 (felix63)\\n',\n",
       " 'Good luck.\\tBonne chanceâ€¯!\\tCC-BY 2.0 (France) Attribution: tatoeba.org #239431 (sacredceltic) & #8744 (sacredceltic)\\n',\n",
       " 'Good luck.\\tBonne chance.\\tCC-BY 2.0 (France) Attribution: tatoeba.org #239431 (sacredceltic) & #966399 (sacredceltic)\\n',\n",
       " 'Good luck.\\tBonne continuation !\\tCC-BY 2.0 (France) Attribution: tatoeba.org #239431 (sacredceltic) & #6774267 (Micsmithel)\\n',\n",
       " 'Grab that.\\tAttrape Ã§a !\\tCC-BY 2.0 (France) Attribution: tatoeba.org #1972635 (CK) & #1973297 (sacredceltic)\\n',\n",
       " 'Grab that.\\tAttrapez Ã§a !\\tCC-BY 2.0 (France) Attribution: tatoeba.org #1972635 (CK) & #1973298 (sacredceltic)\\n',\n",
       " 'Grab that.\\tSaisis-toi de Ã§a !\\tCC-BY 2.0 (France) Attribution: tatoeba.org #1972635 (CK) & #2077440 (sacredceltic)\\n',\n",
       " 'Grab that.\\tSaisissez-vous de Ã§a !\\tCC-BY 2.0 (France) Attribution: tatoeba.org #1972635 (CK) & #2077441 (sacredceltic)\\n',\n",
       " 'Grab this.\\tAttrape Ã§a !\\tCC-BY 2.0 (France) Attribution: tatoeba.org #1972637 (CK) & #1973297 (sacredceltic)\\n',\n",
       " 'Grab this.\\tAttrapez Ã§a !\\tCC-BY 2.0 (France) Attribution: tatoeba.org #1972637 (CK) & #1973298 (sacredceltic)\\n',\n",
       " 'Hands off.\\tPas toucheâ€¯!\\tCC-BY 2.0 (France) Attribution: tatoeba.org #268620 (CM) & #14672 (sacredceltic)\\n',\n",
       " 'Hands off.\\tNe touche pas Ã\\xa0 Ã§a !\\tCC-BY 2.0 (France) Attribution: tatoeba.org #268620 (CM) & #1684605 (sacredceltic)\\n',\n",
       " 'Have some.\\tPrenez-en.\\tCC-BY 2.0 (France) Attribution: tatoeba.org #2111823 (CK) & #9252806 (Micsmithel)\\n',\n",
       " 'Have some.\\tPrends-en.\\tCC-BY 2.0 (France) Attribution: tatoeba.org #2111823 (CK) & #9252808 (Micsmithel)\\n',\n",
       " 'He is ill.\\tIl est malade.\\tCC-BY 2.0 (France) Attribution: tatoeba.org #371409 (saeb) & #133247 (sacredceltic)\\n',\n",
       " 'He is old.\\tIl est vieux.\\tCC-BY 2.0 (France) Attribution: tatoeba.org #302334 (CK) & #821565 (sacredceltic)\\n',\n",
       " \"He's a DJ.\\tIl est DJ.\\tCC-BY 2.0 (France) Attribution: tatoeba.org #1383444 (CK) & #181146 (Aiji)\\n\",\n",
       " \"He's good.\\tIl est bon.\\tCC-BY 2.0 (France) Attribution: tatoeba.org #1855193 (Spamster) & #1858319 (sacredceltic)\\n\",\n",
       " \"He's lazy.\\tIl est paresseux.\\tCC-BY 2.0 (France) Attribution: tatoeba.org #2030108 (Spamster) & #837592 (sacredceltic)\\n\",\n",
       " \"He's mine.\\tIl est Ã\\xa0 moi.\\tCC-BY 2.0 (France) Attribution: tatoeba.org #3140708 (CM) & #7919522 (hennebert)\\n\",\n",
       " \"He's rich.\\tIl est riche.\\tCC-BY 2.0 (France) Attribution: tatoeba.org #1790802 (Spamster) & #1791449 (sacredceltic)\\n\",\n",
       " \"He's sexy.\\tIl est sexy.\\tCC-BY 2.0 (France) Attribution: tatoeba.org #288007 (CM) & #7477696 (theachaean)\\n\",\n",
       " \"Head east.\\tDirigez-vous vers l'est.\\tCC-BY 2.0 (France) Attribution: tatoeba.org #8102686 (CK) & #8984252 (Micsmithel)\\n\",\n",
       " \"Head east.\\tDirige-toi vers l'est.\\tCC-BY 2.0 (France) Attribution: tatoeba.org #8102686 (CK) & #8984253 (Micsmithel)\\n\",\n",
       " \"Head west.\\tDirigez-vous vers l'ouest.\\tCC-BY 2.0 (France) Attribution: tatoeba.org #8102688 (CK) & #8984250 (Micsmithel)\\n\",\n",
       " \"Head west.\\tDirige-toi vers l'ouest.\\tCC-BY 2.0 (France) Attribution: tatoeba.org #8102688 (CK) & #8984251 (Micsmithel)\\n\",\n",
       " ...]"
      ]
     },
     "execution_count": 4,
     "metadata": {},
     "output_type": "execute_result"
    }
   ],
   "source": [
    "text"
   ]
  },
  {
   "cell_type": "code",
   "execution_count": 5,
   "metadata": {},
   "outputs": [
    {
     "data": {
      "text/plain": [
       "(array([['Go.', 'Va !'],\n",
       "        ['Go.', 'Marche.'],\n",
       "        ['Go.', 'En route !'],\n",
       "        ...,\n",
       "        ['Since there are usually multiple websites on any given topic, I usually just click the back button when I arrive on any webpage that has pop-up advertising. I just go to the next page found by Google and hope for something less irritating.',\n",
       "         \"Puisqu'il y a de multiples sites web sur chaque sujet, je clique d'habitude sur le bouton retour arriÃ¨re lorsque j'atterris sur n'importe quelle page qui contient des publicitÃ©s surgissantes. Je me rends juste sur la prochaine page proposÃ©e par Google et espÃ¨re tomber sur quelque chose de moins irritant.\"],\n",
       "        [\"If someone who doesn't know your background says that you sound like a native speaker, it means they probably noticed something about your speaking that made them realize you weren't a native speaker. In other words, you don't really sound like a native speaker.\",\n",
       "         \"Si quelqu'un qui ne connaÃ®t pas vos antÃ©cÃ©dents dit que vous parlez comme un locuteur natif, cela veut dire qu'il a probablement remarquÃ© quelque chose Ã\\xa0 propos de votre Ã©locution qui lui a fait prendre conscience que vous n'Ãªtes pas un locuteur natif. En d'autres termes, vous ne parlez pas vraiment comme un locuteur natif.\"],\n",
       "        ['It may be impossible to get a completely error-free corpus due to the nature of this kind of collaborative effort. However, if we encourage members to contribute sentences in their own languages rather than experiment in languages they are learning, we might be able to minimize errors.',\n",
       "         \"Il est peut-Ãªtre impossible d'obtenir un Corpus complÃ¨tement dÃ©nuÃ© de fautes, Ã©tant donnÃ©e la nature de ce type d'entreprise collaborative. Cependant, si nous encourageons les membres Ã\\xa0 produire des phrases dans leurs propres langues plutÃ´t que d'expÃ©rimenter dans les langues qu'ils apprennent, nous pourrions Ãªtre en mesure de rÃ©duire les erreurs.\"]],\n",
       "       dtype='<U360'),\n",
       " 197463)"
      ]
     },
     "execution_count": 5,
     "metadata": {},
     "output_type": "execute_result"
    }
   ],
   "source": [
    "eng_fre=[]\n",
    "for t in text:\n",
    "    a=t.split(\"\\t\")\n",
    "    eng_fre.append([a[0],a[1]])\n",
    "eng_fre=np.array(eng_fre)\n",
    "eng_fre,len(eng_fre)"
   ]
  },
  {
   "cell_type": "code",
   "execution_count": 6,
   "metadata": {},
   "outputs": [],
   "source": [
    "eng_fre[:,0] = [s.translate(str.maketrans('', '', string.punctuation)) for s in eng_fre[:,0]]\n",
    "eng_fre[:,1] = [s.translate(str.maketrans('', '', string.punctuation)) for s in eng_fre[:,1]]\n",
    "eng_fre=eng_fre[:13000]"
   ]
  },
  {
   "cell_type": "code",
   "execution_count": 7,
   "metadata": {},
   "outputs": [
    {
     "data": {
      "text/plain": [
       "array([['go', 'va '],\n",
       "       ['go', 'marche'],\n",
       "       ['go', 'en route '],\n",
       "       ...,\n",
       "       ['youre special', 'vous ãªtes spã©cial'],\n",
       "       ['youre the pro', 'cest vous le professionnel'],\n",
       "       ['youre the pro', 'cest toi le professionnel']], dtype='<U360')"
      ]
     },
     "execution_count": 7,
     "metadata": {},
     "output_type": "execute_result"
    }
   ],
   "source": [
    "for i in range(len(eng_fre)):\n",
    "    eng_fre[i,0]=eng_fre[i,0].lower()\n",
    "    eng_fre[i,1]=eng_fre[i,1].lower()\n",
    "eng_fre"
   ]
  },
  {
   "cell_type": "code",
   "execution_count": 8,
   "metadata": {},
   "outputs": [],
   "source": [
    "eng=eng_fre[:,0]\n",
    "fre=eng_fre[:,1]"
   ]
  },
  {
   "cell_type": "code",
   "execution_count": 9,
   "metadata": {},
   "outputs": [
    {
     "data": {
      "text/plain": [
       "(5, 10)"
      ]
     },
     "execution_count": 9,
     "metadata": {},
     "output_type": "execute_result"
    }
   ],
   "source": [
    "max_eng_length=max((len(line.split()) for line in eng))\n",
    "max_fre_length=max((len(line.split()) for line in fre))\n",
    "max_eng_length,max_fre_length"
   ]
  },
  {
   "cell_type": "code",
   "execution_count": 10,
   "metadata": {},
   "outputs": [],
   "source": [
    "np.random.shuffle(eng_fre)\n",
    "train=eng_fre[:10000]\n",
    "test=eng_fre[10000:]"
   ]
  },
  {
   "cell_type": "markdown",
   "metadata": {},
   "source": [
    "## Tokenization and Padding"
   ]
  },
  {
   "cell_type": "code",
   "execution_count": 11,
   "metadata": {},
   "outputs": [],
   "source": [
    "def tokenization(lines):\n",
    "    tokenizer=Tokenizer(oov_token=\"<UNK>\")\n",
    "    tokenizer.fit_on_texts(lines)\n",
    "    return tokenizer"
   ]
  },
  {
   "cell_type": "code",
   "execution_count": 12,
   "metadata": {},
   "outputs": [
    {
     "data": {
      "text/plain": [
       "2468"
      ]
     },
     "execution_count": 12,
     "metadata": {},
     "output_type": "execute_result"
    }
   ],
   "source": [
    "eng_tokenizer=tokenization(eng_fre[:,0])\n",
    "eng_vocab_size=len(eng_tokenizer.word_index)+1 \n",
    "eng_vocab_size"
   ]
  },
  {
   "cell_type": "code",
   "execution_count": 13,
   "metadata": {},
   "outputs": [
    {
     "data": {
      "text/plain": [
       "5766"
      ]
     },
     "execution_count": 13,
     "metadata": {},
     "output_type": "execute_result"
    }
   ],
   "source": [
    "fre_tokenizer=tokenization(eng_fre[:,1])\n",
    "fre_vocab_size=len(fre_tokenizer.word_index)+1 \n",
    "fre_vocab_size"
   ]
  },
  {
   "cell_type": "code",
   "execution_count": 14,
   "metadata": {},
   "outputs": [],
   "source": [
    "# encode and pad sequences\n",
    "def encode_sequences(tokenizer, length, lines):\n",
    "    # integer encode sequences\n",
    "    sequences = tokenizer.texts_to_sequences(lines)\n",
    "    seq = pad_sequences(sequences, maxlen=length)\n",
    "    return seq"
   ]
  },
  {
   "cell_type": "markdown",
   "metadata": {},
   "source": [
    "## Preparing training and testing data"
   ]
  },
  {
   "cell_type": "code",
   "execution_count": 15,
   "metadata": {},
   "outputs": [],
   "source": [
    "# max_fre_length=0\n",
    "# max_eng_length=0\n",
    "# max_fre_length1=0\n",
    "# max_eng_length1=0\n",
    "trainX=encode_sequences(fre_tokenizer,max_fre_length,train[:,1])\n",
    "trainY=encode_sequences(eng_tokenizer,max_eng_length,train[:,0])\n",
    "\n",
    "testX=encode_sequences(fre_tokenizer,max_fre_length,test[:,1])\n",
    "testY=encode_sequences(eng_tokenizer,max_eng_length,test[:,0])"
   ]
  },
  {
   "cell_type": "code",
   "execution_count": 16,
   "metadata": {},
   "outputs": [],
   "source": [
    "def one_hot_encoding(sequences, vocab_size):\n",
    "    y_1 = list()\n",
    "    for sequence in sequences:\n",
    "        encoded = to_categorical(sequence, num_classes=vocab_size)\n",
    "        y_1.append(encoded)\n",
    "    y = np.array(y_1)\n",
    "    y = y.reshape(sequences.shape[0], sequences.shape[1], vocab_size)\n",
    "    return y"
   ]
  },
  {
   "cell_type": "code",
   "execution_count": 17,
   "metadata": {},
   "outputs": [],
   "source": [
    "trainY=one_hot_encoding(trainY,eng_vocab_size)\n",
    "testY=one_hot_encoding(testY,eng_vocab_size)"
   ]
  },
  {
   "cell_type": "code",
   "execution_count": 18,
   "metadata": {},
   "outputs": [
    {
     "data": {
      "text/plain": [
       "((10000, 10), (10000, 5, 2468))"
      ]
     },
     "execution_count": 18,
     "metadata": {},
     "output_type": "execute_result"
    }
   ],
   "source": [
    "trainX.shape,trainY.shape"
   ]
  },
  {
   "cell_type": "code",
   "execution_count": 19,
   "metadata": {},
   "outputs": [
    {
     "data": {
      "text/plain": [
       "((3000, 10), (3000, 5, 2468))"
      ]
     },
     "execution_count": 19,
     "metadata": {},
     "output_type": "execute_result"
    }
   ],
   "source": [
    "testX.shape,testY.shape"
   ]
  },
  {
   "cell_type": "markdown",
   "metadata": {},
   "source": [
    "## Preparing and running the model"
   ]
  },
  {
   "cell_type": "code",
   "execution_count": 20,
   "metadata": {},
   "outputs": [],
   "source": [
    "model=Sequential()\n",
    "model.add(Embedding(fre_vocab_size,512,input_length=max_fre_length,mask_zero=True)) \n",
    "model.add(LSTM(512))\n",
    "model.add(RepeatVector(max_eng_length))\n",
    "model.add(LSTM(512,return_sequences=True))\n",
    "model.add(TimeDistributed(Dense(eng_vocab_size,activation=\"softmax\")))\n",
    "# adam=Adam(learning_rate=0.01)\n",
    "model.compile(loss=\"categorical_crossentropy\",optimizer=\"rmsprop\",metrics=[\"acc\"])  #sparse is used as loss function because we have not ne-hot encoded kyonki bht zyada space le rha tha"
   ]
  },
  {
   "cell_type": "code",
   "execution_count": 21,
   "metadata": {},
   "outputs": [
    {
     "name": "stdout",
     "output_type": "stream",
     "text": [
      "Model: \"sequential\"\n",
      "_________________________________________________________________\n",
      " Layer (type)                Output Shape              Param #   \n",
      "=================================================================\n",
      " embedding (Embedding)       (None, 10, 512)           2952192   \n",
      "                                                                 \n",
      " lstm (LSTM)                 (None, 512)               2099200   \n",
      "                                                                 \n",
      " repeat_vector (RepeatVector  (None, 5, 512)           0         \n",
      " )                                                               \n",
      "                                                                 \n",
      " lstm_1 (LSTM)               (None, 5, 512)            2099200   \n",
      "                                                                 \n",
      " time_distributed (TimeDistr  (None, 5, 2468)          1266084   \n",
      " ibuted)                                                         \n",
      "                                                                 \n",
      "=================================================================\n",
      "Total params: 8,416,676\n",
      "Trainable params: 8,416,676\n",
      "Non-trainable params: 0\n",
      "_________________________________________________________________\n"
     ]
    }
   ],
   "source": [
    "model.summary()"
   ]
  },
  {
   "cell_type": "code",
   "execution_count": 22,
   "metadata": {},
   "outputs": [],
   "source": [
    "filename = 'best_model'\n",
    "checkpoint = ModelCheckpoint(filename, monitor='val_acc', verbose=1, save_best_only=True)\n",
    "es=EarlyStopping(monitor=\"val_acc\",min_delta=0.01,patience=5)"
   ]
  },
  {
   "cell_type": "code",
   "execution_count": 23,
   "metadata": {},
   "outputs": [
    {
     "name": "stdout",
     "output_type": "stream",
     "text": [
      "Epoch 1/50\n",
      "157/157 [==============================] - ETA: 0s - loss: 3.5965 - acc: 0.4648\n",
      "Epoch 1: val_acc improved from -inf to 0.47980, saving model to best_model\n"
     ]
    },
    {
     "name": "stderr",
     "output_type": "stream",
     "text": [
      "WARNING:absl:Found untraced functions such as lstm_cell_layer_call_fn, lstm_cell_layer_call_and_return_conditional_losses, lstm_cell_1_layer_call_fn, lstm_cell_1_layer_call_and_return_conditional_losses while saving (showing 4 of 4). These functions will not be directly callable after loading.\n"
     ]
    },
    {
     "name": "stdout",
     "output_type": "stream",
     "text": [
      "INFO:tensorflow:Assets written to: best_model\\assets\n"
     ]
    },
    {
     "name": "stderr",
     "output_type": "stream",
     "text": [
      "INFO:tensorflow:Assets written to: best_model\\assets\n"
     ]
    },
    {
     "name": "stdout",
     "output_type": "stream",
     "text": [
      "157/157 [==============================] - 83s 482ms/step - loss: 3.5965 - acc: 0.4648 - val_loss: 3.1333 - val_acc: 0.4798\n",
      "Epoch 2/50\n",
      "157/157 [==============================] - ETA: 0s - loss: 2.9148 - acc: 0.5049\n",
      "Epoch 2: val_acc improved from 0.47980 to 0.51833, saving model to best_model\n"
     ]
    },
    {
     "name": "stderr",
     "output_type": "stream",
     "text": [
      "WARNING:absl:Found untraced functions such as lstm_cell_layer_call_fn, lstm_cell_layer_call_and_return_conditional_losses, lstm_cell_1_layer_call_fn, lstm_cell_1_layer_call_and_return_conditional_losses while saving (showing 4 of 4). These functions will not be directly callable after loading.\n"
     ]
    },
    {
     "name": "stdout",
     "output_type": "stream",
     "text": [
      "INFO:tensorflow:Assets written to: best_model\\assets\n"
     ]
    },
    {
     "name": "stderr",
     "output_type": "stream",
     "text": [
      "INFO:tensorflow:Assets written to: best_model\\assets\n"
     ]
    },
    {
     "name": "stdout",
     "output_type": "stream",
     "text": [
      "157/157 [==============================] - 70s 447ms/step - loss: 2.9148 - acc: 0.5049 - val_loss: 2.8450 - val_acc: 0.5183\n",
      "Epoch 3/50\n",
      "157/157 [==============================] - ETA: 0s - loss: 2.6250 - acc: 0.5393\n",
      "Epoch 3: val_acc improved from 0.51833 to 0.54600, saving model to best_model\n"
     ]
    },
    {
     "name": "stderr",
     "output_type": "stream",
     "text": [
      "WARNING:absl:Found untraced functions such as lstm_cell_layer_call_fn, lstm_cell_layer_call_and_return_conditional_losses, lstm_cell_1_layer_call_fn, lstm_cell_1_layer_call_and_return_conditional_losses while saving (showing 4 of 4). These functions will not be directly callable after loading.\n"
     ]
    },
    {
     "name": "stdout",
     "output_type": "stream",
     "text": [
      "INFO:tensorflow:Assets written to: best_model\\assets\n"
     ]
    },
    {
     "name": "stderr",
     "output_type": "stream",
     "text": [
      "INFO:tensorflow:Assets written to: best_model\\assets\n"
     ]
    },
    {
     "name": "stdout",
     "output_type": "stream",
     "text": [
      "157/157 [==============================] - 71s 454ms/step - loss: 2.6250 - acc: 0.5393 - val_loss: 2.6349 - val_acc: 0.5460\n",
      "Epoch 4/50\n",
      "157/157 [==============================] - ETA: 0s - loss: 2.3695 - acc: 0.5695\n",
      "Epoch 4: val_acc improved from 0.54600 to 0.56347, saving model to best_model\n"
     ]
    },
    {
     "name": "stderr",
     "output_type": "stream",
     "text": [
      "WARNING:absl:Found untraced functions such as lstm_cell_layer_call_fn, lstm_cell_layer_call_and_return_conditional_losses, lstm_cell_1_layer_call_fn, lstm_cell_1_layer_call_and_return_conditional_losses while saving (showing 4 of 4). These functions will not be directly callable after loading.\n"
     ]
    },
    {
     "name": "stdout",
     "output_type": "stream",
     "text": [
      "INFO:tensorflow:Assets written to: best_model\\assets\n"
     ]
    },
    {
     "name": "stderr",
     "output_type": "stream",
     "text": [
      "INFO:tensorflow:Assets written to: best_model\\assets\n"
     ]
    },
    {
     "name": "stdout",
     "output_type": "stream",
     "text": [
      "157/157 [==============================] - 72s 459ms/step - loss: 2.3695 - acc: 0.5695 - val_loss: 2.5235 - val_acc: 0.5635\n",
      "Epoch 5/50\n",
      "157/157 [==============================] - ETA: 0s - loss: 2.1507 - acc: 0.5990\n",
      "Epoch 5: val_acc improved from 0.56347 to 0.58220, saving model to best_model\n"
     ]
    },
    {
     "name": "stderr",
     "output_type": "stream",
     "text": [
      "WARNING:absl:Found untraced functions such as lstm_cell_layer_call_fn, lstm_cell_layer_call_and_return_conditional_losses, lstm_cell_1_layer_call_fn, lstm_cell_1_layer_call_and_return_conditional_losses while saving (showing 4 of 4). These functions will not be directly callable after loading.\n"
     ]
    },
    {
     "name": "stdout",
     "output_type": "stream",
     "text": [
      "INFO:tensorflow:Assets written to: best_model\\assets\n"
     ]
    },
    {
     "name": "stderr",
     "output_type": "stream",
     "text": [
      "INFO:tensorflow:Assets written to: best_model\\assets\n"
     ]
    },
    {
     "name": "stdout",
     "output_type": "stream",
     "text": [
      "157/157 [==============================] - 72s 459ms/step - loss: 2.1507 - acc: 0.5990 - val_loss: 2.3664 - val_acc: 0.5822\n",
      "Epoch 6/50\n",
      "157/157 [==============================] - ETA: 0s - loss: 1.9593 - acc: 0.6233\n",
      "Epoch 6: val_acc improved from 0.58220 to 0.59453, saving model to best_model\n"
     ]
    },
    {
     "name": "stderr",
     "output_type": "stream",
     "text": [
      "WARNING:absl:Found untraced functions such as lstm_cell_layer_call_fn, lstm_cell_layer_call_and_return_conditional_losses, lstm_cell_1_layer_call_fn, lstm_cell_1_layer_call_and_return_conditional_losses while saving (showing 4 of 4). These functions will not be directly callable after loading.\n"
     ]
    },
    {
     "name": "stdout",
     "output_type": "stream",
     "text": [
      "INFO:tensorflow:Assets written to: best_model\\assets\n"
     ]
    },
    {
     "name": "stderr",
     "output_type": "stream",
     "text": [
      "INFO:tensorflow:Assets written to: best_model\\assets\n"
     ]
    },
    {
     "name": "stdout",
     "output_type": "stream",
     "text": [
      "157/157 [==============================] - 76s 483ms/step - loss: 1.9593 - acc: 0.6233 - val_loss: 2.3147 - val_acc: 0.5945\n",
      "Epoch 7/50\n",
      "157/157 [==============================] - ETA: 0s - loss: 1.7909 - acc: 0.6464\n",
      "Epoch 7: val_acc did not improve from 0.59453\n",
      "157/157 [==============================] - 60s 380ms/step - loss: 1.7909 - acc: 0.6464 - val_loss: 2.2606 - val_acc: 0.5939\n",
      "Epoch 8/50\n",
      "157/157 [==============================] - ETA: 0s - loss: 1.6460 - acc: 0.6676\n",
      "Epoch 8: val_acc improved from 0.59453 to 0.62680, saving model to best_model\n"
     ]
    },
    {
     "name": "stderr",
     "output_type": "stream",
     "text": [
      "WARNING:absl:Found untraced functions such as lstm_cell_layer_call_fn, lstm_cell_layer_call_and_return_conditional_losses, lstm_cell_1_layer_call_fn, lstm_cell_1_layer_call_and_return_conditional_losses while saving (showing 4 of 4). These functions will not be directly callable after loading.\n"
     ]
    },
    {
     "name": "stdout",
     "output_type": "stream",
     "text": [
      "INFO:tensorflow:Assets written to: best_model\\assets\n"
     ]
    },
    {
     "name": "stderr",
     "output_type": "stream",
     "text": [
      "INFO:tensorflow:Assets written to: best_model\\assets\n"
     ]
    },
    {
     "name": "stdout",
     "output_type": "stream",
     "text": [
      "157/157 [==============================] - 72s 458ms/step - loss: 1.6460 - acc: 0.6676 - val_loss: 2.1731 - val_acc: 0.6268\n",
      "Epoch 9/50\n",
      "157/157 [==============================] - ETA: 0s - loss: 1.5032 - acc: 0.6901\n",
      "Epoch 9: val_acc improved from 0.62680 to 0.63833, saving model to best_model\n"
     ]
    },
    {
     "name": "stderr",
     "output_type": "stream",
     "text": [
      "WARNING:absl:Found untraced functions such as lstm_cell_layer_call_fn, lstm_cell_layer_call_and_return_conditional_losses, lstm_cell_1_layer_call_fn, lstm_cell_1_layer_call_and_return_conditional_losses while saving (showing 4 of 4). These functions will not be directly callable after loading.\n"
     ]
    },
    {
     "name": "stdout",
     "output_type": "stream",
     "text": [
      "INFO:tensorflow:Assets written to: best_model\\assets\n"
     ]
    },
    {
     "name": "stderr",
     "output_type": "stream",
     "text": [
      "INFO:tensorflow:Assets written to: best_model\\assets\n"
     ]
    },
    {
     "name": "stdout",
     "output_type": "stream",
     "text": [
      "157/157 [==============================] - 75s 481ms/step - loss: 1.5032 - acc: 0.6901 - val_loss: 2.0943 - val_acc: 0.6383\n",
      "Epoch 10/50\n",
      "157/157 [==============================] - ETA: 0s - loss: 1.3715 - acc: 0.7127\n",
      "Epoch 10: val_acc improved from 0.63833 to 0.63847, saving model to best_model\n"
     ]
    },
    {
     "name": "stderr",
     "output_type": "stream",
     "text": [
      "WARNING:absl:Found untraced functions such as lstm_cell_layer_call_fn, lstm_cell_layer_call_and_return_conditional_losses, lstm_cell_1_layer_call_fn, lstm_cell_1_layer_call_and_return_conditional_losses while saving (showing 4 of 4). These functions will not be directly callable after loading.\n"
     ]
    },
    {
     "name": "stdout",
     "output_type": "stream",
     "text": [
      "INFO:tensorflow:Assets written to: best_model\\assets\n"
     ]
    },
    {
     "name": "stderr",
     "output_type": "stream",
     "text": [
      "INFO:tensorflow:Assets written to: best_model\\assets\n"
     ]
    },
    {
     "name": "stdout",
     "output_type": "stream",
     "text": [
      "157/157 [==============================] - 76s 483ms/step - loss: 1.3715 - acc: 0.7127 - val_loss: 2.0573 - val_acc: 0.6385\n",
      "Epoch 11/50\n",
      "157/157 [==============================] - ETA: 0s - loss: 1.2488 - acc: 0.7343\n",
      "Epoch 11: val_acc improved from 0.63847 to 0.65227, saving model to best_model\n"
     ]
    },
    {
     "name": "stderr",
     "output_type": "stream",
     "text": [
      "WARNING:absl:Found untraced functions such as lstm_cell_layer_call_fn, lstm_cell_layer_call_and_return_conditional_losses, lstm_cell_1_layer_call_fn, lstm_cell_1_layer_call_and_return_conditional_losses while saving (showing 4 of 4). These functions will not be directly callable after loading.\n"
     ]
    },
    {
     "name": "stdout",
     "output_type": "stream",
     "text": [
      "INFO:tensorflow:Assets written to: best_model\\assets\n"
     ]
    },
    {
     "name": "stderr",
     "output_type": "stream",
     "text": [
      "INFO:tensorflow:Assets written to: best_model\\assets\n"
     ]
    },
    {
     "name": "stdout",
     "output_type": "stream",
     "text": [
      "157/157 [==============================] - 77s 491ms/step - loss: 1.2488 - acc: 0.7343 - val_loss: 2.0036 - val_acc: 0.6523\n",
      "Epoch 12/50\n",
      "157/157 [==============================] - ETA: 0s - loss: 1.1334 - acc: 0.7553\n",
      "Epoch 12: val_acc improved from 0.65227 to 0.66287, saving model to best_model\n"
     ]
    },
    {
     "name": "stderr",
     "output_type": "stream",
     "text": [
      "WARNING:absl:Found untraced functions such as lstm_cell_layer_call_fn, lstm_cell_layer_call_and_return_conditional_losses, lstm_cell_1_layer_call_fn, lstm_cell_1_layer_call_and_return_conditional_losses while saving (showing 4 of 4). These functions will not be directly callable after loading.\n"
     ]
    },
    {
     "name": "stdout",
     "output_type": "stream",
     "text": [
      "INFO:tensorflow:Assets written to: best_model\\assets\n"
     ]
    },
    {
     "name": "stderr",
     "output_type": "stream",
     "text": [
      "INFO:tensorflow:Assets written to: best_model\\assets\n"
     ]
    },
    {
     "name": "stdout",
     "output_type": "stream",
     "text": [
      "157/157 [==============================] - 75s 481ms/step - loss: 1.1334 - acc: 0.7553 - val_loss: 2.0013 - val_acc: 0.6629\n",
      "Epoch 13/50\n",
      "157/157 [==============================] - ETA: 0s - loss: 1.0254 - acc: 0.7761\n",
      "Epoch 13: val_acc improved from 0.66287 to 0.66893, saving model to best_model\n"
     ]
    },
    {
     "name": "stderr",
     "output_type": "stream",
     "text": [
      "WARNING:absl:Found untraced functions such as lstm_cell_layer_call_fn, lstm_cell_layer_call_and_return_conditional_losses, lstm_cell_1_layer_call_fn, lstm_cell_1_layer_call_and_return_conditional_losses while saving (showing 4 of 4). These functions will not be directly callable after loading.\n"
     ]
    },
    {
     "name": "stdout",
     "output_type": "stream",
     "text": [
      "INFO:tensorflow:Assets written to: best_model\\assets\n"
     ]
    },
    {
     "name": "stderr",
     "output_type": "stream",
     "text": [
      "INFO:tensorflow:Assets written to: best_model\\assets\n"
     ]
    },
    {
     "name": "stdout",
     "output_type": "stream",
     "text": [
      "157/157 [==============================] - 76s 484ms/step - loss: 1.0254 - acc: 0.7761 - val_loss: 1.9487 - val_acc: 0.6689\n",
      "Epoch 14/50\n",
      "157/157 [==============================] - ETA: 0s - loss: 0.9187 - acc: 0.7986\n",
      "Epoch 14: val_acc improved from 0.66893 to 0.66900, saving model to best_model\n"
     ]
    },
    {
     "name": "stderr",
     "output_type": "stream",
     "text": [
      "WARNING:absl:Found untraced functions such as lstm_cell_layer_call_fn, lstm_cell_layer_call_and_return_conditional_losses, lstm_cell_1_layer_call_fn, lstm_cell_1_layer_call_and_return_conditional_losses while saving (showing 4 of 4). These functions will not be directly callable after loading.\n"
     ]
    },
    {
     "name": "stdout",
     "output_type": "stream",
     "text": [
      "INFO:tensorflow:Assets written to: best_model\\assets\n"
     ]
    },
    {
     "name": "stderr",
     "output_type": "stream",
     "text": [
      "INFO:tensorflow:Assets written to: best_model\\assets\n"
     ]
    },
    {
     "name": "stdout",
     "output_type": "stream",
     "text": [
      "157/157 [==============================] - 73s 465ms/step - loss: 0.9187 - acc: 0.7986 - val_loss: 1.9620 - val_acc: 0.6690\n",
      "Epoch 15/50\n",
      "157/157 [==============================] - ETA: 0s - loss: 0.8290 - acc: 0.8161\n",
      "Epoch 15: val_acc improved from 0.66900 to 0.67353, saving model to best_model\n"
     ]
    },
    {
     "name": "stderr",
     "output_type": "stream",
     "text": [
      "WARNING:absl:Found untraced functions such as lstm_cell_layer_call_fn, lstm_cell_layer_call_and_return_conditional_losses, lstm_cell_1_layer_call_fn, lstm_cell_1_layer_call_and_return_conditional_losses while saving (showing 4 of 4). These functions will not be directly callable after loading.\n"
     ]
    },
    {
     "name": "stdout",
     "output_type": "stream",
     "text": [
      "INFO:tensorflow:Assets written to: best_model\\assets\n"
     ]
    },
    {
     "name": "stderr",
     "output_type": "stream",
     "text": [
      "INFO:tensorflow:Assets written to: best_model\\assets\n"
     ]
    },
    {
     "name": "stdout",
     "output_type": "stream",
     "text": [
      "157/157 [==============================] - 78s 496ms/step - loss: 0.8290 - acc: 0.8161 - val_loss: 1.9319 - val_acc: 0.6735\n",
      "Epoch 16/50\n",
      "157/157 [==============================] - ETA: 0s - loss: 0.7427 - acc: 0.8317\n",
      "Epoch 16: val_acc improved from 0.67353 to 0.67973, saving model to best_model\n"
     ]
    },
    {
     "name": "stderr",
     "output_type": "stream",
     "text": [
      "WARNING:absl:Found untraced functions such as lstm_cell_layer_call_fn, lstm_cell_layer_call_and_return_conditional_losses, lstm_cell_1_layer_call_fn, lstm_cell_1_layer_call_and_return_conditional_losses while saving (showing 4 of 4). These functions will not be directly callable after loading.\n"
     ]
    },
    {
     "name": "stdout",
     "output_type": "stream",
     "text": [
      "INFO:tensorflow:Assets written to: best_model\\assets\n"
     ]
    },
    {
     "name": "stderr",
     "output_type": "stream",
     "text": [
      "INFO:tensorflow:Assets written to: best_model\\assets\n"
     ]
    },
    {
     "name": "stdout",
     "output_type": "stream",
     "text": [
      "157/157 [==============================] - 75s 480ms/step - loss: 0.7427 - acc: 0.8317 - val_loss: 1.9363 - val_acc: 0.6797\n",
      "Epoch 17/50\n",
      "157/157 [==============================] - ETA: 0s - loss: 0.6697 - acc: 0.8501\n",
      "Epoch 17: val_acc improved from 0.67973 to 0.68720, saving model to best_model\n"
     ]
    },
    {
     "name": "stderr",
     "output_type": "stream",
     "text": [
      "WARNING:absl:Found untraced functions such as lstm_cell_layer_call_fn, lstm_cell_layer_call_and_return_conditional_losses, lstm_cell_1_layer_call_fn, lstm_cell_1_layer_call_and_return_conditional_losses while saving (showing 4 of 4). These functions will not be directly callable after loading.\n"
     ]
    },
    {
     "name": "stdout",
     "output_type": "stream",
     "text": [
      "INFO:tensorflow:Assets written to: best_model\\assets\n"
     ]
    },
    {
     "name": "stderr",
     "output_type": "stream",
     "text": [
      "INFO:tensorflow:Assets written to: best_model\\assets\n"
     ]
    },
    {
     "name": "stdout",
     "output_type": "stream",
     "text": [
      "157/157 [==============================] - 74s 472ms/step - loss: 0.6697 - acc: 0.8501 - val_loss: 1.9035 - val_acc: 0.6872\n",
      "Epoch 18/50\n",
      "157/157 [==============================] - ETA: 0s - loss: 0.5978 - acc: 0.8624\n",
      "Epoch 18: val_acc improved from 0.68720 to 0.69320, saving model to best_model\n"
     ]
    },
    {
     "name": "stderr",
     "output_type": "stream",
     "text": [
      "WARNING:absl:Found untraced functions such as lstm_cell_layer_call_fn, lstm_cell_layer_call_and_return_conditional_losses, lstm_cell_1_layer_call_fn, lstm_cell_1_layer_call_and_return_conditional_losses while saving (showing 4 of 4). These functions will not be directly callable after loading.\n"
     ]
    },
    {
     "name": "stdout",
     "output_type": "stream",
     "text": [
      "INFO:tensorflow:Assets written to: best_model\\assets\n"
     ]
    },
    {
     "name": "stderr",
     "output_type": "stream",
     "text": [
      "INFO:tensorflow:Assets written to: best_model\\assets\n"
     ]
    },
    {
     "name": "stdout",
     "output_type": "stream",
     "text": [
      "157/157 [==============================] - 73s 464ms/step - loss: 0.5978 - acc: 0.8624 - val_loss: 1.9539 - val_acc: 0.6932\n",
      "Epoch 19/50\n",
      "157/157 [==============================] - ETA: 0s - loss: 0.5364 - acc: 0.8773\n",
      "Epoch 19: val_acc improved from 0.69320 to 0.69367, saving model to best_model\n"
     ]
    },
    {
     "name": "stderr",
     "output_type": "stream",
     "text": [
      "WARNING:absl:Found untraced functions such as lstm_cell_layer_call_fn, lstm_cell_layer_call_and_return_conditional_losses, lstm_cell_1_layer_call_fn, lstm_cell_1_layer_call_and_return_conditional_losses while saving (showing 4 of 4). These functions will not be directly callable after loading.\n"
     ]
    },
    {
     "name": "stdout",
     "output_type": "stream",
     "text": [
      "INFO:tensorflow:Assets written to: best_model\\assets\n"
     ]
    },
    {
     "name": "stderr",
     "output_type": "stream",
     "text": [
      "INFO:tensorflow:Assets written to: best_model\\assets\n"
     ]
    },
    {
     "name": "stdout",
     "output_type": "stream",
     "text": [
      "157/157 [==============================] - 81s 516ms/step - loss: 0.5364 - acc: 0.8773 - val_loss: 1.9388 - val_acc: 0.6937\n",
      "Epoch 20/50\n",
      "157/157 [==============================] - ETA: 0s - loss: 0.4815 - acc: 0.8871\n",
      "Epoch 20: val_acc improved from 0.69367 to 0.69833, saving model to best_model\n"
     ]
    },
    {
     "name": "stderr",
     "output_type": "stream",
     "text": [
      "WARNING:absl:Found untraced functions such as lstm_cell_layer_call_fn, lstm_cell_layer_call_and_return_conditional_losses, lstm_cell_1_layer_call_fn, lstm_cell_1_layer_call_and_return_conditional_losses while saving (showing 4 of 4). These functions will not be directly callable after loading.\n"
     ]
    },
    {
     "name": "stdout",
     "output_type": "stream",
     "text": [
      "INFO:tensorflow:Assets written to: best_model\\assets\n"
     ]
    },
    {
     "name": "stderr",
     "output_type": "stream",
     "text": [
      "INFO:tensorflow:Assets written to: best_model\\assets\n"
     ]
    },
    {
     "name": "stdout",
     "output_type": "stream",
     "text": [
      "157/157 [==============================] - 78s 501ms/step - loss: 0.4815 - acc: 0.8871 - val_loss: 1.9475 - val_acc: 0.6983\n",
      "Epoch 21/50\n",
      "157/157 [==============================] - ETA: 0s - loss: 0.4341 - acc: 0.8964\n",
      "Epoch 21: val_acc did not improve from 0.69833\n",
      "157/157 [==============================] - 73s 465ms/step - loss: 0.4341 - acc: 0.8964 - val_loss: 1.9601 - val_acc: 0.6946\n",
      "Epoch 22/50\n",
      "157/157 [==============================] - ETA: 0s - loss: 0.3872 - acc: 0.9073\n",
      "Epoch 22: val_acc did not improve from 0.69833\n",
      "157/157 [==============================] - 72s 457ms/step - loss: 0.3872 - acc: 0.9073 - val_loss: 1.9620 - val_acc: 0.6977\n",
      "Epoch 23/50\n",
      "157/157 [==============================] - ETA: 0s - loss: 0.3536 - acc: 0.9140\n",
      "Epoch 23: val_acc improved from 0.69833 to 0.70560, saving model to best_model\n"
     ]
    },
    {
     "name": "stderr",
     "output_type": "stream",
     "text": [
      "WARNING:absl:Found untraced functions such as lstm_cell_layer_call_fn, lstm_cell_layer_call_and_return_conditional_losses, lstm_cell_1_layer_call_fn, lstm_cell_1_layer_call_and_return_conditional_losses while saving (showing 4 of 4). These functions will not be directly callable after loading.\n"
     ]
    },
    {
     "name": "stdout",
     "output_type": "stream",
     "text": [
      "INFO:tensorflow:Assets written to: best_model\\assets\n"
     ]
    },
    {
     "name": "stderr",
     "output_type": "stream",
     "text": [
      "INFO:tensorflow:Assets written to: best_model\\assets\n"
     ]
    },
    {
     "name": "stdout",
     "output_type": "stream",
     "text": [
      "157/157 [==============================] - 84s 535ms/step - loss: 0.3536 - acc: 0.9140 - val_loss: 1.9674 - val_acc: 0.7056\n",
      "Epoch 24/50\n",
      "157/157 [==============================] - ETA: 0s - loss: 0.3186 - acc: 0.9208\n",
      "Epoch 24: val_acc did not improve from 0.70560\n",
      "157/157 [==============================] - 65s 414ms/step - loss: 0.3186 - acc: 0.9208 - val_loss: 1.9781 - val_acc: 0.7021\n",
      "Epoch 25/50\n",
      "157/157 [==============================] - ETA: 0s - loss: 0.2930 - acc: 0.9273\n",
      "Epoch 25: val_acc improved from 0.70560 to 0.70793, saving model to best_model\n"
     ]
    },
    {
     "name": "stderr",
     "output_type": "stream",
     "text": [
      "WARNING:absl:Found untraced functions such as lstm_cell_layer_call_fn, lstm_cell_layer_call_and_return_conditional_losses, lstm_cell_1_layer_call_fn, lstm_cell_1_layer_call_and_return_conditional_losses while saving (showing 4 of 4). These functions will not be directly callable after loading.\n"
     ]
    },
    {
     "name": "stdout",
     "output_type": "stream",
     "text": [
      "INFO:tensorflow:Assets written to: best_model\\assets\n"
     ]
    },
    {
     "name": "stderr",
     "output_type": "stream",
     "text": [
      "INFO:tensorflow:Assets written to: best_model\\assets\n"
     ]
    },
    {
     "name": "stdout",
     "output_type": "stream",
     "text": [
      "157/157 [==============================] - 77s 490ms/step - loss: 0.2930 - acc: 0.9273 - val_loss: 1.9788 - val_acc: 0.7079\n",
      "Epoch 26/50\n",
      "157/157 [==============================] - ETA: 0s - loss: 0.2688 - acc: 0.9306\n",
      "Epoch 26: val_acc improved from 0.70793 to 0.71340, saving model to best_model\n"
     ]
    },
    {
     "name": "stderr",
     "output_type": "stream",
     "text": [
      "WARNING:absl:Found untraced functions such as lstm_cell_layer_call_fn, lstm_cell_layer_call_and_return_conditional_losses, lstm_cell_1_layer_call_fn, lstm_cell_1_layer_call_and_return_conditional_losses while saving (showing 4 of 4). These functions will not be directly callable after loading.\n"
     ]
    },
    {
     "name": "stdout",
     "output_type": "stream",
     "text": [
      "INFO:tensorflow:Assets written to: best_model\\assets\n"
     ]
    },
    {
     "name": "stderr",
     "output_type": "stream",
     "text": [
      "INFO:tensorflow:Assets written to: best_model\\assets\n"
     ]
    },
    {
     "name": "stdout",
     "output_type": "stream",
     "text": [
      "157/157 [==============================] - 88s 562ms/step - loss: 0.2688 - acc: 0.9306 - val_loss: 1.9794 - val_acc: 0.7134\n",
      "Epoch 27/50\n",
      "157/157 [==============================] - ETA: 0s - loss: 0.2463 - acc: 0.9364\n",
      "Epoch 27: val_acc did not improve from 0.71340\n",
      "157/157 [==============================] - 75s 478ms/step - loss: 0.2463 - acc: 0.9364 - val_loss: 2.0227 - val_acc: 0.7099\n",
      "Epoch 28/50\n",
      "157/157 [==============================] - ETA: 0s - loss: 0.2309 - acc: 0.9378\n",
      "Epoch 28: val_acc did not improve from 0.71340\n",
      "157/157 [==============================] - 86s 552ms/step - loss: 0.2309 - acc: 0.9378 - val_loss: 2.0026 - val_acc: 0.7090\n",
      "Epoch 29/50\n",
      "157/157 [==============================] - ETA: 0s - loss: 0.2142 - acc: 0.9402\n",
      "Epoch 29: val_acc did not improve from 0.71340\n",
      "157/157 [==============================] - 79s 505ms/step - loss: 0.2142 - acc: 0.9402 - val_loss: 2.0180 - val_acc: 0.7095\n",
      "Epoch 30/50\n",
      "157/157 [==============================] - ETA: 0s - loss: 0.2032 - acc: 0.9416\n",
      "Epoch 30: val_acc did not improve from 0.71340\n",
      "157/157 [==============================] - 80s 510ms/step - loss: 0.2032 - acc: 0.9416 - val_loss: 2.0287 - val_acc: 0.7075\n",
      "Epoch 31/50\n",
      "157/157 [==============================] - ETA: 0s - loss: 0.1927 - acc: 0.9445\n",
      "Epoch 31: val_acc did not improve from 0.71340\n",
      "157/157 [==============================] - 76s 482ms/step - loss: 0.1927 - acc: 0.9445 - val_loss: 2.0484 - val_acc: 0.7087\n",
      "Epoch 32/50\n",
      "157/157 [==============================] - ETA: 0s - loss: 0.1838 - acc: 0.9458\n",
      "Epoch 32: val_acc improved from 0.71340 to 0.71500, saving model to best_model\n"
     ]
    },
    {
     "name": "stderr",
     "output_type": "stream",
     "text": [
      "WARNING:absl:Found untraced functions such as lstm_cell_layer_call_fn, lstm_cell_layer_call_and_return_conditional_losses, lstm_cell_1_layer_call_fn, lstm_cell_1_layer_call_and_return_conditional_losses while saving (showing 4 of 4). These functions will not be directly callable after loading.\n"
     ]
    },
    {
     "name": "stdout",
     "output_type": "stream",
     "text": [
      "INFO:tensorflow:Assets written to: best_model\\assets\n"
     ]
    },
    {
     "name": "stderr",
     "output_type": "stream",
     "text": [
      "INFO:tensorflow:Assets written to: best_model\\assets\n"
     ]
    },
    {
     "name": "stdout",
     "output_type": "stream",
     "text": [
      "157/157 [==============================] - 94s 602ms/step - loss: 0.1838 - acc: 0.9458 - val_loss: 2.0342 - val_acc: 0.7150\n",
      "Epoch 33/50\n",
      "157/157 [==============================] - ETA: 0s - loss: 0.1741 - acc: 0.9478\n",
      "Epoch 33: val_acc did not improve from 0.71500\n",
      "157/157 [==============================] - 81s 517ms/step - loss: 0.1741 - acc: 0.9478 - val_loss: 2.0591 - val_acc: 0.7134\n",
      "Epoch 34/50\n",
      "157/157 [==============================] - ETA: 0s - loss: 0.1708 - acc: 0.9476\n",
      "Epoch 34: val_acc did not improve from 0.71500\n",
      "157/157 [==============================] - 70s 444ms/step - loss: 0.1708 - acc: 0.9476 - val_loss: 2.0656 - val_acc: 0.7123\n",
      "Epoch 35/50\n",
      "157/157 [==============================] - ETA: 0s - loss: 0.1629 - acc: 0.9497\n",
      "Epoch 35: val_acc did not improve from 0.71500\n",
      "157/157 [==============================] - 70s 446ms/step - loss: 0.1629 - acc: 0.9497 - val_loss: 2.0819 - val_acc: 0.7148\n",
      "Epoch 36/50\n",
      "157/157 [==============================] - ETA: 0s - loss: 0.1567 - acc: 0.9495\n",
      "Epoch 36: val_acc did not improve from 0.71500\n",
      "157/157 [==============================] - 72s 459ms/step - loss: 0.1567 - acc: 0.9495 - val_loss: 2.0835 - val_acc: 0.7085\n",
      "Epoch 37/50\n",
      "157/157 [==============================] - ETA: 0s - loss: 0.1532 - acc: 0.9492\n",
      "Epoch 37: val_acc improved from 0.71500 to 0.71553, saving model to best_model\n"
     ]
    },
    {
     "name": "stderr",
     "output_type": "stream",
     "text": [
      "WARNING:absl:Found untraced functions such as lstm_cell_layer_call_fn, lstm_cell_layer_call_and_return_conditional_losses, lstm_cell_1_layer_call_fn, lstm_cell_1_layer_call_and_return_conditional_losses while saving (showing 4 of 4). These functions will not be directly callable after loading.\n"
     ]
    },
    {
     "name": "stdout",
     "output_type": "stream",
     "text": [
      "INFO:tensorflow:Assets written to: best_model\\assets\n"
     ]
    },
    {
     "name": "stderr",
     "output_type": "stream",
     "text": [
      "INFO:tensorflow:Assets written to: best_model\\assets\n"
     ]
    },
    {
     "name": "stdout",
     "output_type": "stream",
     "text": [
      "157/157 [==============================] - 83s 529ms/step - loss: 0.1532 - acc: 0.9492 - val_loss: 2.1097 - val_acc: 0.7155\n",
      "Epoch 38/50\n",
      "157/157 [==============================] - ETA: 0s - loss: 0.1491 - acc: 0.9507\n",
      "Epoch 38: val_acc did not improve from 0.71553\n",
      "157/157 [==============================] - 61s 392ms/step - loss: 0.1491 - acc: 0.9507 - val_loss: 2.1094 - val_acc: 0.7110\n",
      "Epoch 39/50\n",
      "157/157 [==============================] - ETA: 0s - loss: 0.1448 - acc: 0.9515\n",
      "Epoch 39: val_acc did not improve from 0.71553\n",
      "157/157 [==============================] - 62s 393ms/step - loss: 0.1448 - acc: 0.9515 - val_loss: 2.1198 - val_acc: 0.7127\n",
      "Epoch 40/50\n",
      "157/157 [==============================] - ETA: 0s - loss: 0.1406 - acc: 0.9524\n",
      "Epoch 40: val_acc did not improve from 0.71553\n",
      "157/157 [==============================] - 62s 396ms/step - loss: 0.1406 - acc: 0.9524 - val_loss: 2.1298 - val_acc: 0.7089\n",
      "Epoch 41/50\n",
      "157/157 [==============================] - ETA: 0s - loss: 0.1397 - acc: 0.9529\n",
      "Epoch 41: val_acc did not improve from 0.71553\n",
      "157/157 [==============================] - 63s 399ms/step - loss: 0.1397 - acc: 0.9529 - val_loss: 2.1477 - val_acc: 0.7103\n",
      "Epoch 42/50\n",
      "157/157 [==============================] - ETA: 0s - loss: 0.1354 - acc: 0.9525\n",
      "Epoch 42: val_acc improved from 0.71553 to 0.71680, saving model to best_model\n"
     ]
    },
    {
     "name": "stderr",
     "output_type": "stream",
     "text": [
      "WARNING:absl:Found untraced functions such as lstm_cell_layer_call_fn, lstm_cell_layer_call_and_return_conditional_losses, lstm_cell_1_layer_call_fn, lstm_cell_1_layer_call_and_return_conditional_losses while saving (showing 4 of 4). These functions will not be directly callable after loading.\n"
     ]
    },
    {
     "name": "stdout",
     "output_type": "stream",
     "text": [
      "INFO:tensorflow:Assets written to: best_model\\assets\n"
     ]
    },
    {
     "name": "stderr",
     "output_type": "stream",
     "text": [
      "INFO:tensorflow:Assets written to: best_model\\assets\n"
     ]
    },
    {
     "name": "stdout",
     "output_type": "stream",
     "text": [
      "157/157 [==============================] - 74s 472ms/step - loss: 0.1354 - acc: 0.9525 - val_loss: 2.1473 - val_acc: 0.7168\n",
      "Epoch 43/50\n",
      "157/157 [==============================] - ETA: 0s - loss: 0.1337 - acc: 0.9533\n",
      "Epoch 43: val_acc did not improve from 0.71680\n",
      "157/157 [==============================] - 68s 434ms/step - loss: 0.1337 - acc: 0.9533 - val_loss: 2.1667 - val_acc: 0.7115\n",
      "Epoch 44/50\n",
      "157/157 [==============================] - ETA: 0s - loss: 0.1315 - acc: 0.9530\n",
      "Epoch 44: val_acc did not improve from 0.71680\n",
      "157/157 [==============================] - 64s 406ms/step - loss: 0.1315 - acc: 0.9530 - val_loss: 2.1656 - val_acc: 0.7111\n",
      "Epoch 45/50\n",
      "157/157 [==============================] - ETA: 0s - loss: 0.1302 - acc: 0.9533\n",
      "Epoch 45: val_acc did not improve from 0.71680\n",
      "157/157 [==============================] - 61s 388ms/step - loss: 0.1302 - acc: 0.9533 - val_loss: 2.2009 - val_acc: 0.7076\n",
      "Epoch 46/50\n",
      "157/157 [==============================] - ETA: 0s - loss: 0.1293 - acc: 0.9529\n",
      "Epoch 46: val_acc did not improve from 0.71680\n",
      "157/157 [==============================] - 61s 388ms/step - loss: 0.1293 - acc: 0.9529 - val_loss: 2.1823 - val_acc: 0.7134\n",
      "Epoch 47/50\n",
      "157/157 [==============================] - ETA: 0s - loss: 0.1265 - acc: 0.9529\n",
      "Epoch 47: val_acc did not improve from 0.71680\n",
      "157/157 [==============================] - 61s 388ms/step - loss: 0.1265 - acc: 0.9529 - val_loss: 2.1762 - val_acc: 0.7167\n",
      "Epoch 48/50\n",
      "157/157 [==============================] - ETA: 0s - loss: 0.1256 - acc: 0.9529\n",
      "Epoch 48: val_acc did not improve from 0.71680\n",
      "157/157 [==============================] - 61s 388ms/step - loss: 0.1256 - acc: 0.9529 - val_loss: 2.1806 - val_acc: 0.7116\n",
      "Epoch 49/50\n",
      "157/157 [==============================] - ETA: 0s - loss: 0.1245 - acc: 0.9523\n",
      "Epoch 49: val_acc did not improve from 0.71680\n",
      "157/157 [==============================] - 62s 398ms/step - loss: 0.1245 - acc: 0.9523 - val_loss: 2.2145 - val_acc: 0.7138\n",
      "Epoch 50/50\n",
      "157/157 [==============================] - ETA: 0s - loss: 0.1232 - acc: 0.9526\n",
      "Epoch 50: val_acc did not improve from 0.71680\n",
      "157/157 [==============================] - 62s 396ms/step - loss: 0.1232 - acc: 0.9526 - val_loss: 2.2045 - val_acc: 0.7129\n"
     ]
    },
    {
     "data": {
      "text/plain": [
       "<keras.callbacks.History at 0x22c1b6976d0>"
      ]
     },
     "execution_count": 23,
     "metadata": {},
     "output_type": "execute_result"
    }
   ],
   "source": [
    "model.fit(trainX,trainY,epochs=50,verbose=1,batch_size=64,callbacks=[checkpoint],validation_data=(testX,testY))"
   ]
  },
  {
   "cell_type": "code",
   "execution_count": 32,
   "metadata": {},
   "outputs": [],
   "source": [
    "from keras.models import load_model\n",
    "model=load_model(\"best_model\")"
   ]
  },
  {
   "cell_type": "code",
   "execution_count": 33,
   "metadata": {},
   "outputs": [
    {
     "data": {
      "text/plain": [
       "dict_items([('<UNK>', 1), ('i', 2), ('tom', 3), ('it', 4), ('you', 5), ('im', 6), ('is', 7), ('a', 8), ('me', 9), ('we', 10), ('youre', 11), ('was', 12), ('go', 13), ('its', 14), ('he', 15), ('were', 16), ('are', 17), ('be', 18), ('this', 19), ('that', 20), ('dont', 21), ('get', 22), ('the', 23), ('to', 24), ('do', 25), ('they', 26), ('not', 27), ('up', 28), ('ill', 29), ('can', 30), ('have', 31), ('no', 32), ('come', 33), ('she', 34), ('thats', 35), ('here', 36), ('my', 37), ('in', 38), ('let', 39), ('out', 40), ('take', 41), ('stop', 42), ('did', 43), ('who', 44), ('need', 45), ('theyre', 46), ('like', 47), ('all', 48), ('him', 49), ('love', 50), ('toms', 51), ('keep', 52), ('got', 53), ('well', 54), ('stay', 55), ('us', 56), ('look', 57), ('help', 58), ('am', 59), ('what', 60), ('want', 61), ('please', 62), ('hes', 63), ('on', 64), ('lets', 65), ('home', 66), ('your', 67), ('try', 68), ('lost', 69), ('how', 70), ('saw', 71), ('one', 72), ('see', 73), ('must', 74), ('so', 75), ('back', 76), ('feel', 77), ('leave', 78), ('down', 79), ('know', 80), ('felt', 81), ('happy', 82), ('now', 83), ('good', 84), ('busy', 85), ('will', 86), ('had', 87), ('away', 88), ('just', 89), ('cant', 90), ('wait', 91), ('too', 92), ('alone', 93), ('again', 94), ('hate', 95), ('hurt', 96), ('them', 97), ('safe', 98), ('there', 99), ('has', 100), ('may', 101), ('at', 102), ('give', 103), ('for', 104), ('work', 105), ('run', 106), ('ive', 107), ('eat', 108), ('mine', 109), ('call', 110), ('nice', 111), ('broke', 112), ('her', 113), ('right', 114), ('fun', 115), ('upset', 116), ('ok', 117), ('ask', 118), ('went', 119), ('time', 120), ('tired', 121), ('easy', 122), ('whos', 123), ('over', 124), ('won', 125), ('didnt', 126), ('job', 127), ('ready', 128), ('drink', 129), ('left', 130), ('made', 131), ('open', 132), ('say', 133), ('sit', 134), ('win', 135), ('sad', 136), ('very', 137), ('off', 138), ('came', 139), ('done', 140), ('talk', 141), ('going', 142), ('dog', 143), ('bad', 144), ('careful', 145), ('looks', 146), ('still', 147), ('early', 148), ('car', 149), ('ahead', 150), ('move', 151), ('swim', 152), ('of', 153), ('yours', 154), ('found', 155), ('check', 156), ('make', 157), ('quiet', 158), ('cool', 159), ('walk', 160), ('free', 161), ('wrong', 162), ('bed', 163), ('care', 164), ('read', 165), ('calm', 166), ('bring', 167), ('more', 168), ('shes', 169), ('old', 170), ('watch', 171), ('sure', 172), ('start', 173), ('with', 174), ('sing', 175), ('buy', 176), ('new', 177), ('big', 178), ('quit', 179), ('die', 180), ('crazy', 181), ('late', 182), ('sick', 183), ('fat', 184), ('cold', 185), ('shot', 186), ('naive', 187), ('loves', 188), ('way', 189), ('lot', 190), ('drunk', 191), ('likes', 192), ('should', 193), ('hard', 194), ('door', 195), ('sorry', 196), ('thanks', 197), ('everyone', 198), ('said', 199), ('funny', 200), ('hold', 201), ('never', 202), ('called', 203), ('beat', 204), ('an', 205), ('tell', 206), ('could', 207), ('whats', 208), ('died', 209), ('mary', 210), ('mad', 211), ('drive', 212), ('hurry', 213), ('loved', 214), ('fine', 215), ('trust', 216), ('forget', 217), ('lazy', 218), ('some', 219), ('knows', 220), ('money', 221), ('think', 222), ('prepared', 223), ('stand', 224), ('wasnt', 225), ('why', 226), ('first', 227), ('liked', 228), ('mean', 229), ('wake', 230), ('stupid', 231), ('use', 232), ('isnt', 233), ('sleep', 234), ('french', 235), ('rich', 236), ('does', 237), ('kidding', 238), ('wont', 239), ('lonely', 240), ('dead', 241), ('book', 242), ('pay', 243), ('miss', 244), ('turn', 245), ('trying', 246), ('lie', 247), ('push', 248), ('eyes', 249), ('lock', 250), ('once', 251), ('fair', 252), ('coming', 253), ('weird', 254), ('angry', 255), ('relax', 256), ('grab', 257), ('yourself', 258), ('lying', 259), ('show', 260), ('took', 261), ('break', 262), ('luck', 263), ('remember', 264), ('seem', 265), ('nothing', 266), ('hurts', 267), ('hired', 268), ('touch', 269), ('cheated', 270), ('terrific', 271), ('shut', 272), ('knew', 273), ('hang', 274), ('awful', 275), ('ignore', 276), ('fired', 277), ('working', 278), ('fast', 279), ('great', 280), ('cry', 281), ('needs', 282), ('lucky', 283), ('gun', 284), ('speak', 285), ('tried', 286), ('itll', 287), ('find', 288), ('weak', 289), ('cut', 290), ('drop', 291), ('life', 292), ('where', 293), ('joking', 294), ('clean', 295), ('tight', 296), ('fell', 297), ('nuts', 298), ('strong', 299), ('kids', 300), ('hot', 301), ('hear', 302), ('caught', 303), ('cried', 304), ('cute', 305), ('tomll', 306), ('serious', 307), ('outside', 308), ('told', 309), ('close', 310), ('met', 311), ('inside', 312), ('hungry', 313), ('listen', 314), ('fit', 315), ('tall', 316), ('cook', 317), ('lied', 318), ('normal', 319), ('alive', 320), ('these', 321), ('hand', 322), ('idea', 323), ('gave', 324), ('moving', 325), ('helped', 326), ('sleepy', 327), ('write', 328), ('vote', 329), ('sign', 330), ('wonderful', 331), ('famous', 332), ('shy', 333), ('true', 334), ('enough', 335), ('beer', 336), ('needed', 337), ('tie', 338), ('works', 339), ('live', 340), ('son', 341), ('ate', 342), ('tea', 343), ('drank', 344), ('tough', 345), ('nobody', 346), ('smart', 347), ('scared', 348), ('seems', 349), ('awesome', 350), ('joke', 351), ('seated', 352), ('young', 353), ('id', 354), ('man', 355), ('boy', 356), ('sweet', 357), ('cat', 358), ('talking', 359), ('boss', 360), ('bored', 361), ('by', 362), ('hows', 363), ('dogs', 364), ('pardon', 365), ('invited', 366), ('looked', 367), ('around', 368), ('his', 369), ('seen', 370), ('hello', 371), ('stuck', 372), ('relaxed', 373), ('awake', 374), ('date', 375), ('plan', 376), ('ours', 377), ('silly', 378), ('deal', 379), ('finished', 380), ('reading', 381), ('smell', 382), ('smoke', 383), ('best', 384), ('sat', 385), ('crying', 386), ('focused', 387), ('rude', 388), ('wine', 389), ('school', 390), ('anyone', 391), ('soon', 392), ('loosen', 393), ('seat', 394), ('guess', 395), ('study', 396), ('hit', 397), ('both', 398), ('join', 399), ('naked', 400), ('theyll', 401), ('room', 402), ('rest', 403), ('better', 404), ('play', 405), ('tricked', 406), ('wants', 407), ('bit', 408), ('short', 409), ('dancing', 410), ('food', 411), ('changed', 412), ('shame', 413), ('spoke', 414), ('paid', 415), ('excited', 416), ('gone', 417), ('clever', 418), ('hero', 419), ('key', 420), ('unbelievable', 421), ('nervous', 422), ('slowly', 423), ('trapped', 424), ('deaf', 425), ('agree', 426), ('yes', 427), ('skinny', 428), ('dying', 429), ('cruel', 430), ('kissed', 431), ('hi', 432), ('kill', 433), ('driving', 434), ('problem', 435), ('hug', 436), ('follow', 437), ('kind', 438), ('fined', 439), ('fake', 440), ('anybody', 441), ('send', 442), ('patient', 443), ('merciful', 444), ('pick', 445), ('water', 446), ('after', 447), ('nearby', 448), ('punctual', 449), ('quickly', 450), ('lunch', 451), ('youve', 452), ('change', 453), ('many', 454), ('unlucky', 455), ('innocent', 456), ('hates', 457), ('last', 458), ('wanted', 459), ('dizzy', 460), ('retired', 461), ('losing', 462), ('cops', 463), ('hope', 464), ('kid', 465), ('dumped', 466), ('positive', 467), ('winning', 468), ('kiss', 469), ('walked', 470), ('gear', 471), ('memorize', 472), ('guilty', 473), ('upstairs', 474), ('woke', 475), ('save', 476), ('smile', 477), ('brave', 478), ('crafty', 479), ('skiing', 480), ('ugly', 481), ('camera', 482), ('slow', 483), ('shoe', 484), ('really', 485), ('enjoy', 486), ('asleep', 487), ('stunned', 488), ('decide', 489), ('step', 490), ('jump', 491), ('saved', 492), ('direct', 493), ('running', 494), ('head', 495), ('fish', 496), ('set', 497), ('fix', 498), ('taste', 499), ('dance', 500), ('fight', 501), ('about', 502), ('seriously', 503), ('brief', 504), ('sneaky', 505), ('thank', 506), ('might', 507), ('laughed', 508), ('correct', 509), ('finish', 510), ('armed', 511), ('bother', 512), ('bus', 513), ('age', 514), ('followed', 515), ('singing', 516), ('cover', 517), ('prudent', 518), ('catch', 519), ('doctor', 520), ('cash', 521), ('talked', 522), ('touched', 523), ('closely', 524), ('lose', 525), ('burned', 526), ('as', 527), ('hated', 528), ('foolish', 529), ('fear', 530), ('and', 531), ('honest', 532), ('stoned', 533), ('discreet', 534), ('pull', 535), ('blind', 536), ('started', 537), ('smiled', 538), ('worked', 539), ('attack', 540), ('liar', 541), ('fire', 542), ('ran', 543), ('obey', 544), ('thin', 545), ('arm', 546), ('thorough', 547), ('amazing', 548), ('hat', 549), ('sue', 550), ('answer', 551), ('today', 552), ('shaken', 553), ('hers', 554), ('weve', 555), ('friendly', 556), ('eggs', 557), ('youll', 558), ('tv', 559), ('warm', 560), ('duty', 561), ('canceled', 562), ('messed', 563), ('finicky', 564), ('forgive', 565), ('worried', 566), ('men', 567), ('shoot', 568), ('mind', 569), ('struggled', 570), ('wet', 571), ('outrank', 572), ('cheerful', 573), ('music', 574), ('promised', 575), ('everybody', 576), ('married', 577), ('helps', 578), ('welcome', 579), ('begin', 580), ('insane', 581), ('creative', 582), ('yelling', 583), ('doors', 584), ('broken', 585), ('afraid', 586), ('much', 587), ('fly', 588), ('believed', 589), ('bald', 590), ('starved', 591), ('shall', 592), ('surrendered', 593), ('kept', 594), ('doesnt', 595), ('loaded', 596), ('confused', 597), ('coffee', 598), ('trusts', 599), ('friends', 600), ('escaped', 601), ('meant', 602), ('oh', 603), ('war', 604), ('ruined', 605), ('red', 606), ('missed', 607), ('our', 608), ('hide', 609), ('admire', 610), ('denied', 611), ('slept', 612), ('ruthless', 613), ('fed', 614), ('hugged', 615), ('stinks', 616), ('twins', 617), ('fighting', 618), ('worry', 619), ('goodbye', 620), ('fool', 621), ('alike', 622), ('real', 623), ('simple', 624), ('myself', 625), ('remain', 626), ('exhausted', 627), ('boston', 628), ('useless', 629), ('boring', 630), ('dirty', 631), ('confident', 632), ('divorced', 633), ('resist', 634), ('put', 635), ('crashed', 636), ('rested', 637), ('act', 638), ('song', 639), ('sharp', 640), ('empty', 641), ('excuse', 642), ('cats', 643), ('warn', 644), ('face', 645), ('someone', 646), ('bet', 647), ('smashed', 648), ('curious', 649), ('comes', 650), ('perfect', 651), ('wheres', 652), ('favor', 653), ('ashamed', 654), ('terrible', 655), ('plans', 656), ('wrote', 657), ('fussy', 658), ('cake', 659), ('twin', 660), ('asked', 661), ('proceed', 662), ('dieting', 663), ('list', 664), ('stubborn', 665), ('chuckled', 666), ('strict', 667), ('smells', 668), ('throw', 669), ('content', 670), ('god', 671), ('shocked', 672), ('hideous', 673), ('cancel', 674), ('dumb', 675), ('cancer', 676), ('built', 677), ('smiling', 678), ('smoking', 679), ('failed', 680), ('baffled', 681), ('clue', 682), ('ice', 683), ('while', 684), ('believe', 685), ('moved', 686), ('objective', 687), ('rescued', 688), ('winter', 689), ('stood', 690), ('vulgar', 691), ('milk', 692), ('thirsty', 693), ('owe', 694), ('those', 695), ('manage', 696), ('annoy', 697), ('phoned', 698), ('creepy', 699), ('dream', 700), ('girls', 701), ('refuse', 702), ('ended', 703), ('pretty', 704), ('odd', 705), ('stayed', 706), ('poor', 707), ('arent', 708), ('clear', 709), ('misled', 710), ('bright', 711), ('happen', 712), ('warned', 713), ('everything', 714), ('cheat', 715), ('leak', 716), ('eating', 717), ('cares', 718), ('raise', 719), ('ski', 720), ('hurried', 721), ('proof', 722), ('town', 723), ('volunteered', 724), ('argue', 725), ('faster', 726), ('blue', 727), ('wish', 728), ('quick', 729), ('aside', 730), ('grew', 731), ('fooled', 732), ('addicted', 733), ('grumpy', 734), ('burn', 735), ('whose', 736), ('word', 737), ('greedy', 738), ('apologized', 739), ('leaving', 740), ('thief', 741), ('biased', 742), ('unhappy', 743), ('nose', 744), ('silent', 745), ('wealthy', 746), ('guns', 747), ('fall', 748), ('fruit', 749), ('pain', 750), ('voted', 751), ('dinner', 752), ('command', 753), ('bless', 754), ('horse', 755), ('stir', 756), ('count', 757), ('timing', 758), ('child', 759), ('wash', 760), ('glad', 761), ('snap', 762), ('law', 763), ('art', 764), ('full', 765), ('grateful', 766), ('fail', 767), ('runs', 768), ('beautiful', 769), ('dark', 770), ('treat', 771), ('teach', 772), ('tomorrow', 773), ('split', 774), ('long', 775), ('obeyed', 776), ('explain', 777), ('screaming', 778), ('says', 779), ('giddy', 780), ('unfair', 781), ('recess', 782), ('bragging', 783), ('object', 784), ('fainted', 785), ('game', 786), ('chose', 787), ('waste', 788), ('studying', 789), ('handled', 790), ('pale', 791), ('sense', 792), ('small', 793), ('course', 794), ('rid', 795), ('pitch', 796), ('exciting', 797), ('arrived', 798), ('idiot', 799), ('watchful', 800), ('adores', 801), ('blame', 802), ('bath', 803), ('okay', 804), ('succeeded', 805), ('lovely', 806), ('sec', 807), ('share', 808), ('bite', 809), ('resigned', 810), ('pack', 811), ('bury', 812), ('selfish', 813), ('recovered', 814), ('clearly', 815), ('feels', 816), ('sang', 817), ('which', 818), ('refused', 819), ('thatll', 820), ('fixed', 821), ('powerful', 822), ('often', 823), ('heard', 824), ('kite', 825), ('faint', 826), ('team', 827), ('respectful', 828), ('used', 829), ('mature', 830), ('sloshed', 831), ('any', 832), ('shoes', 833), ('night', 834), ('control', 835), ('along', 836), ('aim', 837), ('envy', 838), ('pass', 839), ('soup', 840), ('high', 841), ('pregnant', 842), ('meat', 843), ('screamed', 844), ('replace', 845), ('sent', 846), ('grow', 847), ('wolf', 848), ('theres', 849), ('risk', 850), ('wipe', 851), ('stole', 852), ('tries', 853), ('certain', 854), ('intervened', 855), ('squinted', 856), ('everyones', 857), ('digging', 858), ('starving', 859), ('freaked', 860), ('baby', 861), ('loud', 862), ('climbing', 863), ('dozed', 864), ('movies', 865), ('always', 866), ('cheers', 867), ('killed', 868), ('box', 869), ('twice', 870), ('alert', 871), ('farmer', 872), ('dessert', 873), ('dreaming', 874), ('feet', 875), ('artist', 876), ('happens', 877), ('guy', 878), ('choose', 879), ('means', 880), ('flinched', 881), ('jealous', 882), ('minute', 883), ('buying', 884), ('two', 885), ('attentive', 886), ('survive', 887), ('cooking', 888), ('agreed', 889), ('guys', 890), ('precise', 891), ('translate', 892), ('yelled', 893), ('offended', 894), ('pipe', 895), ('duck', 896), ('pigs', 897), ('packing', 898), ('popular', 899), ('became', 900), ('writing', 901), ('larger', 902), ('hiring', 903), ('laugh', 904), ('scam', 905), ('rifle', 906), ('wife', 907), ('forgot', 908), ('stopped', 909), ('destroy', 910), ('rush', 911), ('chubby', 912), ('or', 913), ('pathetic', 914), ('redundant', 915), ('arguing', 916), ('pen', 917), ('pushing', 918), ('speaking', 919), ('marry', 920), ('apologize', 921), ('unmoved', 922), ('bigot', 923), ('doll', 924), ('ignored', 925), ('blessed', 926), ('hiking', 927), ('harder', 928), ('facts', 929), ('bunch', 930), ('draw', 931), ('map', 932), ('through', 933), ('forgetful', 934), ('heres', 935), ('honored', 936), ('jerk', 937), ('counting', 938), ('promise', 939), ('depressed', 940), ('amused', 941), ('overslept', 942), ('aboard', 943), ('card', 944), ('giggled', 945), ('friend', 946), ('till', 947), ('six', 948), ('fact', 949), ('far', 950), ('rice', 951), ('sued', 952), ('saint', 953), ('stuffed', 954), ('canadian', 955), ('meter', 956), ('flowers', 957), ('watching', 958), ('girl', 959), ('only', 960), ('outdated', 961), ('fantastic', 962), ('prude', 963), ('stink', 964), ('involved', 965), ('leg', 966), ('end', 967), ('moment', 968), ('pig', 969), ('obvious', 970), ('swam', 971), ('seize', 972), ('ought', 973), ('number', 974), ('winced', 975), ('welcomed', 976), ('behind', 977), ('wicked', 978), ('woman', 979), ('paying', 980), ('survived', 981), ('single', 982), ('supportive', 983), ('return', 984), ('robbed', 985), ('seal', 986), ('lighten', 987), ('waited', 988), ('staying', 989), ('birds', 990), ('fan', 991), ('excused', 992), ('mess', 993), ('sensible', 994), ('turned', 995), ('sleeping', 996), ('whistling', 997), ('fever', 998), ('fold', 999), ('plays', 1000), ('observant', 1001), ('notes', 1002), ('air', 1003), ('fret', 1004), ('week', 1005), ('cookies', 1006), ('trusted', 1007), ('quietly', 1008), ('been', 1009), ('takes', 1010), ('legal', 1011), ('ball', 1012), ('van', 1013), ('wise', 1014), ('beg', 1015), ('disagreed', 1016), ('noticed', 1017), ('flies', 1018), ('loyal', 1019), ('dry', 1020), ('cup', 1021), ('stabbed', 1022), ('biting', 1023), ('cringed', 1024), ('special', 1025), ('donut', 1026), ('psychic', 1027), ('third', 1028), ('cheered', 1029), ('caution', 1030), ('nodding', 1031), ('huge', 1032), ('guts', 1033), ('nerve', 1034), ('senior', 1035), ('low', 1036), ('queasy', 1037), ('protest', 1038), ('elected', 1039), ('sober', 1040), ('sand', 1041), ('english', 1042), ('west', 1043), ('hung', 1044), ('shake', 1045), ('snowing', 1046), ('own', 1047), ('rose', 1048), ('blow', 1049), ('exhale', 1050), ('trap', 1051), ('unarmed', 1052), ('prefer', 1053), ('black', 1054), ('heroes', 1055), ('aah', 1056), ('standing', 1057), ('cousins', 1058), ('scream', 1059), ('brain', 1060), ('spring', 1061), ('wow', 1062), ('driven', 1063), ('quitter', 1064), ('callous', 1065), ('scares', 1066), ('fox', 1067), ('table', 1068), ('relented', 1069), ('idiots', 1070), ('walks', 1071), ('together', 1072), ('snack', 1073), ('racist', 1074), ('downstairs', 1075), ('convinced', 1076), ('washed', 1077), ('deny', 1078), ('grounded', 1079), ('weapon', 1080), ('wide', 1081), ('pooped', 1082), ('refugees', 1083), ('scary', 1084), ('polite', 1085), ('allow', 1086), ('snore', 1087), ('fishing', 1088), ('type', 1089), ('sweated', 1090), ('disappeared', 1091), ('green', 1092), ('cows', 1093), ('plumber', 1094), ('immoral', 1095), ('tragic', 1096), ('makes', 1097), ('cop', 1098), ('star', 1099), ('viral', 1100), ('ring', 1101), ('garbage', 1102), ('talks', 1103), ('morning', 1104), ('diabetic', 1105), ('even', 1106), ('bag', 1107), ('symptoms', 1108), ('vary', 1109), ('remarried', 1110), ('belong', 1111), ('rumor', 1112), ('cough', 1113), ('prove', 1114), ('obedient', 1115), ('romantic', 1116), ('numb', 1117), ('fad', 1118), ('american', 1119), ('hesitated', 1120), ('point', 1121), ('bargain', 1122), ('youd', 1123), ('reliable', 1124), ('sincere', 1125), ('flaw', 1126), ('touchy', 1127), ('loser', 1128), ('clap', 1129), ('boys', 1130), ('also', 1131), ('pizza', 1132), ('alright', 1133), ('poet', 1134), ('fearless', 1135), ('apart', 1136), ('helping', 1137), ('puzzled', 1138), ('chicken', 1139), ('uneasy', 1140), ('release', 1141), ('archaic', 1142), ('golf', 1143), ('dislike', 1144), ('hiding', 1145), ('evident', 1146), ('year', 1147), ('paint', 1148), ('resilient', 1149), ('line', 1150), ('strange', 1151), ('almost', 1152), ('drowning', 1153), ('lame', 1154), ('jazz', 1155), ('approved', 1156), ('happened', 1157), ('adorable', 1158), ('apples', 1159), ('things', 1160), ('demented', 1161), ('annoying', 1162), ('pity', 1163), ('grinned', 1164), ('tempted', 1165), ('thrilled', 1166), ('lion', 1167), ('genuine', 1168), ('psyched', 1169), ('foot', 1170), ('remembers', 1171), ('tastes', 1172), ('differ', 1173), ('brand', 1174), ('circle', 1175), ('rather', 1176), ('growing', 1177), ('cranky', 1178), ('schools', 1179), ('brought', 1180), ('day', 1181), ('crime', 1182), ('cab', 1183), ('voting', 1184), ('later', 1185), ('body', 1186), ('panting', 1187), ('walking', 1188), ('ones', 1189), ('nailed', 1190), ('exhaled', 1191), ('bread', 1192), ('reasonable', 1193), ('humming', 1194), ('listening', 1195), ('women', 1196), ('slipping', 1197), ('clock', 1198), ('sounds', 1199), ('funds', 1200), ('exercised', 1201), ('bluffing', 1202), ('sell', 1203), ('shower', 1204), ('family', 1205), ('outgoing', 1206), ('learn', 1207), ('hogwash', 1208), ('monday', 1209), ('handle', 1210), ('phony', 1211), ('adore', 1212), ('sells', 1213), ('bike', 1214), ('deserve', 1215), ('muslim', 1216), ('morons', 1217), ('despise', 1218), ('horrible', 1219), ('pray', 1220), ('kicked', 1221), ('shooting', 1222), ('ears', 1223), ('matters', 1224), ('engaged', 1225), ('teacher', 1226), ('beaten', 1227), ('complained', 1228), ('gets', 1229), ('drove', 1230), ('attend', 1231), ('bird', 1232), ('confessed', 1233), ('thought', 1234), ('travel', 1235), ('blushed', 1236), ('roses', 1237), ('judge', 1238), ('generous', 1239), ('wheel', 1240), ('qualified', 1241), ('humble', 1242), ('when', 1243), ('intrigued', 1244), ('sinking', 1245), ('protested', 1246), ('outraged', 1247), ('laughing', 1248), ('untalented', 1249), ('doubts', 1250), ('sugar', 1251), ('fasting', 1252), ('taxi', 1253), ('wonder', 1254), ('iron', 1255), ('plants', 1256), ('history', 1257), ('complain', 1258), ('dreams', 1259), ('prosper', 1260), ('details', 1261), ('helpless', 1262), ('vegan', 1263), ('evil', 1264), ('snickered', 1265), ('dazzled', 1266), ('gift', 1267), ('goes', 1268), ('blood', 1269), ('comment', 1270), ('fault', 1271), ('cookie', 1272), ('830', 1273), ('blinked', 1274), ('drugged', 1275), ('student', 1276), ('aint', 1277), ('dice', 1278), ('gambler', 1279), ('disgusted', 1280), ('bananas', 1281), ('swiss', 1282), ('finally', 1283), ('foggy', 1284), ('unfazed', 1285), ('disgust', 1286), ('second', 1287), ('slouch', 1288), ('bogus', 1289), ('examine', 1290), ('camels', 1291), ('rules', 1292), ('swore', 1293), ('realistic', 1294), ('understand', 1295), ('tidy', 1296), ('unhurt', 1297), ('contented', 1298), ('insecure', 1299), ('pleased', 1300), ('flat', 1301), ('oven', 1302), ('record', 1303), ('rental', 1304), ('stare', 1305), ('snowed', 1306), ('bribed', 1307), ('genius', 1308), ('concerned', 1309), ('same', 1310), ('respect', 1311), ('surrender', 1312), ('japanese', 1313), ('stick', 1314), ('complex', 1315), ('scare', 1316), ('impatient', 1317), ('model', 1318), ('nauseous', 1319), ('logical', 1320), ('designed', 1321), ('dancer', 1322), ('rope', 1323), ('carefully', 1324), ('insist', 1325), ('spitting', 1326), ('staggered', 1327), ('dehydrated', 1328), ('safer', 1329), ('neat', 1330), ('imbecile', 1331), ('name', 1332), ('hey', 1333), ('comfort', 1334), ('turtles', 1335), ('surprise', 1336), ('tease', 1337), ('surfer', 1338), ('baking', 1339), ('avoids', 1340), ('enemies', 1341), ('inhaled', 1342), ('fascinated', 1343), ('motivated', 1344), ('stroke', 1345), ('tripped', 1346), ('arrested', 1347), ('bark', 1348), ('hair', 1349), ('smarter', 1350), ('bedtime', 1351), ('exercise', 1352), ('teasing', 1353), ('bummer', 1354), ('scoot', 1355), ('ink', 1356), ('lawyers', 1357), ('shrugged', 1358), ('struggle', 1359), ('freezing', 1360), ('beauty', 1361), ('managing', 1362), ('safely', 1363), ('somebody', 1364), ('taxes', 1365), ('dedicated', 1366), ('deer', 1367), ('bleeding', 1368), ('dope', 1369), ('locked', 1370), ('surprised', 1371), ('teased', 1372), ('superb', 1373), ('holiday', 1374), ('angel', 1375), ('careless', 1376), ('blindfold', 1377), ('important', 1378), ('decorated', 1379), ('obese', 1380), ('nodded', 1381), ('people', 1382), ('heroic', 1383), ('crept', 1384), ('truth', 1385), ('bell', 1386), ('captured', 1387), ('ironic', 1388), ('tempt', 1389), ('frantic', 1390), ('prices', 1391), ('sexy', 1392), ('guessed', 1393), ('below', 1394), ('books', 1395), ('gag', 1396), ('hunk', 1397), ('barked', 1398), ('doubt', 1399), ('myth', 1400), ('secrets', 1401), ('reformed', 1402), ('half', 1403), ('doable', 1404), ('page', 1405), ('sync', 1406), ('peas', 1407), ('dislikes', 1408), ('doomed', 1409), ('answers', 1410), ('cured', 1411), ('parties', 1412), ('house', 1413), ('ticklish', 1414), ('film', 1415), ('kick', 1416), ('ladies', 1417), ('shouting', 1418), ('saturday', 1419), ('choice', 1420), ('slob', 1421), ('peace', 1422), ('dj', 1423), ('chill', 1424), ('bore', 1425), ('whistled', 1426), ('legibly', 1427), ('escaping', 1428), ('wary', 1429), ('breath', 1430), ('enlisted', 1431), ('lies', 1432), ('wholl', 1433), ('bled', 1434), ('afternoon', 1435), ('chance', 1436), ('miracle', 1437), ('nerd', 1438), ('enter', 1439), ('glum', 1440), ('ride', 1441), ('copy', 1442), ('corrected', 1443), ('undressing', 1444), ('panic', 1445), ('homemade', 1446), ('deep', 1447), ('brakes', 1448), ('scammed', 1449), ('scolded', 1450), ('elusive', 1451), ('rule', 1452), ('pool', 1453), ('lawyer', 1454), ('lives', 1455), ('borrowed', 1456), ('college', 1457), ('member', 1458), ('drives', 1459), ('earlier', 1460), ('lead', 1461), ('dangerous', 1462), ('unlock', 1463), ('before', 1464), ('watched', 1465), ('gasped', 1466), ('next', 1467), ('jumped', 1468), ('mama', 1469), ('asthma', 1470), ('rewrote', 1471), ('jesus', 1472), ('wept', 1473), ('poetry', 1474), ('immune', 1475), ('names', 1476), ('unbiased', 1477), ('anyway', 1478), ('party', 1479), ('approve', 1480), ('rescheduled', 1481), ('oppose', 1482), ('mug', 1483), ('retiring', 1484), ('mail', 1485), ('stalled', 1486), ('hiccup', 1487), ('remembered', 1488), ('smelled', 1489), ('charge', 1490), ('doing', 1491), ('nap', 1492), ('hands', 1493), ('panicked', 1494), ('sunk', 1495), ('focus', 1496), ('dare', 1497), ('pardoned', 1498), ('dig', 1499), ('urgent', 1500), ('expecting', 1501), ('support', 1502), ('budge', 1503), ('winded', 1504), ('beans', 1505), ('rational', 1506), ('thisll', 1507), ('deserved', 1508), ('wax', 1509), ('floor', 1510), ('road', 1511), ('bought', 1512), ('autumn', 1513), ('joined', 1514), ('shock', 1515), ('plead', 1516), ('truck', 1517), ('whining', 1518), ('snow', 1519), ('pouting', 1520), ('furious', 1521), ('99', 1522), ('humor', 1523), ('class', 1524), ('flunk', 1525), ('settle', 1526), ('stealing', 1527), ('pinched', 1528), ('retaliated', 1529), ('snob', 1530), ('goofed', 1531), ('secret', 1532), ('wimped', 1533), ('barbaric', 1534), ('siren', 1535), ('blew', 1536), ('bottoms', 1537), ('video', 1538), ('lip', 1539), ('interested', 1540), ('mom', 1541), ('asian', 1542), ('yawning', 1543), ('talented', 1544), ('reserved', 1545), ('reborn', 1546), ('cow', 1547), ('screwed', 1548), ('honk', 1549), ('horn', 1550), ('east', 1551), ('whatll', 1552), ('specific', 1553), ('singer', 1554), ('guide', 1555), ('contributed', 1556), ('sweep', 1557), ('ramble', 1558), ('coward', 1559), ('across', 1560), ('file', 1561), ('coat', 1562), ('rock', 1563), ('suntan', 1564), ('forward', 1565), ('sniffling', 1566), ('different', 1567), ('add', 1568), ('higher', 1569), ('ham', 1570), ('eaten', 1571), ('gloat', 1572), ('included', 1573), ('powerless', 1574), ('piano', 1575), ('puzzles', 1576), ('ambitious', 1577), ('prepare', 1578), ('something', 1579), ('choked', 1580), ('homesick', 1581), ('stumped', 1582), ('seemed', 1583), ('groaned', 1584), ('upbeat', 1585), ('snoring', 1586), ('caused', 1587), ('large', 1588), ('magic', 1589), ('astonished', 1590), ('warmer', 1591), ('froze', 1592), ('possible', 1593), ('missing', 1594), ('speed', 1595), ('futon', 1596), ('clapping', 1597), ('cars', 1598), ('frank', 1599), ('straighten', 1600), ('dvd', 1601), ('another', 1602), ('cooked', 1603), ('voices', 1604), ('guest', 1605), ('already', 1606), ('grumbling', 1607), ('drowned', 1608), ('spies', 1609), ('picture', 1610), ('beside', 1611), ('cooks', 1612), ('breathe', 1613), ('maid', 1614), ('falling', 1615), ('quibbling', 1616), ('avoid', 1617), ('clichã©s', 1618), ('nonsense', 1619), ('thinking', 1620), ('baker', 1621), ('uninsured', 1622), ('bitter', 1623), ('beef', 1624), ('charlatan', 1625), ('recycle', 1626), ('committed', 1627), ('offer', 1628), ('jogging', 1629), ('vanished', 1630), ('oldest', 1631), ('spot', 1632), ('relief', 1633), ('raining', 1634), ('hoot', 1635), ('wednesday', 1636), ('buried', 1637), ('searching', 1638), ('danger', 1639), ('thinks', 1640), ('unharmed', 1641), ('gamble', 1642), ('thirty', 1643), ('bossy', 1644), ('little', 1645), ('skating', 1646), ('blast', 1647), ('radio', 1648), ('mistaken', 1649), ('dies', 1650), ('betrayed', 1651), ('meet', 1652), ('knife', 1653), ('listened', 1654), ('desperate', 1655), ('monk', 1656), ('sighed', 1657), ('bores', 1658), ('wig', 1659), ('summer', 1660), ('prison', 1661), ('dependable', 1662), ('worse', 1663), ('test', 1664), ('else', 1665), ('impolite', 1666), ('speechless', 1667), ('spy', 1668), ('moaned', 1669), ('would', 1670), ('terrified', 1671), ('review', 1672), ('feed', 1673), ('dress', 1674), ('amusing', 1675), ('tense', 1676), ('cheap', 1677), ('older', 1678), ('wasted', 1679), ('plug', 1680), ('miserable', 1681), ('devastated', 1682), ('playing', 1683), ('light', 1684), ('staring', 1685), ('train', 1686), ('braces', 1687), ('soaked', 1688), ('wounded', 1689), ('skip', 1690), ('chess', 1691), ('shrieked', 1692), ('questions', 1693), ('juggle', 1694), ('unscrew', 1695), ('rights', 1696), ('obscene', 1697), ('musician', 1698), ('rat', 1699), ('30', 1700), ('south', 1701), ('stories', 1702), ('waved', 1703), ('attacked', 1704), ('expelled', 1705), ('if', 1706), ('contagious', 1707), ('worrying', 1708), ('visa', 1709), ('security', 1710), ('looking', 1711), ('white', 1712), ('rushed', 1713), ('diary', 1714), ('absurd', 1715), ('doctors', 1716), ('vague', 1717), ('admired', 1718), ('futile', 1719), ('bowl', 1720), ('choking', 1721), ('drag', 1722), ('homeless', 1723), ('crude', 1724), ('despair', 1725), ('bach', 1726), ('amazed', 1727), ('skate', 1728), ('tower', 1729), ('annoys', 1730), ('awkward', 1731), ('succeed', 1732), ('lit', 1733), ('gambling', 1734), ('detained', 1735), ('puppy', 1736), ('overworked', 1737), ('picnics', 1738), ('hop', 1739), ('hustling', 1740), ('cultured', 1741), ('curse', 1742), ('dressed', 1743), ('firing', 1744), ('cd', 1745), ('sobbing', 1746), ('similar', 1747), ('continue', 1748), ('cloudy', 1749), ('tourist', 1750), ('jokes', 1751), ('grumbled', 1752), ('calmly', 1753), ('author', 1754), ('gossip', 1755), ('pro', 1756), ('sold', 1757), ('anything', 1758), ('leo', 1759), ('neutral', 1760), ('gas', 1761), ('healthy', 1762), ('bites', 1763), ('thrilling', 1764), ('matter', 1765), ('impulsive', 1766), ('cracked', 1767), ('icky', 1768), ('hopeless', 1769), ('fiasco', 1770), ('closer', 1771), ('tigers', 1772), ('purr', 1773), ('pony', 1774), ('urge', 1775), ('eighteen', 1776), ('forgotten', 1777), ('minors', 1778), ('reply', 1779), ('salesman', 1780), ('advice', 1781), ('understood', 1782), ('texted', 1783), ('crowds', 1784), ('insulin', 1785), ('games', 1786), ('tummy', 1787), ('group', 1788), ('firefly', 1789), ('badly', 1790), ('gazed', 1791), ('uncle', 1792), ('mahjong', 1793), ('oysters', 1794), ('radical', 1795), ('taller', 1796), ('sir', 1797), ('against', 1798), ('sitting', 1799), ('swims', 1800), ('mistake', 1801), ('times', 1802), ('livid', 1803), ('lobster', 1804), ('lasts', 1805), ('types', 1806), ('painted', 1807), ('matured', 1808), ('hives', 1809), ('mice', 1810), ('respects', 1811), ('meditating', 1812), ('advises', 1813), ('lend', 1814), ('flu', 1815), ('exaggerated', 1816), ('timid', 1817), ('form', 1818), ('lines', 1819), ('loss', 1820), ('wins', 1821), ('undamaged', 1822), ('dropped', 1823), ('birthday', 1824), ('animals', 1825), ('surgery', 1826), ('ditched', 1827), ('ow', 1828), ('objected', 1829), ('sniffed', 1830), ('methodical', 1831), ('elk', 1832), ('lousy', 1833), ('stalling', 1834), ('ghosts', 1835), ('exist', 1836), ('helpful', 1837), ('tooth', 1838), ('killer', 1839), ('admit', 1840), ('hungarian', 1841), ('minister', 1842), ('lips', 1843), ('chased', 1844), ('muddy', 1845), ('false', 1846), ('korean', 1847), ('couple', 1848), ('orders', 1849), ('classic', 1850), ('stronger', 1851), ('quite', 1852), ('borrow', 1853), ('insulted', 1854), ('medic', 1855), ('flying', 1856), ('rocks', 1857), ('yellow', 1858), ('muffins', 1859), ('rebel', 1860), ('devoted', 1861), ('space', 1862), ('seasick', 1863), ('knit', 1864), ('parody', 1865), ('inspiring', 1866), ('sun', 1867), ('gargled', 1868), ('carry', 1869), ('slapped', 1870), ('diplomatic', 1871), ('exercises', 1872), ('cds', 1873), ('agony', 1874), ('boats', 1875), ('sink', 1876), ('saying', 1877), ('cities', 1878), ('midnight', 1879), ('cheese', 1880), ('5', 1881), ('stoic', 1882), ('adopted', 1883), ('sympathize', 1884), ('threw', 1885), ('ghost', 1886), ('insects', 1887), ('noisy', 1888), ('math', 1889), ('honor', 1890), ('forbid', 1891), ('roof', 1892), ('leaks', 1893), ('rear', 1894), ('lift', 1895), ('mishap', 1896), ('motion', 1897), ('unlikely', 1898), ('sobbed', 1899), ('nasty', 1900), ('obeys', 1901), ('press', 1902), ('unkempt', 1903), ('efficient', 1904), ('unwell', 1905), ('holidays', 1906), ('charming', 1907), ('fork', 1908), ('worthless', 1909), ('respond', 1910), ('gold', 1911), ('keys', 1912), ('needy', 1913), ('window', 1914), ('65', 1915), ('faithful', 1916), ('filming', 1917), ('common', 1918), ('famished', 1919), ('goal', 1920), ('330', 1921), ('framed', 1922), ('fled', 1923), ('making', 1924), ('surviving', 1925), ('plant', 1926), ('survivor', 1927), ('sass', 1928), ('unmarried', 1929), ('stutters', 1930), ('elderly', 1931), ('violin', 1932), ('agent', 1933), ('dishonest', 1934), ('nature', 1935), ('abandon', 1936), ('ship', 1937), ('enjoyed', 1938), ('asap', 1939), ('played', 1940), ('delighted', 1941), ('strike', 1942), ('soldier', 1943), ('improve', 1944), ('owes', 1945), ('ached', 1946), ('illegal', 1947), ('banana', 1948), ('attention', 1949), ('crew', 1950), ('perceptive', 1951), ('years', 1952), ('passed', 1953), ('order', 1954), ('checked', 1955), ('hint', 1956), ('nail', 1957), ('harm', 1958), ('tapes', 1959), ('theirs', 1960), ('serve', 1961), ('shout', 1962), ('ambush', 1963), ('yawned', 1964), ('shaving', 1965), ('scold', 1966), ('adaptable', 1967), ('sensitive', 1968), ('maybe', 1969), ('offduty', 1970), ('songs', 1971), ('disgusting', 1972), ('caviar', 1973), ('their', 1974), ('trainee', 1975), ('sings', 1976), ('sickens', 1977), ('drown', 1978), ('satisfied', 1979), ('moron', 1980), ('19', 1981), ('bear', 1982), ('17', 1983), ('cpr', 1984), ('cheats', 1985), ('spiders', 1986), ('decline', 1987), ('dived', 1988), ('upstate', 1989), ('predicted', 1990), ('henpecked', 1991), ('hailed', 1992), ('gawking', 1993), ('pair', 1994), ('clocks', 1995), ('poured', 1996), ('british', 1997), ('sneeze', 1998), ('suit', 1999), ('expert', 2000), ('prejudiced', 2001), ('mondays', 2002), ('atm', 2003), ('mooed', 2004), ('starve', 2005), ('whens', 2006), ('lefty', 2007), ('behave', 2008), ('grapes', 2009), ('ufo', 2010), ('goats', 2011), ('partners', 2012), ('poking', 2013), ('deeply', 2014), ('babies', 2015), ('absent', 2016), ('mock', 2017), ('sirens', 2018), ('brains', 2019), ('painful', 2020), ('lasagna', 2021), ('ford', 2022), ('orphan', 2023), ('human', 2024), ('nights', 2025), ('heal', 2026), ('brothers', 2027), ('saturn', 2028), ('volunteers', 2029), ('lungs', 2030), ('usually', 2031), ('force', 2032), ('troubled', 2033), ('restless', 2034), ('intruding', 2035), ('wind', 2036), ('christmas', 2037), ('eight', 2038), ('letdown', 2039), ('sashimi', 2040), ('flattered', 2041), ('suicide', 2042), ('resisting', 2043), ('baked', 2044), ('pie', 2045), ('autistic', 2046), ('fought', 2047), ('grouch', 2048), ('230', 2049), ('salmon', 2050), ('100', 2051), ('queen', 2052), ('tragedy', 2053), ('dentist', 2054), ('amuse', 2055), ('eats', 2056), ('poison', 2057), ('tofu', 2058), ('resentful', 2059), ('squash', 2060), ('legs', 2061), ('annoyed', 2062), ('prevail', 2063), ('adult', 2064), ('bankrupt', 2065), ('50', 2066), ('yen', 2067), ('tvs', 2068), ('occupied', 2069), ('harmless', 2070), ('anxious', 2071), ('gossiping', 2072), ('thud', 2073), ('causes', 2074), ('nobodys', 2075), ('country', 2076), ('reacted', 2077), ('damaged', 2078), ('drowsy', 2079), ('aches', 2080), ('itches', 2081), ('farted', 2082), ('tools', 2083), ('accept', 2084), ('setup', 2085), ('bilingual', 2086), ('assume', 2087), ('agrees', 2088), ('runner', 2089), ('classes', 2090), ('heart', 2091), ('trees', 2092), ('resent', 2093), ('lamp', 2094), ('russia', 2095), ('decided', 2096), ('related', 2097), ('easygoing', 2098), ('added', 2099), ('quitting', 2100), ('cleaned', 2101), ('ease', 2102), ('forbidden', 2103), ('expensive', 2104), ('spoiled', 2105), ('sneered', 2106), ('gate', 2107), ('horses', 2108), ('fatal', 2109), ('rain', 2110), ('sniffled', 2111), ('spam', 2112), ('draft', 2113), ('hearsay', 2114), ('data', 2115), ('fill', 2116), ('toys', 2117), ('tenure', 2118), ('poems', 2119), ('dating', 2120), ('suppose', 2121), ('soccer', 2122), ('bomb', 2123), ('cheer', 2124), ('snowman', 2125), ('rb', 2126), ('basic', 2127), ('ax', 2128), ('honey', 2129), ('began', 2130), ('chat', 2131), ('optimistic', 2132), ('730', 2133), ('overweight', 2134), ('risks', 2135), ('prepaid', 2136), ('justice', 2137), ('hottie', 2138), ('plane', 2139), ('jobs', 2140), ('warmly', 2141), ('coughed', 2142), ('slender', 2143), ('beyond', 2144), ('truthful', 2145), ('garlic', 2146), ('contact', 2147), ('crushed', 2148), ('sequel', 2149), ('tree', 2150), ('being', 2151), ('counts', 2152), ('todays', 2153), ('hectic', 2154), ('wear', 2155), ('glasses', 2156), ('part', 2157), ('trips', 2158), ('vegetarian', 2159), ('rugby', 2160), ('successful', 2161), ('price', 2162), ('backup', 2163), ('mull', 2164), ('slim', 2165), ('remodeling', 2166), ('having', 2167), ('heap', 2168), ('trash', 2169), ('responded', 2170), ('farsighted', 2171), ('near', 2172), ('ironing', 2173), ('arabs', 2174), ('melted', 2175), ('shuddered', 2176), ('bulky', 2177), ('untrue', 2178), ('above', 2179), ('punished', 2180), ('cusses', 2181), ('paddling', 2182), ('instinct', 2183), ('unemployed', 2184), ('mason', 2185), ('note', 2186), ('boat', 2187), ('rubbish', 2188), ('sushi', 2189), ('credible', 2190), ('recover', 2191), ('draws', 2192), ('coke', 2193), ('louder', 2194), ('sauce', 2195), ('spoon', 2196), ('guarantee', 2197), ('vibrating', 2198), ('clueless', 2199), ('grim', 2200), ('side', 2201), ('scorpio', 2202), ('impressed', 2203), ('cursed', 2204), ('begun', 2205), ('news', 2206), ('keeps', 2207), ('seafood', 2208), ('candy', 2209), ('prudish', 2210), ('robot', 2211), ('assumed', 2212), ('plastic', 2213), ('barber', 2214), ('beard', 2215), ('sisters', 2216), ('adults', 2217), ('poker', 2218), ('crook', 2219), ('shouted', 2220), ('hoax', 2221), ('shopping', 2222), ('testify', 2223), ('zealots', 2224), ('rare', 2225), ('parole', 2226), ('desk', 2227), ('pun', 2228), ('glue', 2229), ('shivered', 2230), ('cooperate', 2231), ('widow', 2232), ('almonds', 2233), ('vain', 2234), ('memo', 2235), ('science', 2236), ('whatd', 2237), ('taurus', 2238), ('talent', 2239), ('sweating', 2240), ('flip', 2241), ('coin', 2242), ('disagree', 2243), ('trains', 2244), ('landed', 2245), ('merchant', 2246), ('cups', 2247), ('hairs', 2248), ('skeptical', 2249), ('north', 2250), ('riddance', 2251), ('stiffened', 2252), ('firefox', 2253), ('felon', 2254), ('yacht', 2255), ('illiterate', 2256), ('disagrees', 2257), ('untie', 2258), ('suicidal', 2259), ('frowning', 2260), ('priest', 2261), ('solid', 2262), ('pompous', 2263), ('beware', 2264), ('somber', 2265), ('cage', 2266), ('paris', 2267), ('opera', 2268), ('ovens', 2269), ('sunsets', 2270), ('limps', 2271), ('nearly', 2272), ('stuff', 2273), ('canned', 2274), ('delicious', 2275), ('hypocrite', 2276), ('snag', 2277), ('escape', 2278), ('gloated', 2279), ('maps', 2280), ('rip', 2281), ('joints', 2282), ('ache', 2283), ('mortal', 2284), ('jittery', 2285), ('identify', 2286), ('cuff', 2287), ('heel', 2288), ('coach', 2289), ('barefoot', 2290), ('stable', 2291), ('dude', 2292), ('dug', 2293), ('hole', 2294), ('hungover', 2295), ('cream', 2296), ('outdoors', 2297), ('jelly', 2298), ('approves', 2299), ('grass', 2300), ('giant', 2301), ('clues', 2302), ('surgeon', 2303), ('rebuild', 2304), ('insisted', 2305), ('bounce', 2306), ('pear', 2307), ('writer', 2308), ('bloom', 2309), ('opposed', 2310), ('gemini', 2311), ('gasps', 2312), ('winner', 2313), ('rad', 2314), ('suits', 2315), ('diet', 2316), ('bonus', 2317), ('hiccups', 2318), ('tan', 2319), ('flew', 2320), ('cleaning', 2321), ('appeared', 2322), ('braked', 2323), ('waiting', 2324), ('aloud', 2325), ('meek', 2326), ('unlocked', 2327), ('faking', 2328), ('taken', 2329), ('drinks', 2330), ('likely', 2331), ('nurse', 2332), ('worn', 2333), ('scowling', 2334), ('wore', 2335), ('mask', 2336), ('testified', 2337), ('dinners', 2338), ('hip', 2339), ('park', 2340), ('pilot', 2341), ('chair', 2342), ('revolting', 2343), ('pudgy', 2344), ('healthily', 2345), ('prunes', 2346), ('cattle', 2347), ('paper', 2348), ('burns', 2349), ('gorgeous', 2350), ('embraced', 2351), ('crash', 2352), ('weighed', 2353), ('snores', 2354), ('jesuit', 2355), ('bat', 2356), ('liars', 2357), ('graduated', 2358), ('tensed', 2359), ('carrots', 2360), ('haircut', 2361), ('snubbed', 2362), ('quarreled', 2363), ('bacon', 2364), ('gross', 2365), ('winners', 2366), ('gambles', 2367), ('sheep', 2368), ('tricky', 2369), ('unsafe', 2370), ('carded', 2371), ('excon', 2372), ('revenge', 2373), ('shivering', 2374), ('hammered', 2375), ('thumbs', 2376), ('unkind', 2377), ('curt', 2378), ('outlaw', 2379), ('dump', 2380), ('steal', 2381), ('active', 2382), ('farts', 2383), ('grunted', 2384), ('castles', 2385), ('calls', 2386), ('exercising', 2387), ('cynical', 2388), ('listens', 2389), ('sundays', 2390), ('evening', 2391), ('plastered', 2392), ('freshman', 2393), ('fluke', 2394), ('planned', 2395), ('guests', 2396), ('stranded', 2397), ('overdosed', 2398), ('hell', 2399), ('describe', 2400), ('business', 2401), ('available', 2402), ('owns', 2403), ('few', 2404), ('itch', 2405), ('vision', 2406), ('peel', 2407), ('apple', 2408), ('honked', 2409), ('action', 2410), ('tycoon', 2411), ('sock', 2412), ('butchers', 2413), ('shovel', 2414), ('mums', 2415), ('risky', 2416), ('knits', 2417), ('issues', 2418), ('taboo', 2419), ('easily', 2420), ('snorted', 2421), ('violent', 2422), ('improvised', 2423), ('flag', 2424), ('scurvy', 2425), ('moody', 2426), ('spinach', 2427), ('beers', 2428), ('magical', 2429), ('flabby', 2430), ('hassle', 2431), ('arrogant', 2432), ('gullible', 2433), ('father', 2434), ('bowling', 2435), ('indecent', 2436), ('closed', 2437), ('whiff', 2438), ('looker', 2439), ('mocked', 2440), ('fleeced', 2441), ('karaoke', 2442), ('cared', 2443), ('actor', 2444), ('stamp', 2445), ('personal', 2446), ('hockey', 2447), ('blink', 2448), ('amnesia', 2449), ('purist', 2450), ('unstable', 2451), ('worth', 2452), ('students', 2453), ('then', 2454), ('words', 2455), ('frowned', 2456), ('obsolete', 2457), ('injured', 2458), ('sexist', 2459), ('acquired', 2460), ('cutie', 2461), ('tune', 2462), ('drew', 2463), ('online', 2464), ('litter', 2465), ('yourselves', 2466), ('japan', 2467)])"
      ]
     },
     "execution_count": 33,
     "metadata": {},
     "output_type": "execute_result"
    }
   ],
   "source": [
    "eng_tokenizer.word_index.items()"
   ]
  },
  {
   "cell_type": "markdown",
   "metadata": {},
   "source": [
    "### Making the functions to predict the sequence and BLEU_sccore"
   ]
  },
  {
   "cell_type": "code",
   "execution_count": 34,
   "metadata": {},
   "outputs": [],
   "source": [
    "def word_for_id(integer, tokenizer):\n",
    "    # map an integer to a word\n",
    "    for word, index in tokenizer.word_index.items():\n",
    "        if index == integer:\n",
    "            return word\n",
    "    return None\n",
    " \n",
    "def predict_seq(model, tokenizer, source):\n",
    "    # generate target from a source sequence\n",
    "    prediction = model.predict(source, verbose=0)[0]\n",
    "#     print(prediction)\n",
    "    integers = [np.argmax(vector) for vector in prediction]\n",
    "    target = list()\n",
    "#     print(integers,len(integers))\n",
    "    for i in integers:\n",
    "        if i!=0:\n",
    "            word = word_for_id(i, tokenizer)\n",
    "    #         print(word)\n",
    "            if word is None:\n",
    "                break\n",
    "            target.append(word)\n",
    "#     print(target)\n",
    "    return ' '.join(target)"
   ]
  },
  {
   "cell_type": "code",
   "execution_count": 35,
   "metadata": {},
   "outputs": [],
   "source": [
    "def bleu_score(model, tokenizer, sources, raw_dataset):\n",
    "    # Get the bleu score of a model\n",
    "    actual, predicted = [], []\n",
    "    for i, source in enumerate(sources):\n",
    "        # translate encoded source text\n",
    "#         print(source,source.shape)\n",
    "        source = source.reshape((1, source.shape[0]))\n",
    "        translation = predict_seq(model, tokenizer, source)\n",
    "#         print(translation,source)\n",
    "#         break\n",
    "        raw_target, raw_src = raw_dataset[i]\n",
    "        actual.append([raw_target.split()])\n",
    "        predicted.append(translation.split())\n",
    "        if i <= 10:\n",
    "            print('source = ',raw_src,'<--->', ' target = ',raw_target,'<--->','  predicted = ',translation)\n",
    "    # calculating BLEU score\n",
    "    print('-------------------------------------------')\n",
    "    print('BLEU Score :')\n",
    "    print('BLEU score-1: %f' % corpus_bleu(actual, predicted, weights=(1.0, 0, 0, 0),smoothing_function=smoothie,auto_reweigh=False))\n",
    "    print('BLEU score-2: %f' % corpus_bleu(actual, predicted, weights=(0.5, 0.5, 0, 0),smoothing_function=smoothie,auto_reweigh=False))\n",
    "    print('BLEU score-3: %f' % corpus_bleu(actual, predicted, weights=(0.3, 0.3, 0.3, 0),smoothing_function=smoothie,auto_reweigh=False))\n",
    "    print('BLEU score-4: %f' % corpus_bleu(actual, predicted, weights=(0.25, 0.25, 0.25, 0.25),smoothing_function=smoothie,auto_reweigh=False))"
   ]
  },
  {
   "cell_type": "markdown",
   "metadata": {},
   "source": [
    "### Evaluating the model on training dataset"
   ]
  },
  {
   "cell_type": "code",
   "execution_count": 36,
   "metadata": {},
   "outputs": [
    {
     "name": "stdout",
     "output_type": "stream",
     "text": [
      "source =  goã»te ã§a <--->  target =  taste this <--->   predicted =  taste this\n",
      "source =  estce que tom va bien  <--->  target =  is tom ok <--->   predicted =  is tom ok\n",
      "source =  vous aton tirã© dessus  <--->  target =  were you shot <--->   predicted =  were you shot\n",
      "source =  vous sentezvous seuleâ€¯ <--->  target =  are you lonely <--->   predicted =  are you lonely\n",
      "source =  jã©tais troisiã¨me <--->  target =  i was third <--->   predicted =  i was third\n",
      "source =  tom la pris <--->  target =  tom took it <--->   predicted =  tom took it\n",
      "source =  estu esseulã©â€¯ <--->  target =  are you lonely <--->   predicted =  are you lonely\n",
      "source =  rapprochezvous pour voir <--->  target =  look closer <--->   predicted =  look look closer\n",
      "source =  nous sommes toutes lã  <--->  target =  were all here <--->   predicted =  were all here\n",
      "source =  demandez ã  mes amis <--->  target =  ask my friends <--->   predicted =  ask my friends\n",
      "source =  je dã©teste repasser <--->  target =  i hate to iron <--->   predicted =  i hate to ironing\n",
      "-------------------------------------------\n",
      "BLEU Score :\n",
      "BLEU score-1: 0.943413\n",
      "BLEU score-2: 0.927688\n",
      "BLEU score-3: 0.827902\n",
      "BLEU score-4: 0.483549\n"
     ]
    }
   ],
   "source": [
    "bleu_score(model,eng_tokenizer,trainX,train)"
   ]
  },
  {
   "cell_type": "markdown",
   "metadata": {},
   "source": [
    "### Evaluating the model on testing dataset"
   ]
  },
  {
   "cell_type": "code",
   "execution_count": 37,
   "metadata": {},
   "outputs": [
    {
     "name": "stdout",
     "output_type": "stream",
     "text": [
      "source =  cest devenu viral <--->  target =  it went viral <--->   predicted =  he hurts that\n",
      "source =  vous avez lair malade <--->  target =  you look sick <--->   predicted =  you look tired\n",
      "source =  tom appellera <--->  target =  tomll call <--->   predicted =  is good\n",
      "source =  cest si triste <--->  target =  thats so sad <--->   predicted =  thats so cool\n",
      "source =  jai eu besoin daide <--->  target =  i needed help <--->   predicted =  i need help\n",
      "source =  ignoreles <--->  target =  ignore them <--->   predicted =  shut up\n",
      "source =  fermez la porte <--->  target =  shut the door <--->   predicted =  close the door\n",
      "source =  je ne suis pas seule <--->  target =  im not alone <--->   predicted =  im not alone\n",
      "source =  ã‡a aura lieu <--->  target =  itll happen <--->   predicted =  it smells work\n",
      "source =  ne souriez pas <--->  target =  dont smile <--->   predicted =  dont stop\n",
      "source =  il se pourrait que tom gagne <--->  target =  tom might win <--->   predicted =  tom may talk\n",
      "-------------------------------------------\n",
      "BLEU Score :\n",
      "BLEU score-1: 0.561334\n",
      "BLEU score-2: 0.453928\n",
      "BLEU score-3: 0.377101\n",
      "BLEU score-4: 0.176980\n"
     ]
    }
   ],
   "source": [
    "bleu_score(model, eng_tokenizer, testX, test)"
   ]
  }
 ],
 "metadata": {
  "colab": {
   "collapsed_sections": [],
   "name": "neural_machine_translation_notes.ipynb",
   "provenance": []
  },
  "kernelspec": {
   "display_name": "Python 3 (ipykernel)",
   "language": "python",
   "name": "python3"
  },
  "language_info": {
   "codemirror_mode": {
    "name": "ipython",
    "version": 3
   },
   "file_extension": ".py",
   "mimetype": "text/x-python",
   "name": "python",
   "nbconvert_exporter": "python",
   "pygments_lexer": "ipython3",
   "version": "3.9.7"
  }
 },
 "nbformat": 4,
 "nbformat_minor": 1
}
